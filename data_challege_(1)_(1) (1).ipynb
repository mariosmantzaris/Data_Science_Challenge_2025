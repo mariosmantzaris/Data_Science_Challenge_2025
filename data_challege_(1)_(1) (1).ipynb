{
  "cells": [
    {
      "cell_type": "markdown",
      "source": [
        "# **Text Classification of Product Descriptions Using TF-IDF and Log Loss Optimization**\n",
        "The aim of this work is to perform text preprocessing and **TF-IDF analysis** on **product ID** descriptions, which are associated with a total of **16 distinct labels**. The goal is to identify the model that, using TF-IDF features, **minimizes the log loss**."
      ],
      "metadata": {
        "id": "V9a5Xp1ENool"
      },
      "id": "V9a5Xp1ENool"
    },
    {
      "cell_type": "code",
      "execution_count": 1,
      "id": "8bad6d93",
      "metadata": {
        "id": "8bad6d93"
      },
      "outputs": [],
      "source": [
        "import csv\n",
        "import numpy as np\n"
      ]
    },
    {
      "cell_type": "markdown",
      "source": [
        "- the text file that contains the descriptions associated with the products' ids"
      ],
      "metadata": {
        "id": "khvq1fN8OnX3"
      },
      "id": "khvq1fN8OnX3"
    },
    {
      "cell_type": "code",
      "execution_count": null,
      "id": "717e45ae",
      "metadata": {
        "id": "717e45ae"
      },
      "outputs": [],
      "source": [
        "descriptions = dict()\n",
        "with open(r\"/description.txt\", \"r\") as f:\n",
        "    for line in f:\n",
        "        t = line.split('|=|')\n",
        "        descriptions[int(t[0])] = t[1][:-1]\n"
      ]
    },
    {
      "cell_type": "markdown",
      "source": [
        "---"
      ],
      "metadata": {
        "id": "k2-EK3oL45xI"
      },
      "id": "k2-EK3oL45xI"
    },
    {
      "cell_type": "markdown",
      "source": [
        "**TODO##**\n",
        "\n",
        "- library.py with the functions : ex. `clean_text_with_lemma`"
      ],
      "metadata": {
        "id": "ZnyVUOZ0O8Rq"
      },
      "id": "ZnyVUOZ0O8Rq"
    },
    {
      "cell_type": "code",
      "source": [
        "import re\n",
        "import string\n",
        "import spacy\n",
        "from spacy.lang.en.stop_words import STOP_WORDS\n"
      ],
      "metadata": {
        "id": "ebZpVv0596xU"
      },
      "id": "ebZpVv0596xU",
      "execution_count": null,
      "outputs": []
    },
    {
      "cell_type": "code",
      "source": [
        "\n",
        "# Load spaCy English model\n",
        "nlp = spacy.load(\"en_core_web_sm\")\n",
        "\n",
        "# Full NLP preprocessing function with lemmatization\n",
        "def clean_text_with_lemma(text):\n",
        "    # Lowercase\n",
        "    text = text.lower()\n",
        "    # Remove HTML tags\n",
        "    text = re.sub(r'<.*?>', ' ', text)\n",
        "    # Remove punctuation\n",
        "    text = text.translate(str.maketrans('', '', string.punctuation))\n",
        "    # Remove digits\n",
        "    text = re.sub(r'\\d+', '', text)\n",
        "\n",
        "    # Use spaCy to tokenize and lemmatize\n",
        "    doc = nlp(text)\n",
        "    tokens = [\n",
        "        token.lemma_.lower() for token in doc\n",
        "        if token.lemma_.lower() not in STOP_WORDS\n",
        "        and not token.is_punct\n",
        "        and not token.is_space\n",
        "        and not token.like_num\n",
        "    ]\n",
        "\n",
        "    return ' '.join(tokens)"
      ],
      "metadata": {
        "id": "EYnUgLk194CW"
      },
      "id": "EYnUgLk194CW",
      "execution_count": null,
      "outputs": []
    },
    {
      "cell_type": "markdown",
      "source": [
        "- Load the **preprocessed labeled train and test sets** which have been splitted with stratifying method"
      ],
      "metadata": {
        "id": "A5xSKT3rPKnf"
      },
      "id": "A5xSKT3rPKnf"
    },
    {
      "cell_type": "code",
      "source": [
        "from IPython.display import display, HTML\n",
        "import pandas as pd\n",
        "\n",
        "train_df = pd.read_csv(r'/train.csv')\n",
        "test_df = pd.read_csv(r'/test.csv')"
      ],
      "metadata": {
        "id": "wTBJ5Qp247MB"
      },
      "id": "wTBJ5Qp247MB",
      "execution_count": 2,
      "outputs": []
    },
    {
      "cell_type": "markdown",
      "source": [
        "- check for missing values in train and test set"
      ],
      "metadata": {
        "id": "l7TqMfJTPvpH"
      },
      "id": "l7TqMfJTPvpH"
    },
    {
      "cell_type": "code",
      "source": [
        "# Find rows with missing 'description' in train_df\n",
        "missing_train = train_df[train_df['text_clean'].isnull()]\n",
        "\n",
        "# Find rows with missing 'description' in test_df\n",
        "missing_test = test_df[test_df['text_clean'].isnull()]\n",
        "\n",
        "# Print the rows with missing values\n",
        "print(\"Rows with missing 'description' in train_df:\")\n",
        "print(missing_train)\n",
        "\n",
        "print(\"\\nRows with missing 'description' in test_df:\")\n",
        "print(missing_test)\n"
      ],
      "metadata": {
        "colab": {
          "base_uri": "https://localhost:8080/"
        },
        "id": "b4uKGvlkPvJ2",
        "outputId": "f347565a-b046-491a-d438-2bd196d5211f"
      },
      "id": "b4uKGvlkPvJ2",
      "execution_count": 3,
      "outputs": [
        {
          "output_type": "stream",
          "name": "stdout",
          "text": [
            "Rows with missing 'description' in train_df:\n",
            "       product_id text_clean  label\n",
            "89285      265165        NaN      7\n",
            "\n",
            "Rows with missing 'description' in test_df:\n",
            "       product_id text_clean  label\n",
            "34767      174103        NaN      5\n"
          ]
        }
      ]
    },
    {
      "cell_type": "markdown",
      "source": [
        "- remove missing values"
      ],
      "metadata": {
        "id": "SRP15uLrP1zo"
      },
      "id": "SRP15uLrP1zo"
    },
    {
      "cell_type": "code",
      "source": [
        "# Remove rows with missing 'description' in train_df\n",
        "train_df = train_df.dropna(subset=['text_clean'])\n",
        "\n",
        "# Remove rows with missing 'description' in test_df\n",
        "test_df = test_df.dropna(subset=['text_clean'])\n",
        "\n",
        "# Verify if any rows with missing values remain\n",
        "print(\"Missing values in cleaned train_df:\", train_df.isnull().sum())\n",
        "print(\"Missing values in cleaned test_df:\", test_df.isnull().sum())\n"
      ],
      "metadata": {
        "colab": {
          "base_uri": "https://localhost:8080/"
        },
        "id": "4Kwqrp8OP1Vd",
        "outputId": "7edb98d3-0a78-41a2-95d7-1572d4d85ff6"
      },
      "id": "4Kwqrp8OP1Vd",
      "execution_count": 4,
      "outputs": [
        {
          "output_type": "stream",
          "name": "stdout",
          "text": [
            "Missing values in cleaned train_df: product_id    0\n",
            "text_clean    0\n",
            "label         0\n",
            "dtype: int64\n",
            "Missing values in cleaned test_df: product_id    0\n",
            "text_clean    0\n",
            "label         0\n",
            "dtype: int64\n"
          ]
        }
      ]
    },
    {
      "cell_type": "markdown",
      "source": [
        "- reset index after removing missing values"
      ],
      "metadata": {
        "id": "xk4gw0yZP7QV"
      },
      "id": "xk4gw0yZP7QV"
    },
    {
      "cell_type": "code",
      "source": [
        "# Reset the index after removing rows with missing values\n",
        "train_df.reset_index(drop=True, inplace=True)\n",
        "test_df.reset_index(drop=True, inplace=True)\n",
        "\n",
        "# Check the first few rows to confirm that the index is reset\n",
        "print(train_df.head())\n",
        "print(test_df.head())\n"
      ],
      "metadata": {
        "colab": {
          "base_uri": "https://localhost:8080/"
        },
        "id": "32GUOhd_P6vA",
        "outputId": "bad28c8c-1547-4af9-c032-0d87ee3c83a4"
      },
      "id": "32GUOhd_P6vA",
      "execution_count": 5,
      "outputs": [
        {
          "output_type": "stream",
          "name": "stdout",
          "text": [
            "   product_id                                         text_clean  label\n",
            "0      114704  hornady unprimed winchester cartridge case hor...      2\n",
            "1      250731  tachikara tk leopard knee pad tachikara tk leo...     11\n",
            "2      152967  g asd replacement cutter aluminum amp carbon u...      2\n",
            "3        4541  mtech usa mt tactical folding knife inch close...      2\n",
            "4      142062  nhl pittsburgh penguins game day black pro sha...      7\n",
            "   product_id                                         text_clean  label\n",
            "0       56218                             katz hoodie volleyball      0\n",
            "1       42346  vz grip operator ii standard size gun grip mak...      2\n",
            "2      215842  tough flat leather hobble tough flat leather h...     15\n",
            "3       36062  buzzrack skipper bicycle suv hatchback wheel c...      1\n",
            "4      188250  cuisinart cgg allfood btu portable outdoor tab...     10\n"
          ]
        }
      ]
    },
    {
      "cell_type": "code",
      "source": [
        "train_df.columns = ['product_id', 'description', 'label']\n",
        "test_df.columns = ['product_id', 'description', 'label']\n",
        "\n",
        "display(HTML(train_df.tail(5).to_html(escape=False)))"
      ],
      "metadata": {
        "colab": {
          "base_uri": "https://localhost:8080/",
          "height": 241
        },
        "id": "kamVk_d161XH",
        "outputId": "35500fe1-08b3-416c-be67-1081e58a0fd7"
      },
      "id": "kamVk_d161XH",
      "execution_count": 6,
      "outputs": [
        {
          "output_type": "display_data",
          "data": {
            "text/plain": [
              "<IPython.core.display.HTML object>"
            ],
            "text/html": [
              "<table border=\"1\" class=\"dataframe\">\n",
              "  <thead>\n",
              "    <tr style=\"text-align: right;\">\n",
              "      <th></th>\n",
              "      <th>product_id</th>\n",
              "      <th>description</th>\n",
              "      <th>label</th>\n",
              "    </tr>\n",
              "  </thead>\n",
              "  <tbody>\n",
              "    <tr>\n",
              "      <th>145598</th>\n",
              "      <td>12805</td>\n",
              "      <td>mlb san francisco giants baseball pet collar reflective</td>\n",
              "      <td>7</td>\n",
              "    </tr>\n",
              "    <tr>\n",
              "      <th>145599</th>\n",
              "      <td>153531</td>\n",
              "      <td>daiwa ecxhfb emcast surf rod cast foot extra heavy piece pound emcast offer broad selection unique rod action cover wide variety specific fishing condition xtube blank protection prevent scratch wear rod rod holder cast rodfeet extra heavy piece pound</td>\n",
              "      <td>2</td>\n",
              "    </tr>\n",
              "    <tr>\n",
              "      <th>145600</th>\n",
              "      <td>137219</td>\n",
              "      <td>speedo splatter silicone cap swimmer choose speedo swim cap brand world artsy graphic print cap make soft silicone insure comfort durability day wear easy pull hair pvc free great choice recreational competitive swimmer</td>\n",
              "      <td>4</td>\n",
              "    </tr>\n",
              "    <tr>\n",
              "      <th>145601</th>\n",
              "      <td>111672</td>\n",
              "      <td>wingflyer z classic white</td>\n",
              "      <td>9</td>\n",
              "    </tr>\n",
              "    <tr>\n",
              "      <th>145602</th>\n",
              "      <td>223512</td>\n",
              "      <td>condor tactical leg holster condor tactical leg holsterquickly draw pistol intense situation leg holster condorfeature</td>\n",
              "      <td>2</td>\n",
              "    </tr>\n",
              "  </tbody>\n",
              "</table>"
            ]
          },
          "metadata": {}
        }
      ]
    },
    {
      "cell_type": "code",
      "source": [
        "print(len(train_df))\n",
        "print(len(test_df))"
      ],
      "metadata": {
        "colab": {
          "base_uri": "https://localhost:8080/"
        },
        "id": "-Z4R-idr7fCd",
        "outputId": "d3b0ab87-3637-4d06-b542-bdad6d8b4407"
      },
      "id": "-Z4R-idr7fCd",
      "execution_count": null,
      "outputs": [
        {
          "output_type": "stream",
          "name": "stdout",
          "text": [
            "145603\n",
            "36401\n"
          ]
        }
      ]
    },
    {
      "cell_type": "code",
      "source": [
        "import numpy as np\n",
        "print(np.unique(train_df['label']))"
      ],
      "metadata": {
        "colab": {
          "base_uri": "https://localhost:8080/"
        },
        "id": "YU4zSxmg7zzj",
        "outputId": "65a8c9d4-5c26-4bd9-bc63-cdf1a5be1a97"
      },
      "id": "YU4zSxmg7zzj",
      "execution_count": null,
      "outputs": [
        {
          "output_type": "stream",
          "name": "stdout",
          "text": [
            "[ 0  1  2  3  4  5  6  7  8  9 10 11 12 13 14 15]\n"
          ]
        }
      ]
    },
    {
      "cell_type": "code",
      "source": [
        "display(HTML(test_df.tail(5).to_html(escape=False)))"
      ],
      "metadata": {
        "colab": {
          "base_uri": "https://localhost:8080/",
          "height": 223
        },
        "id": "IRlBm6ZA7apv",
        "outputId": "16628d2c-a1bc-44eb-e910-58da1f2172d0"
      },
      "id": "IRlBm6ZA7apv",
      "execution_count": null,
      "outputs": [
        {
          "output_type": "display_data",
          "data": {
            "text/plain": [
              "<IPython.core.display.HTML object>"
            ],
            "text/html": [
              "<table border=\"1\" class=\"dataframe\">\n",
              "  <thead>\n",
              "    <tr style=\"text-align: right;\">\n",
              "      <th></th>\n",
              "      <th>product_id</th>\n",
              "      <th>description</th>\n",
              "      <th>label</th>\n",
              "    </tr>\n",
              "  </thead>\n",
              "  <tbody>\n",
              "    <tr>\n",
              "      <th>36396</th>\n",
              "      <td>32546</td>\n",
              "      <td>dolfin grafika poly reversible chloroban polyester reverse solid color</td>\n",
              "      <td>4</td>\n",
              "    </tr>\n",
              "    <tr>\n",
              "      <th>36397</th>\n",
              "      <td>158260</td>\n",
              "      <td>new black lace embroidery uv protection sun block light weight trifold umbrella parasol manual openclose tri fold umbrellalight weigt easy carrysturdy wind resistant frameleave open dry</td>\n",
              "      <td>10</td>\n",
              "    </tr>\n",
              "    <tr>\n",
              "      <th>36398</th>\n",
              "      <td>270154</td>\n",
              "      <td>tnt room cabin tent xx room cabin tent sleep large door spacious window complete storage bag stake</td>\n",
              "      <td>10</td>\n",
              "    </tr>\n",
              "    <tr>\n",
              "      <th>36399</th>\n",
              "      <td>241734</td>\n",
              "      <td>schrade badger knife quot overall length fix blade schrade badger fix blade knive sheath suregrip handle overall length limit lifetime warranty</td>\n",
              "      <td>2</td>\n",
              "    </tr>\n",
              "    <tr>\n",
              "      <th>36400</th>\n",
              "      <td>227141</td>\n",
              "      <td>florida gators new era white fit hat cap nwt</td>\n",
              "      <td>7</td>\n",
              "    </tr>\n",
              "  </tbody>\n",
              "</table>"
            ]
          },
          "metadata": {}
        }
      ]
    },
    {
      "cell_type": "code",
      "source": [
        "import matplotlib.pyplot as plt\n",
        "import seaborn as sns\n",
        "import warnings\n",
        "\n",
        "# Suppress FutureWarnings\n",
        "warnings.simplefilter(action='ignore', category=FutureWarning)\n",
        "\n",
        "label_counts_train = train_df['label'].value_counts().sort_index()  # Sort by label to ensure 0, 1, 2... order\n",
        "label_counts_test = test_df['label'].value_counts().sort_index()  # Sort by label to ensure 0, 1, 2... order\n",
        "\n",
        "# Create a bar plot\n",
        "fig, axes = plt.subplots(1, 2, figsize=(18, 6))  # 1 row, 2 columns\n",
        "\n",
        "# Plot for Train Set\n",
        "sns.barplot(x=label_counts_train.index, y=label_counts_train.values, palette='viridis', ax=axes[0], hue=None)\n",
        "axes[0].set_title('Product Distribution Across Labels (Train Set)')\n",
        "axes[0].set_xlabel('Label')\n",
        "axes[0].set_ylabel('Number of Products')\n",
        "axes[0].tick_params(axis='x', rotation=45)\n",
        "\n",
        "# Plot for Test Set\n",
        "sns.barplot(x=label_counts_test.index, y=label_counts_test.values, palette='viridis', ax=axes[1], hue=None)\n",
        "axes[1].set_title('Product Distribution Across Labels (Test Set)')\n",
        "axes[1].set_xlabel('Label')\n",
        "axes[1].set_ylabel('Number of Products')\n",
        "axes[1].tick_params(axis='x', rotation=45)\n",
        "\n",
        "plt.tight_layout()\n",
        "plt.show()\n"
      ],
      "metadata": {
        "colab": {
          "base_uri": "https://localhost:8080/",
          "height": 384
        },
        "id": "Fb7zMH9A8LXQ",
        "outputId": "c9e86904-6f63-42e3-8210-b7cf546489fe"
      },
      "id": "Fb7zMH9A8LXQ",
      "execution_count": null,
      "outputs": [
        {
          "output_type": "display_data",
          "data": {
            "text/plain": [
              "<Figure size 1800x600 with 2 Axes>"
            ],
            "image/png": "[encoded data removed]"
          },
          "metadata": {}
        }
      ]
    },
    {
      "cell_type": "code",
      "source": [
        "display(HTML(train_df.tail(5).to_html(escape=False)))"
      ],
      "metadata": {
        "colab": {
          "base_uri": "https://localhost:8080/",
          "height": 241
        },
        "id": "TGc6D38bBUqO",
        "outputId": "35c85126-5571-4b0a-f019-10642a1ce07b"
      },
      "id": "TGc6D38bBUqO",
      "execution_count": null,
      "outputs": [
        {
          "output_type": "display_data",
          "data": {
            "text/plain": [
              "<IPython.core.display.HTML object>"
            ],
            "text/html": [
              "<table border=\"1\" class=\"dataframe\">\n",
              "  <thead>\n",
              "    <tr style=\"text-align: right;\">\n",
              "      <th></th>\n",
              "      <th>product_id</th>\n",
              "      <th>description</th>\n",
              "      <th>label</th>\n",
              "    </tr>\n",
              "  </thead>\n",
              "  <tbody>\n",
              "    <tr>\n",
              "      <th>145598</th>\n",
              "      <td>12805</td>\n",
              "      <td>mlb san francisco giants baseball pet collar reflective</td>\n",
              "      <td>7</td>\n",
              "    </tr>\n",
              "    <tr>\n",
              "      <th>145599</th>\n",
              "      <td>153531</td>\n",
              "      <td>daiwa ecxhfb emcast surf rod cast foot extra heavy piece pound emcast offer broad selection unique rod action cover wide variety specific fishing condition xtube blank protection prevent scratch wear rod rod holder cast rodfeet extra heavy piece pound</td>\n",
              "      <td>2</td>\n",
              "    </tr>\n",
              "    <tr>\n",
              "      <th>145600</th>\n",
              "      <td>137219</td>\n",
              "      <td>speedo splatter silicone cap swimmer choose speedo swim cap brand world artsy graphic print cap make soft silicone insure comfort durability day wear easy pull hair pvc free great choice recreational competitive swimmer</td>\n",
              "      <td>4</td>\n",
              "    </tr>\n",
              "    <tr>\n",
              "      <th>145601</th>\n",
              "      <td>111672</td>\n",
              "      <td>wingflyer z classic white</td>\n",
              "      <td>9</td>\n",
              "    </tr>\n",
              "    <tr>\n",
              "      <th>145602</th>\n",
              "      <td>223512</td>\n",
              "      <td>condor tactical leg holster condor tactical leg holsterquickly draw pistol intense situation leg holster condorfeature</td>\n",
              "      <td>2</td>\n",
              "    </tr>\n",
              "  </tbody>\n",
              "</table>"
            ]
          },
          "metadata": {}
        }
      ]
    },
    {
      "cell_type": "code",
      "source": [
        "from collections import Counter\n",
        "\n",
        "all_words = \" \".join(train_df['description'].dropna()).split()\n",
        "word_freq = Counter(all_words)\n",
        "\n",
        "# How many words occur more than 5 times?\n",
        "common_words = [word for word, count in word_freq.items() if count > 5]\n",
        "print(f\"Words occurring more than 5 times: {len(common_words)}\")\n"
      ],
      "metadata": {
        "colab": {
          "base_uri": "https://localhost:8080/"
        },
        "id": "FhZmWeveF9xY",
        "outputId": "6ea72c8d-a63c-4725-89f4-cf5ad5d68712"
      },
      "id": "FhZmWeveF9xY",
      "execution_count": null,
      "outputs": [
        {
          "output_type": "stream",
          "name": "stdout",
          "text": [
            "Words occurring more than 5 times: 33033\n"
          ]
        }
      ]
    },
    {
      "cell_type": "code",
      "source": [
        "token_counts = train_df['description'].dropna().apply(lambda x: len(x.split()))\n",
        "avg_tokens = token_counts.mean()\n",
        "print(f\"Average number of tokens per description: {avg_tokens:.2f}\")\n"
      ],
      "metadata": {
        "colab": {
          "base_uri": "https://localhost:8080/"
        },
        "id": "nZThOm1zGFAW",
        "outputId": "aa2ce267-f215-4860-9b07-3b3491444038"
      },
      "id": "nZThOm1zGFAW",
      "execution_count": null,
      "outputs": [
        {
          "output_type": "stream",
          "name": "stdout",
          "text": [
            "Average number of tokens per description: 45.89\n"
          ]
        }
      ]
    },
    {
      "cell_type": "markdown",
      "source": [
        "- load preprocess the **unlabeled test set**"
      ],
      "metadata": {
        "id": "sOEKCiEAQW6D"
      },
      "id": "sOEKCiEAQW6D"
    },
    {
      "cell_type": "code",
      "source": [
        "# Read test data\n",
        "test_data = list()\n",
        "with open(\"/test.txt\", \"r\") as f:\n",
        "    for i,line in enumerate(f):\n",
        "        t = line.split(',')\n",
        "        test_data.append(int(t[0]))\n",
        "\n",
        "# Retrieve descriptions of products in the test set\n",
        "test_text = list()\n",
        "for i in test_data:\n",
        "    test_text.append(descriptions[i])\n",
        "\n",
        "test_text[:1]\n",
        "\n",
        "# Apply the cleaning function to each item in the list\n",
        "test_text_cleaned = [clean_text_with_lemma(text) for text in test_text]\n",
        "\n",
        "\n"
      ],
      "metadata": {
        "id": "rNDteOlgQWNB"
      },
      "id": "rNDteOlgQWNB",
      "execution_count": null,
      "outputs": []
    },
    {
      "cell_type": "markdown",
      "source": [
        "---\n",
        "- **TFIDF Analysis**"
      ],
      "metadata": {
        "id": "Mt_NCeZICY2D"
      },
      "id": "Mt_NCeZICY2D"
    },
    {
      "cell_type": "code",
      "source": [
        "X_train = train_df['description']\n",
        "y_train = train_df['label']\n",
        "\n",
        "X_test = test_df['description']\n",
        "y_test = test_df['label']"
      ],
      "metadata": {
        "id": "9CUukX4yLxsC"
      },
      "id": "9CUukX4yLxsC",
      "execution_count": 7,
      "outputs": []
    },
    {
      "cell_type": "code",
      "source": [
        "y_train.unique()\n"
      ],
      "metadata": {
        "colab": {
          "base_uri": "https://localhost:8080/"
        },
        "id": "iamFG3V7D9-H",
        "outputId": "858d6a7e-0771-400c-fa17-4e7131d6706a"
      },
      "id": "iamFG3V7D9-H",
      "execution_count": null,
      "outputs": [
        {
          "output_type": "execute_result",
          "data": {
            "text/plain": [
              "array([ 2, 11,  7, 10,  3, 15,  6,  5,  0,  1,  4, 12,  8,  9, 14, 13])"
            ]
          },
          "metadata": {},
          "execution_count": 17
        }
      ]
    },
    {
      "cell_type": "code",
      "source": [
        "# Import necessary libraries\n",
        "from sklearn.feature_extraction.text import TfidfVectorizer\n",
        "import pandas as pd\n",
        "\n",
        "# Initialize the TfidfVectorizer\n",
        "tfidf_vectorizer = TfidfVectorizer(ngram_range=(1,2), min_df=5, max_df=0.95)\n",
        "\n",
        "\n",
        "# Fit and transform the text data to get the TF-IDF matrix\n",
        "X_tfidf_train = tfidf_vectorizer.fit_transform(X_train) # labeled train set\n",
        "X_tfidf_test = tfidf_vectorizer.transform(X_test) # labeled test set\n",
        "#X_tfidf_test_comp =  tfidf_vectorizer.transform(test_text_cleaned) # unlabeled test set"
      ],
      "metadata": {
        "id": "muCwAb81COrj"
      },
      "id": "muCwAb81COrj",
      "execution_count": 14,
      "outputs": []
    },
    {
      "cell_type": "markdown",
      "source": [
        "- 145,604 descriptions.\n",
        "- 261,188 unique n-grams"
      ],
      "metadata": {
        "id": "AZHEqrlgJLwQ"
      },
      "id": "AZHEqrlgJLwQ"
    },
    {
      "cell_type": "code",
      "source": [
        "# View the shape only\n",
        "print(X_tfidf_train.shape)\n",
        "\n",
        "# Inspect just a few rows and columns\n",
        "print(X_tfidf_train[:5, :10].toarray())\n"
      ],
      "metadata": {
        "colab": {
          "base_uri": "https://localhost:8080/"
        },
        "id": "SWynBiH9Ic7R",
        "outputId": "d0e143af-9d5e-40c0-daa4-2b9f86d64b51"
      },
      "id": "SWynBiH9Ic7R",
      "execution_count": null,
      "outputs": [
        {
          "output_type": "stream",
          "name": "stdout",
          "text": [
            "(145604, 261188)\n",
            "[[0. 0. 0. 0. 0. 0. 0. 0. 0. 0.]\n",
            " [0. 0. 0. 0. 0. 0. 0. 0. 0. 0.]\n",
            " [0. 0. 0. 0. 0. 0. 0. 0. 0. 0.]\n",
            " [0. 0. 0. 0. 0. 0. 0. 0. 0. 0.]\n",
            " [0. 0. 0. 0. 0. 0. 0. 0. 0. 0.]]\n"
          ]
        }
      ]
    },
    {
      "cell_type": "markdown",
      "source": [
        "- **log-loss** function"
      ],
      "metadata": {
        "id": "NVP1MRarPhY-"
      },
      "id": "NVP1MRarPhY-"
    },
    {
      "cell_type": "code",
      "source": [
        "import numpy as np\n",
        "from sklearn.preprocessing import label_binarize\n",
        "\n",
        "def multiclass_log_loss(y_true, y_pred_proba, eps=1e-15):\n",
        "    \"\"\"\n",
        "    y_true: array-like of shape (N,) - true class labels\n",
        "    y_pred_proba: array-like of shape (N, C) - predicted class probabilities\n",
        "    \"\"\"\n",
        "    # Number of samples\n",
        "    N = y_true.shape[0]\n",
        "\n",
        "    # One-hot encode the true labels (yij)\n",
        "    y_true_one_hot = label_binarize(y_true, classes=np.arange(y_pred_proba.shape[1]))\n",
        "\n",
        "    # Clip predicted probabilities to avoid log(0)\n",
        "    y_pred_proba = np.clip(y_pred_proba, eps, 1 - eps)\n",
        "\n",
        "    # Compute the log loss\n",
        "    loss = -np.sum(y_true_one_hot * np.log(y_pred_proba)) / N\n",
        "    return loss\n"
      ],
      "metadata": {
        "id": "fO1WGKtDzxIe"
      },
      "id": "fO1WGKtDzxIe",
      "execution_count": 8,
      "outputs": []
    },
    {
      "cell_type": "markdown",
      "source": [
        "---\n",
        "- LogisticRegression"
      ],
      "metadata": {
        "id": "j1Nt3iiV9gEn"
      },
      "id": "j1Nt3iiV9gEn"
    },
    {
      "cell_type": "code",
      "source": [
        "# Import necessary libraries\n",
        "from sklearn.feature_extraction.text import TfidfVectorizer\n",
        "import pandas as pd\n",
        "\n",
        "# Initialize the TfidfVectorizer\n",
        "tfidf = TfidfVectorizer(decode_error='ignore', strip_accents='unicode', min_df=5, max_df=0.95, max_features=20000)\n",
        "\n",
        "# Fit and transform the text data to get the TF-IDF matrix\n",
        "X_tfidf_train_example = tfidf.fit_transform(X_train)\n",
        "X_tfidf_test_example = tfidf.transform(X_test)\n"
      ],
      "metadata": {
        "id": "Is8bnrE7bv7Y"
      },
      "id": "Is8bnrE7bv7Y",
      "execution_count": null,
      "outputs": []
    },
    {
      "cell_type": "code",
      "source": [
        "from sklearn.linear_model import LogisticRegression\n",
        "from sklearn.metrics import classification_report\n",
        "from sklearn.model_selection import train_test_split\n",
        "from sklearn.model_selection import cross_validate\n",
        "\n",
        "\n",
        "# Initialize and train the model\n",
        "lr_model = LogisticRegression(solver='saga', max_iter=5000, random_state=42)\n",
        "lr_model.fit(X_tfidf_train, y_train)\n",
        "\n",
        "# Make predictions and evaluate\n",
        "y_pred = lr_model.predict(X_tfidf_test)\n",
        "print(\"Logistic Regression - Classification Report\")\n",
        "print(classification_report(y_test, y_pred))"
      ],
      "metadata": {
        "colab": {
          "base_uri": "https://localhost:8080/"
        },
        "id": "QgEhVMX_Knqg",
        "outputId": "bc23f90e-75d0-40e2-df7d-4afe7a179382"
      },
      "id": "QgEhVMX_Knqg",
      "execution_count": null,
      "outputs": [
        {
          "output_type": "stream",
          "name": "stdout",
          "text": [
            "Logistic Regression - Classification Report\n",
            "              precision    recall  f1-score   support\n",
            "\n",
            "           0       0.95      0.98      0.97      3033\n",
            "           1       0.88      0.87      0.87      2372\n",
            "           2       0.88      0.96      0.92      8652\n",
            "           3       0.95      0.93      0.94      1073\n",
            "           4       0.93      0.92      0.93      3016\n",
            "           5       0.94      0.95      0.95      3565\n",
            "           6       0.94      0.89      0.92      1519\n",
            "           7       0.96      0.92      0.94      3752\n",
            "           8       0.95      0.93      0.94      1316\n",
            "           9       0.94      0.88      0.91       903\n",
            "          10       0.87      0.85      0.86      3589\n",
            "          11       0.92      0.89      0.90      1425\n",
            "          12       0.91      0.75      0.82      1318\n",
            "          13       0.93      0.75      0.83       323\n",
            "          14       0.98      0.78      0.87       226\n",
            "          15       0.96      0.83      0.89       320\n",
            "\n",
            "    accuracy                           0.91     36402\n",
            "   macro avg       0.93      0.88      0.90     36402\n",
            "weighted avg       0.92      0.91      0.91     36402\n",
            "\n"
          ]
        }
      ]
    },
    {
      "cell_type": "code",
      "source": [
        "# Predict probabilities\n",
        "y_proba = lr_model.predict_proba(X_tfidf_test)\n",
        "\n",
        "# Compute custom log loss\n",
        "custom_loss = multiclass_log_loss(y_test, y_proba)\n",
        "print(f\"Manual Log Loss: {custom_loss:.4f}\")\n"
      ],
      "metadata": {
        "colab": {
          "base_uri": "https://localhost:8080/"
        },
        "id": "B8LCZadUz6nf",
        "outputId": "ec2d34eb-018f-4f3c-a683-ebb7671eecc9"
      },
      "id": "B8LCZadUz6nf",
      "execution_count": null,
      "outputs": [
        {
          "output_type": "stream",
          "name": "stdout",
          "text": [
            "Manual Log Loss: 0.3783\n"
          ]
        }
      ]
    },
    {
      "cell_type": "code",
      "source": [
        "# Predict probabilities\n",
        "y_proba_train = lr_model.predict_proba(X_tfidf_train)\n",
        "\n",
        "# Compute custom log loss\n",
        "custom_loss = multiclass_log_loss(y_train, y_proba_train)\n",
        "print(f\"Manual Log Loss: {custom_loss:.4f}\")\n"
      ],
      "metadata": {
        "colab": {
          "base_uri": "https://localhost:8080/"
        },
        "id": "Y8MW1NWojCdl",
        "outputId": "2416f8a6-b6ed-48e9-dffc-512d17b6b635"
      },
      "id": "Y8MW1NWojCdl",
      "execution_count": null,
      "outputs": [
        {
          "output_type": "stream",
          "name": "stdout",
          "text": [
            "Manual Log Loss: 0.2942\n"
          ]
        }
      ]
    },
    {
      "cell_type": "markdown",
      "source": [
        "---\n",
        "- SVM"
      ],
      "metadata": {
        "id": "sLY-RFwN9dF5"
      },
      "id": "sLY-RFwN9dF5"
    },
    {
      "cell_type": "code",
      "source": [
        "from sklearn.svm import SVC, LinearSVC\n",
        "from sklearn.model_selection import cross_validate\n",
        "from sklearn.metrics import classification_report\n"
      ],
      "metadata": {
        "id": "rsOfq_3cC-ZV"
      },
      "id": "rsOfq_3cC-ZV",
      "execution_count": null,
      "outputs": []
    },
    {
      "cell_type": "code",
      "source": [
        "# Initialize the SVM model (using linear kernel for text data)\n",
        "svm_model = SVC(kernel='poly', probability=True, random_state=42)\n",
        "\n",
        "# Train the final model on the full training data\n",
        "svm_model.fit(X_tfidf_train_example, y_train)\n",
        "\n",
        "# Evaluate on the test set\n",
        "y_pred_svm = svm_model.predict(X_tfidf_test_example)\n",
        "\n",
        "print(\"\\nSVM Final Test Set Performance:\")\n",
        "print(classification_report(y_test, y_pred_svm))\n"
      ],
      "metadata": {
        "id": "qhL9qZdWwcwc"
      },
      "id": "qhL9qZdWwcwc",
      "execution_count": null,
      "outputs": []
    },
    {
      "cell_type": "code",
      "source": [
        "from sklearn.svm import LinearSVC\n",
        "from sklearn.calibration import CalibratedClassifierCV\n",
        "\n",
        "base_svm = LinearSVC(max_iter=1000)\n",
        "svm_model = CalibratedClassifierCV(base_svm, cv=3)  # Platt scaling internally\n",
        "\n",
        "svm_model.fit(X_tfidf_train, y_train)\n",
        "\n",
        "y_pred_svm = svm_model.predict(X_tfidf_test)\n",
        "print(\"\\nSVM Final Test Set Performance:\")\n",
        "print(classification_report(y_test, y_pred_svm))\n",
        "\n",
        "\n",
        "y_proba_svm = svm_model.predict_proba(X_tfidf_test)\n",
        "\n",
        "# Compute custom log loss\n",
        "custom_loss_svm = multiclass_log_loss(y_test, y_proba_svm)\n",
        "print(f\"Probabilistic Log Loss (SVM): {custom_loss_svm:.4f}\")"
      ],
      "metadata": {
        "colab": {
          "base_uri": "https://localhost:8080/"
        },
        "id": "xYA6pGi4ACKH",
        "outputId": "3e2e55d6-c848-4e1b-a6a3-46a69a4dc55b"
      },
      "id": "xYA6pGi4ACKH",
      "execution_count": null,
      "outputs": [
        {
          "output_type": "stream",
          "name": "stdout",
          "text": [
            "\n",
            "SVM Final Test Set Performance:\n",
            "              precision    recall  f1-score   support\n",
            "\n",
            "           0       0.97      0.98      0.97      3033\n",
            "           1       0.91      0.90      0.91      2372\n",
            "           2       0.92      0.95      0.93      8652\n",
            "           3       0.97      0.97      0.97      1073\n",
            "           4       0.94      0.94      0.94      3016\n",
            "           5       0.96      0.96      0.96      3565\n",
            "           6       0.95      0.93      0.94      1519\n",
            "           7       0.96      0.94      0.95      3752\n",
            "           8       0.96      0.96      0.96      1316\n",
            "           9       0.95      0.94      0.94       903\n",
            "          10       0.88      0.87      0.88      3589\n",
            "          11       0.92      0.92      0.92      1425\n",
            "          12       0.90      0.82      0.85      1318\n",
            "          13       0.91      0.86      0.89       323\n",
            "          14       0.97      0.96      0.96       226\n",
            "          15       0.95      0.92      0.93       320\n",
            "\n",
            "    accuracy                           0.93     36402\n",
            "   macro avg       0.94      0.92      0.93     36402\n",
            "weighted avg       0.93      0.93      0.93     36402\n",
            "\n",
            "Probabilistic Log Loss (SVM): 0.2561\n"
          ]
        }
      ]
    },
    {
      "cell_type": "code",
      "source": [
        "y_proba_svm_comp = svm_model.predict_proba(X_tfidf_test_comp)\n",
        "\n",
        "import csv\n",
        "with open('/best.csv', 'w') as csvfile:\n",
        "    writer = csv.writer(csvfile, delimiter=',')\n",
        "    lst = list()\n",
        "    for i in range(16):\n",
        "        lst.append('class'+str(i))\n",
        "    lst.insert(0, \"product\")\n",
        "    writer.writerow(lst)\n",
        "    for i,test_data in enumerate(test_data):\n",
        "        lst = y_proba_svm_comp[i,:].round(decimals=4).tolist()\n",
        "        lst.insert(0, test_data)\n",
        "        writer.writerow(lst)"
      ],
      "metadata": {
        "id": "uET6nU7M-Y0L"
      },
      "id": "uET6nU7M-Y0L",
      "execution_count": null,
      "outputs": []
    },
    {
      "cell_type": "markdown",
      "source": [
        "---\n",
        "- SVM with the BEST results"
      ],
      "metadata": {
        "id": "y6HAIaZ8mis9"
      },
      "id": "y6HAIaZ8mis9"
    },
    {
      "cell_type": "code",
      "source": [
        "from sklearn.svm import LinearSVC\n",
        "from sklearn.calibration import CalibratedClassifierCV\n",
        "\n",
        "base_svm2 = LinearSVC(max_iter=5000)\n",
        "svm_model2 = CalibratedClassifierCV(base_svm2, cv=5)  # Platt scaling internally\n",
        "\n",
        "svm_model2.fit(X_tfidf_train, y_train)\n",
        "\n",
        "y_pred_svm2 = svm_model2.predict(X_tfidf_test)\n",
        "print(\"\\nSVM Final Test Set Performance:\")\n",
        "\n",
        "\n",
        "y_proba_svm2 = svm_model2.predict_proba(X_tfidf_test)\n",
        "\n",
        "# Compute custom log loss\n",
        "custom_loss_svm2 = multiclass_log_loss(y_test, y_proba_svm2)\n",
        "print(f\"Probabilistic Log Loss (SVM): {custom_loss_svm2:.4f}\")"
      ],
      "metadata": {
        "colab": {
          "base_uri": "https://localhost:8080/"
        },
        "id": "kYGzBsgPLaQI",
        "outputId": "80519c67-390f-4947-a8ca-5c438126d509"
      },
      "id": "kYGzBsgPLaQI",
      "execution_count": null,
      "outputs": [
        {
          "output_type": "stream",
          "name": "stdout",
          "text": [
            "\n",
            "SVM Final Test Set Performance:\n",
            "Probabilistic Log Loss (SVM): 0.2525\n"
          ]
        }
      ]
    },
    {
      "cell_type": "code",
      "source": [
        "y_proba_svm_comp = svm_model2.predict_proba(X_tfidf_test_comp)\n",
        "\n",
        "import csv\n",
        "with open('/svm.csv', 'w') as csvfile:\n",
        "    writer = csv.writer(csvfile, delimiter=',')\n",
        "    lst = list()\n",
        "    for i in range(16):\n",
        "        lst.append('class'+str(i))\n",
        "    lst.insert(0, \"product\")\n",
        "    writer.writerow(lst)\n",
        "    for i,test_data in enumerate(test_data):\n",
        "        lst = y_proba_svm_comp[i,:].round(decimals=4).tolist()\n",
        "        lst.insert(0, test_data)\n",
        "        writer.writerow(lst)"
      ],
      "metadata": {
        "colab": {
          "base_uri": "https://localhost:8080/"
        },
        "id": "YnR2fPTq-TK-",
        "outputId": "36ba8109-1aae-45cf-ab3b-94f5fa4942ea"
      },
      "id": "YnR2fPTq-TK-",
      "execution_count": null,
      "outputs": [
        {
          "output_type": "stream",
          "name": "stdout",
          "text": [
            "(36402,)\n"
          ]
        }
      ]
    },
    {
      "cell_type": "markdown",
      "source": [
        "---\n",
        "- RandomForest"
      ],
      "metadata": {
        "id": "nEpa16Xu9Xww"
      },
      "id": "nEpa16Xu9Xww"
    },
    {
      "cell_type": "code",
      "source": [
        "from sklearn.ensemble import RandomForestClassifier\n",
        "from sklearn.metrics import classification_report, log_loss\n",
        "from sklearn.model_selection import cross_val_score\n",
        "\n",
        "# 1. Initialize the model\n",
        "rf_model = RandomForestClassifier(\n",
        "    n_estimators=100,\n",
        "    random_state=42,\n",
        "    n_jobs=-1,             # Use all CPU cores\n",
        "    max_depth=None         # Let the trees grow fully (adjustable)\n",
        ")\n",
        "\n",
        "# 2. Fit the model\n",
        "rf_model.fit(X_tfidf_train, y_train)\n",
        "\n",
        "# 3. Predict class probabilities for log loss\n",
        "y_proba_rf = rf_model.predict_proba(X_tfidf_test)\n",
        "\n",
        "# 4. Predict class labels for classification report\n",
        "y_pred_rf = rf_model.predict(X_tfidf_test)\n",
        "\n",
        "# 5. Evaluate\n",
        "print(\"Random Forest - Classification Report\")\n",
        "print(classification_report(y_test, y_pred_rf))\n",
        "\n",
        "# 6. Log Loss (for competition)\n",
        "custom_loss_rf = multiclass_log_loss(y_test, y_proba_rf)\n",
        "print(f\"Probabilistic Log Loss (SVM): {custom_loss_rf:.4f}\")"
      ],
      "metadata": {
        "colab": {
          "base_uri": "https://localhost:8080/"
        },
        "id": "aCvlbcnHE8ee",
        "outputId": "f5e8ee1e-b80b-4d40-da48-2fbc779cf625"
      },
      "id": "aCvlbcnHE8ee",
      "execution_count": null,
      "outputs": [
        {
          "output_type": "stream",
          "name": "stdout",
          "text": [
            "Random Forest - Classification Report\n",
            "              precision    recall  f1-score   support\n",
            "\n",
            "           0       0.94      0.98      0.96      3033\n",
            "           1       0.91      0.83      0.87      2372\n",
            "           2       0.84      0.96      0.89      8652\n",
            "           3       0.95      0.94      0.94      1073\n",
            "           4       0.93      0.87      0.90      3016\n",
            "           5       0.91      0.95      0.93      3565\n",
            "           6       0.95      0.88      0.91      1519\n",
            "           7       0.96      0.93      0.94      3752\n",
            "           8       0.96      0.89      0.92      1316\n",
            "           9       0.96      0.88      0.92       903\n",
            "          10       0.87      0.80      0.83      3589\n",
            "          11       0.91      0.86      0.88      1425\n",
            "          12       0.92      0.73      0.81      1318\n",
            "          13       0.94      0.65      0.77       323\n",
            "          14       0.99      0.83      0.91       226\n",
            "          15       0.96      0.78      0.86       320\n",
            "\n",
            "    accuracy                           0.90     36402\n",
            "   macro avg       0.93      0.86      0.89     36402\n",
            "weighted avg       0.90      0.90      0.90     36402\n",
            "\n",
            "Probabilistic Log Loss (SVM): 0.5437\n"
          ]
        }
      ]
    },
    {
      "cell_type": "markdown",
      "source": [
        "---\n",
        "- xboost"
      ],
      "metadata": {
        "id": "rndxVOq69UrS"
      },
      "id": "rndxVOq69UrS"
    },
    {
      "cell_type": "code",
      "source": [
        "from xgboost import XGBClassifier\n",
        "from sklearn.metrics import classification_report, log_loss\n",
        "\n",
        "# 1. Initialize the model\n",
        "xgb_model = XGBClassifier(\n",
        "    objective='multi:softprob',  # Needed for multiclass probability output\n",
        "    num_class=len(np.unique(y_train)),  # Set number of classes\n",
        "    eval_metric='mlogloss',  # Use multiclass log loss as eval metric\n",
        "    use_label_encoder=False,  # Suppress warning\n",
        "    n_estimators=100,\n",
        "    max_depth=6,\n",
        "    learning_rate=0.1,\n",
        "    random_state=42,\n",
        "    n_jobs=-1\n",
        ")\n",
        "\n",
        "# 2. Train the model\n",
        "xgb_model.fit(X_tfidf_train, y_train)\n",
        "\n",
        "# 3. Predict probabilities and labels\n",
        "y_proba_xgb = xgb_model.predict_proba(X_tfidf_test)\n",
        "y_pred_xgb = xgb_model.predict(X_tfidf_test)\n",
        "\n",
        "# 4. Evaluation\n",
        "print(\"XGBoost - Classification Report\")\n",
        "print(classification_report(y_test, y_pred_xgb))\n",
        "\n",
        "# 5. Log loss\n",
        "loss_xgb = multiclass_log_loss(y_test, y_proba_xgb)\n",
        "print(f\"XGBoost - Multiclass Log Loss: {loss_xgb:.4f}\")\n"
      ],
      "metadata": {
        "colab": {
          "base_uri": "https://localhost:8080/"
        },
        "id": "pTf6RHOcQvTD",
        "outputId": "c94beded-9099-4f4e-ec5d-a7a76e599854"
      },
      "id": "pTf6RHOcQvTD",
      "execution_count": null,
      "outputs": [
        {
          "output_type": "stream",
          "name": "stderr",
          "text": [
            "/usr/local/lib/python3.11/dist-packages/xgboost/core.py:158: UserWarning: [06:04:56] WARNING: /workspace/src/learner.cc:740: \n",
            "Parameters: { \"use_label_encoder\" } are not used.\n",
            "\n",
            "  warnings.warn(smsg, UserWarning)\n"
          ]
        },
        {
          "output_type": "stream",
          "name": "stdout",
          "text": [
            "XGBoost - Classification Report\n",
            "              precision    recall  f1-score   support\n",
            "\n",
            "           0       0.91      0.93      0.92      3033\n",
            "           1       0.86      0.78      0.82      2372\n",
            "           2       0.71      0.94      0.81      8652\n",
            "           3       0.94      0.92      0.93      1073\n",
            "           4       0.91      0.76      0.83      3016\n",
            "           5       0.91      0.85      0.88      3565\n",
            "           6       0.93      0.81      0.87      1519\n",
            "           7       0.94      0.86      0.90      3752\n",
            "           8       0.94      0.85      0.89      1316\n",
            "           9       0.93      0.85      0.89       903\n",
            "          10       0.85      0.69      0.76      3589\n",
            "          11       0.90      0.80      0.85      1425\n",
            "          12       0.91      0.72      0.80      1318\n",
            "          13       0.83      0.78      0.81       323\n",
            "          14       0.97      0.91      0.94       226\n",
            "          15       0.96      0.77      0.85       320\n",
            "\n",
            "    accuracy                           0.84     36402\n",
            "   macro avg       0.90      0.83      0.86     36402\n",
            "weighted avg       0.86      0.84      0.85     36402\n",
            "\n",
            "XGBoost - Multiclass Log Loss: 0.6161\n"
          ]
        }
      ]
    },
    {
      "cell_type": "markdown",
      "source": [
        "---\n",
        "- GridSearch svm"
      ],
      "metadata": {
        "id": "PReUHvWO9QWn"
      },
      "id": "PReUHvWO9QWn"
    },
    {
      "cell_type": "code",
      "source": [
        "from sklearn.model_selection import GridSearchCV\n",
        "from sklearn.svm import LinearSVC\n",
        "from sklearn.calibration import CalibratedClassifierCV\n",
        "\n",
        "# Define base model\n",
        "base_svm = LinearSVC(max_iter=1000)\n",
        "\n",
        "# Wrap in CalibratedClassifierCV\n",
        "calibrated_svm = CalibratedClassifierCV(estimator=base_svm, cv=3)\n",
        "\n",
        "# Define parameter grid using 'estimator__' prefix\n",
        "param_grid = {\n",
        "    'estimator__C': [0.01, 0.1, 1, 10],\n",
        "    'estimator__loss': ['hinge', 'squared_hinge']\n",
        "}\n",
        "\n",
        "# Use GridSearchCV\n",
        "grid_search = GridSearchCV(calibrated_svm, param_grid, cv=5, scoring='neg_log_loss', n_jobs=-1)\n",
        "\n",
        "# Fit to data\n",
        "grid_search.fit(X_tfidf_train, y_train)\n",
        "\n",
        "# Results\n",
        "print(\"Best parameters:\", grid_search.best_params_)\n",
        "print(\"Best log loss:\", -grid_search.best_score_)\n"
      ],
      "metadata": {
        "colab": {
          "base_uri": "https://localhost:8080/"
        },
        "id": "8Uye_yzobJzI",
        "outputId": "37cca0e1-4dde-493e-b9d7-4fd9c8fff961"
      },
      "id": "8Uye_yzobJzI",
      "execution_count": null,
      "outputs": [
        {
          "output_type": "stream",
          "name": "stdout",
          "text": [
            "Best parameters: {'estimator__C': 1, 'estimator__loss': 'squared_hinge'}\n",
            "Best log loss: 0.27203531784274526\n"
          ]
        }
      ]
    },
    {
      "cell_type": "code",
      "source": [
        "from sklearn.svm import LinearSVC\n",
        "from sklearn.calibration import CalibratedClassifierCV\n",
        "\n",
        "base_svm_tune = LinearSVC(C=1, loss='squared_hinge', max_iter=1000)\n",
        "\n",
        "svm_model_tune = CalibratedClassifierCV(base_svm_tune, cv=3)  # Platt scaling internally\n",
        "\n",
        "svm_model_tune.fit(X_tfidf_train, y_train)\n",
        "\n",
        "y_pred_svm_tune = svm_model_tune.predict(X_tfidf_test)\n",
        "print(\"\\nSVM Final Test Set Performance:\")\n",
        "print(classification_report(y_test, y_pred_svm_tune))\n",
        "\n",
        "\n",
        "y_proba_svm_tune = svm_model_tune.predict_proba(X_tfidf_test)"
      ],
      "metadata": {
        "colab": {
          "base_uri": "https://localhost:8080/"
        },
        "id": "Isw06zyf1u72",
        "outputId": "141fa997-70db-4425-a951-3ccb06730263"
      },
      "id": "Isw06zyf1u72",
      "execution_count": null,
      "outputs": [
        {
          "output_type": "stream",
          "name": "stdout",
          "text": [
            "\n",
            "SVM Final Test Set Performance:\n",
            "              precision    recall  f1-score   support\n",
            "\n",
            "           0       0.97      0.98      0.98      3033\n",
            "           1       0.91      0.90      0.91      2372\n",
            "           2       0.92      0.95      0.93      8652\n",
            "           3       0.96      0.96      0.96      1073\n",
            "           4       0.94      0.94      0.94      3016\n",
            "           5       0.96      0.96      0.96      3565\n",
            "           6       0.95      0.94      0.94      1519\n",
            "           7       0.96      0.94      0.95      3752\n",
            "           8       0.97      0.95      0.96      1316\n",
            "           9       0.95      0.93      0.94       903\n",
            "          10       0.89      0.88      0.88      3589\n",
            "          11       0.92      0.92      0.92      1425\n",
            "          12       0.89      0.81      0.85      1318\n",
            "          13       0.91      0.86      0.89       323\n",
            "          14       0.97      0.95      0.96       226\n",
            "          15       0.96      0.93      0.94       320\n",
            "\n",
            "    accuracy                           0.93     36402\n",
            "   macro avg       0.94      0.93      0.93     36402\n",
            "weighted avg       0.93      0.93      0.93     36402\n",
            "\n"
          ]
        }
      ]
    },
    {
      "cell_type": "code",
      "source": [
        "# Compute custom log loss\n",
        "custom_loss_svm_tune = multiclass_log_loss(y_test, y_proba_svm_tune)\n",
        "print(f\"Probabilistic Log Loss (SVM): {custom_loss_svm_tune:.4f}\")"
      ],
      "metadata": {
        "colab": {
          "base_uri": "https://localhost:8080/"
        },
        "id": "ieTloPvr84tB",
        "outputId": "b9543e77-a9d7-4229-e252-cc2acf725cc1"
      },
      "id": "ieTloPvr84tB",
      "execution_count": null,
      "outputs": [
        {
          "output_type": "stream",
          "name": "stdout",
          "text": [
            "Probabilistic Log Loss (SVM): 0.2551\n"
          ]
        }
      ]
    },
    {
      "cell_type": "code",
      "source": [
        "pip install optuna"
      ],
      "metadata": {
        "colab": {
          "base_uri": "https://localhost:8080/"
        },
        "id": "S6UBrXte9vTs",
        "outputId": "958ca5ed-c28f-4b9b-fdfd-4d892f19b62c"
      },
      "id": "S6UBrXte9vTs",
      "execution_count": null,
      "outputs": [
        {
          "output_type": "stream",
          "name": "stdout",
          "text": [
            "Collecting optuna\n",
            "  Downloading optuna-4.3.0-py3-none-any.whl.metadata (17 kB)\n",
            "Collecting alembic>=1.5.0 (from optuna)\n",
            "  Downloading alembic-1.15.2-py3-none-any.whl.metadata (7.3 kB)\n",
            "Collecting colorlog (from optuna)\n",
            "  Downloading colorlog-6.9.0-py3-none-any.whl.metadata (10 kB)\n",
            "Requirement already satisfied: numpy in /usr/local/lib/python3.11/dist-packages (from optuna) (2.0.2)\n",
            "Requirement already satisfied: packaging>=20.0 in /usr/local/lib/python3.11/dist-packages (from optuna) (24.2)\n",
            "Requirement already satisfied: sqlalchemy>=1.4.2 in /usr/local/lib/python3.11/dist-packages (from optuna) (2.0.40)\n",
            "Requirement already satisfied: tqdm in /usr/local/lib/python3.11/dist-packages (from optuna) (4.67.1)\n",
            "Requirement already satisfied: PyYAML in /usr/local/lib/python3.11/dist-packages (from optuna) (6.0.2)\n",
            "Requirement already satisfied: Mako in /usr/lib/python3/dist-packages (from alembic>=1.5.0->optuna) (1.1.3)\n",
            "Requirement already satisfied: typing-extensions>=4.12 in /usr/local/lib/python3.11/dist-packages (from alembic>=1.5.0->optuna) (4.13.2)\n",
            "Requirement already satisfied: greenlet>=1 in /usr/local/lib/python3.11/dist-packages (from sqlalchemy>=1.4.2->optuna) (3.2.1)\n",
            "Downloading optuna-4.3.0-py3-none-any.whl (386 kB)\n",
            "\u001b[2K   \u001b[90m━━━━━━━━━━━━━━━━━━━━━━━━━━━━━━━━━━━━━━━━\u001b[0m \u001b[32m386.6/386.6 kB\u001b[0m \u001b[31m13.8 MB/s\u001b[0m eta \u001b[36m0:00:00\u001b[0m\n",
            "\u001b[?25hDownloading alembic-1.15.2-py3-none-any.whl (231 kB)\n",
            "\u001b[2K   \u001b[90m━━━━━━━━━━━━━━━━━━━━━━━━━━━━━━━━━━━━━━━━\u001b[0m \u001b[32m231.9/231.9 kB\u001b[0m \u001b[31m22.5 MB/s\u001b[0m eta \u001b[36m0:00:00\u001b[0m\n",
            "\u001b[?25hDownloading colorlog-6.9.0-py3-none-any.whl (11 kB)\n",
            "Installing collected packages: colorlog, alembic, optuna\n",
            "Successfully installed alembic-1.15.2 colorlog-6.9.0 optuna-4.3.0\n"
          ]
        }
      ]
    },
    {
      "cell_type": "code",
      "source": [
        "import optuna\n",
        "from sklearn.svm import LinearSVC\n",
        "from sklearn.calibration import CalibratedClassifierCV\n",
        "from sklearn.metrics import log_loss, classification_report\n",
        "from sklearn.model_selection import train_test_split\n",
        "\n",
        "# Split the dataset\n",
        "X_train_split, X_val_split, y_train_split, y_val_split = train_test_split(\n",
        "    X_tfidf_train, y_train, test_size=0.2, random_state=42\n",
        ")\n",
        "\n",
        "# Fixed value of C\n",
        "FIXED_C = 1.0\n",
        "\n",
        "# Optuna objective function\n",
        "def objective(trial):\n",
        "    max_iter = trial.suggest_int('max_iter', 500, 5000)\n",
        "    tol = trial.suggest_float('tol', 1e-6, 1e-2, log=True)\n",
        "    class_weight = trial.suggest_categorical('class_weight', [None, 'balanced'])\n",
        "\n",
        "    base_svm = LinearSVC(\n",
        "        C=FIXED_C,\n",
        "        max_iter=max_iter,\n",
        "        tol=tol,\n",
        "        penalty='l2',\n",
        "        loss='squared_hinge',\n",
        "        class_weight=class_weight,\n",
        "        dual=False\n",
        "    )\n",
        "\n",
        "    clf = CalibratedClassifierCV(base_svm, cv=3)\n",
        "\n",
        "    try:\n",
        "        clf.fit(X_train_split, y_train_split)\n",
        "        y_proba = clf.predict_proba(X_val_split)\n",
        "        return log_loss(y_val_split, y_proba)\n",
        "    except Exception as e:\n",
        "        trial.set_user_attr(\"fail_reason\", str(e))\n",
        "        return float('inf')\n",
        "\n",
        "# Run the Optuna study\n",
        "study = optuna.create_study(direction='minimize')\n",
        "study.optimize(objective, n_trials=30)\n",
        "\n",
        "# Best parameters\n",
        "best_params = study.best_params\n",
        "print(\"Best params (with fixed C=1.0):\", best_params)\n",
        "\n",
        "# Final model with best hyperparameters and fixed C\n",
        "final_svm = LinearSVC(\n",
        "    C=FIXED_C,\n",
        "    max_iter=best_params['max_iter'],\n",
        "    tol=best_params['tol'],\n",
        "    penalty='l2',\n",
        "    loss='squared_hinge',\n",
        "    class_weight=best_params['class_weight'],\n",
        "    dual=False\n",
        ")\n",
        "svm_model = CalibratedClassifierCV(final_svm, cv=3)\n",
        "svm_model.fit(X_tfidf_train, y_train)\n",
        "\n",
        "# Predict and evaluate\n",
        "y_pred_svm = svm_model.predict(X_tfidf_test)\n",
        "y_proba_svm = svm_model.predict_proba(X_tfidf_test)\n",
        "\n",
        "print(\"\\nSVM Final Test Set Performance:\")\n",
        "print(classification_report(y_test, y_pred_svm))\n",
        "final_log_loss = log_loss(y_test, y_proba_svm)\n",
        "print(\"Final Log Loss on Test Set:\", final_log_loss)\n"
      ],
      "metadata": {
        "colab": {
          "base_uri": "https://localhost:8080/"
        },
        "id": "wmVqPdb99gCX",
        "outputId": "fd307b19-f702-418f-eb79-17de4e7a2ea1"
      },
      "id": "wmVqPdb99gCX",
      "execution_count": null,
      "outputs": [
        {
          "output_type": "stream",
          "name": "stderr",
          "text": [
            "[I 2025-05-05 16:48:08,818] A new study created in memory with name: no-name-1676717d-0893-4e92-9cf5-b8d741aa636f\n",
            "[I 2025-05-05 16:50:01,955] Trial 0 finished with value: 0.27255805068390176 and parameters: {'max_iter': 2876, 'tol': 6.541642714489717e-05, 'class_weight': None}. Best is trial 0 with value: 0.27255805068390176.\n",
            "[I 2025-05-05 16:52:05,995] Trial 1 finished with value: 0.27255422222374526 and parameters: {'max_iter': 4535, 'tol': 4.016000894916592e-06, 'class_weight': None}. Best is trial 1 with value: 0.27255422222374526.\n"
          ]
        }
      ]
    },
    {
      "cell_type": "markdown",
      "source": [
        "---\n",
        "- voting"
      ],
      "metadata": {
        "id": "JVpNmTIj90ak"
      },
      "id": "JVpNmTIj90ak"
    },
    {
      "cell_type": "markdown",
      "source": [
        "- DONT use svc, random forest, logistic, nb together doesnt work!"
      ],
      "metadata": {
        "id": "18i1aD-MVfbA"
      },
      "id": "18i1aD-MVfbA"
    },
    {
      "cell_type": "code",
      "source": [
        "from sklearn.svm import LinearSVC\n",
        "from sklearn.calibration import CalibratedClassifierCV\n",
        "from sklearn.naive_bayes import MultinomialNB\n",
        "from sklearn.ensemble import RandomForestClassifier, VotingClassifier\n",
        "from sklearn.linear_model import LogisticRegression\n",
        "from sklearn.metrics import classification_report\n",
        "\n",
        "# Base models\n",
        "svc = LinearSVC(max_iter=3000)\n",
        "calibrated_svc = CalibratedClassifierCV(svc, cv=5)  # Needed for predict_proba\n",
        "\n",
        "nb = MultinomialNB()\n",
        "rf = RandomForestClassifier(n_estimators=100, random_state=42)\n",
        "lr = LogisticRegression(max_iter=3000)\n",
        "\n",
        "# Create a soft voting classifier\n",
        "voting_clf = VotingClassifier(\n",
        "    estimators=[\n",
        "        ('svc', calibrated_svc),\n",
        "        ('nb', nb),\n",
        "        ('lr', lr)\n",
        "    ],\n",
        "    voting='soft'  # Use probabilities for voting\n",
        ")\n",
        "\n",
        "# Fit ensemble on training data\n",
        "voting_clf.fit(X_tfidf_train, y_train)\n",
        "\n",
        "# Predictions\n",
        "y_pred = voting_clf.predict(X_tfidf_test)\n",
        "print(\"\\nVoting Classifier Final Test Set Performance:\")\n",
        "print(classification_report(y_test, y_pred))\n",
        "\n",
        "# Probability predictions\n",
        "y_proba_voting = voting_clf.predict_proba(X_tfidf_test)\n",
        "\n",
        "\n",
        "# Compute custom log loss\n",
        "custom_loss_voting = multiclass_log_loss(y_test, y_proba_voting)\n",
        "print(f\"Probabilistic Log Loss (voting): {custom_loss_voting:.4f}\")"
      ],
      "metadata": {
        "colab": {
          "base_uri": "https://localhost:8080/"
        },
        "id": "R8i0JHBrQzId",
        "outputId": "4e1f5fbb-0d50-4eeb-a24f-689b13e7dd37"
      },
      "id": "R8i0JHBrQzId",
      "execution_count": null,
      "outputs": [
        {
          "output_type": "stream",
          "name": "stdout",
          "text": [
            "\n",
            "Voting Classifier Final Test Set Performance:\n",
            "              precision    recall  f1-score   support\n",
            "\n",
            "           0       0.96      0.98      0.97      3033\n",
            "           1       0.92      0.87      0.89      2372\n",
            "           2       0.87      0.97      0.92      8652\n",
            "           3       0.97      0.94      0.95      1073\n",
            "           4       0.95      0.92      0.93      3016\n",
            "           5       0.95      0.96      0.95      3565\n",
            "           6       0.96      0.92      0.94      1519\n",
            "           7       0.96      0.93      0.95      3752\n",
            "           8       0.97      0.94      0.95      1316\n",
            "           9       0.96      0.91      0.94       903\n",
            "          10       0.89      0.85      0.87      3589\n",
            "          11       0.93      0.89      0.91      1425\n",
            "          12       0.94      0.73      0.82      1318\n",
            "          13       0.94      0.79      0.86       323\n",
            "          14       0.99      0.90      0.94       226\n",
            "          15       0.99      0.85      0.91       320\n",
            "\n",
            "    accuracy                           0.92     36402\n",
            "   macro avg       0.95      0.90      0.92     36402\n",
            "weighted avg       0.93      0.92      0.92     36402\n",
            "\n",
            "Probabilistic Log Loss (voting): 0.3490\n"
          ]
        }
      ]
    },
    {
      "cell_type": "code",
      "source": [
        "y_proba_voting_train = voting_clf.predict_proba(X_tfidf_train)\n",
        "\n",
        "\n",
        "# Compute custom log loss\n",
        "custom_loss_voting_train = multiclass_log_loss(y_train, y_proba_voting_train)\n",
        "print(f\"Probabilistic Log Loss (voting): {custom_loss_voting_train:.4f}\")"
      ],
      "metadata": {
        "colab": {
          "base_uri": "https://localhost:8080/"
        },
        "id": "v83lk123DjKg",
        "outputId": "31819cde-ea95-4b7f-8e3d-020da54a1432"
      },
      "id": "v83lk123DjKg",
      "execution_count": null,
      "outputs": [
        {
          "output_type": "stream",
          "name": "stdout",
          "text": [
            "Probabilistic Log Loss (voting): 0.1841\n"
          ]
        }
      ]
    },
    {
      "cell_type": "markdown",
      "source": [
        "---"
      ],
      "metadata": {
        "id": "lbum6A8FSr-m"
      },
      "id": "lbum6A8FSr-m"
    },
    {
      "cell_type": "markdown",
      "source": [
        "- different tfidf analysis with Selecting the k best features"
      ],
      "metadata": {
        "id": "YnTknclnReUl"
      },
      "id": "YnTknclnReUl"
    },
    {
      "cell_type": "code",
      "source": [
        "from sklearn.feature_extraction.text import TfidfVectorizer\n",
        "from sklearn.feature_selection import SelectKBest, chi2\n",
        "from sklearn.svm import LinearSVC\n",
        "from sklearn.calibration import CalibratedClassifierCV\n",
        "from sklearn.model_selection import StratifiedKFold\n",
        "from sklearn.metrics import classification_report, log_loss\n",
        "\n",
        "# ======== TF-IDF Transformation ========\n",
        "tfidf = TfidfVectorizer(\n",
        "    ngram_range=(1, 2),         # include unigrams + bigrams\n",
        "    min_df=5,                   # remove rare terms\n",
        "    max_df=0.85,                # remove overly common terms\n",
        "    sublinear_tf=True,          # log-scale term frequencies\n",
        "    stop_words='english',      # remove stopwords\n",
        "    max_features=20000          # limit dimensionality\n",
        ")\n",
        "\n",
        "X_tfidf_train = tfidf.fit_transform(X_train)\n",
        "X_tfidf_test = tfidf.transform(X_test)\n",
        "#X_tfidf_test_comp = tfidf.transform(test_text_cleaned)\n",
        "\n",
        "# ======== Feature Selection ========\n",
        "selector = SelectKBest(score_func=chi2, k=10000)\n",
        "X_sel_train = selector.fit_transform(X_tfidf_train, y_train)\n",
        "X_sel_test = selector.transform(X_tfidf_test)\n",
        "#X_sel_test_comp = selector.transform(X_tfidf_test_comp)"
      ],
      "metadata": {
        "id": "JVqaj4UPWrjK"
      },
      "id": "JVqaj4UPWrjK",
      "execution_count": 10,
      "outputs": []
    },
    {
      "cell_type": "code",
      "source": [
        "\n",
        "\n",
        "# ======== SVM + Isotonic Calibration ========\n",
        "base_svm = LinearSVC( max_iter=15000)\n",
        "cv = StratifiedKFold(n_splits=5)\n",
        "svm_model = CalibratedClassifierCV(estimator=base_svm, method='isotonic', cv=cv)\n",
        "\n",
        "# ======== Train Model ========\n",
        "svm_model.fit(X_sel_train, y_train)\n",
        "\n",
        "# ======== Predict and Evaluate ========\n",
        "y_pred = svm_model.predict(X_sel_test)\n",
        "y_proba = svm_model.predict_proba(X_sel_test)\n",
        "\n",
        "print(\"\\nClassification Report:\")\n",
        "print(classification_report(y_test, y_pred))\n",
        "\n",
        "logloss = log_loss(y_test, y_proba)\n",
        "print(f\"\\n✅ Final Log Loss (Multiclass): {logloss:.4f}\")\n"
      ],
      "metadata": {
        "colab": {
          "base_uri": "https://localhost:8080/"
        },
        "id": "5aFBcGJuStcx",
        "outputId": "d5707e0a-f0b1-406a-d60e-09c8bfd8fb90"
      },
      "id": "5aFBcGJuStcx",
      "execution_count": null,
      "outputs": [
        {
          "output_type": "stream",
          "name": "stdout",
          "text": [
            "\n",
            "Classification Report:\n",
            "              precision    recall  f1-score   support\n",
            "\n",
            "           0       0.96      0.98      0.97      3033\n",
            "           1       0.88      0.87      0.87      2372\n",
            "           2       0.89      0.94      0.92      8652\n",
            "           3       0.95      0.95      0.95      1073\n",
            "           4       0.93      0.92      0.93      3016\n",
            "           5       0.95      0.95      0.95      3565\n",
            "           6       0.93      0.92      0.93      1519\n",
            "           7       0.95      0.92      0.94      3752\n",
            "           8       0.96      0.94      0.95      1316\n",
            "           9       0.94      0.91      0.93       903\n",
            "          10       0.86      0.83      0.85      3589\n",
            "          11       0.91      0.90      0.90      1425\n",
            "          12       0.87      0.78      0.82      1318\n",
            "          13       0.91      0.83      0.87       323\n",
            "          14       0.96      0.95      0.95       226\n",
            "          15       0.95      0.92      0.93       320\n",
            "\n",
            "    accuracy                           0.92     36402\n",
            "   macro avg       0.92      0.91      0.92     36402\n",
            "weighted avg       0.92      0.92      0.92     36402\n",
            "\n",
            "\n",
            "✅ Final Log Loss (Multiclass): 0.3086\n"
          ]
        }
      ]
    },
    {
      "cell_type": "code",
      "source": [
        "logloss = multiclass_log_loss(y_test, y_proba)\n",
        "print(f\"\\n✅ Final Log Loss (Multiclass): {logloss:.4f}\")"
      ],
      "metadata": {
        "colab": {
          "base_uri": "https://localhost:8080/"
        },
        "id": "i0Vg-I9eXfyN",
        "outputId": "7d404ea1-7bbf-43f4-e3c2-feaf5f343d77"
      },
      "id": "i0Vg-I9eXfyN",
      "execution_count": null,
      "outputs": [
        {
          "output_type": "stream",
          "name": "stdout",
          "text": [
            "\n",
            "✅ Final Log Loss (Multiclass): 0.3085\n"
          ]
        }
      ]
    },
    {
      "cell_type": "markdown",
      "source": [
        "---\n",
        "- stacking"
      ],
      "metadata": {
        "id": "Ny7GNpxagKFr"
      },
      "id": "Ny7GNpxagKFr"
    },
    {
      "cell_type": "code",
      "source": [
        "from sklearn.ensemble import StackingClassifier\n",
        "from sklearn.naive_bayes import MultinomialNB\n",
        "from xgboost import XGBClassifier\n",
        "\n",
        "stack_model = StackingClassifier(\n",
        "    estimators=[\n",
        "        ('svm', CalibratedClassifierCV(LinearSVC(max_iter=5000), cv=3)),\n",
        "        ('nb', MultinomialNB())\n",
        "        # ('xgb', XGBClassifier(use_label_encoder=False, eval_metric='mlogloss'))\n",
        "    ],\n",
        "    final_estimator=LogisticRegression(),\n",
        "    cv=5\n",
        ")\n",
        "\n",
        "\n",
        "# ======== Train Model ========\n",
        "stack_model.fit(X_sel_train, y_train)\n",
        "\n",
        "# ======== Predict and Evaluate ========\n",
        "y_pred_stack = stack_model.predict(X_sel_test)\n",
        "y_proba_stack = stack_model.predict_proba(X_sel_test)\n",
        "\n",
        "print(\"\\nClassification Report:\")\n",
        "print(classification_report(y_test, y_pred_stack))\n",
        "\n",
        "logloss_stack = log_loss(y_test, y_proba_stack)\n",
        "print(f\"\\n✅ Final Log Loss (Stacking): {logloss_stack:.4f}\")"
      ],
      "metadata": {
        "id": "OgMmQvv_gLu8"
      },
      "id": "OgMmQvv_gLu8",
      "execution_count": null,
      "outputs": []
    },
    {
      "cell_type": "markdown",
      "source": [
        "---\n",
        "- SVM BEST parameters BUT WITH THE TFIDF WITH THE FEATURE SELECTION\n",
        "- DIDNT WORK!"
      ],
      "metadata": {
        "id": "0eU9Pw6tmwn6"
      },
      "id": "0eU9Pw6tmwn6"
    },
    {
      "cell_type": "code",
      "source": [
        "from sklearn.svm import LinearSVC\n",
        "from sklearn.calibration import CalibratedClassifierCV\n",
        "\n",
        "base_svm2 = LinearSVC(max_iter=5000)\n",
        "svm_model2 = CalibratedClassifierCV(base_svm2, cv=5)  # Platt scaling internally\n",
        "\n",
        "svm_model2.fit(X_sel_train, y_train)\n",
        "\n",
        "y_pred_svm_sel = svm_model2.predict(X_sel_test)\n",
        "print(\"\\nSVM Final Test Set Performance:\")\n",
        "print(classification_report(y_test, y_pred_svm_sel))\n",
        "\n",
        "\n",
        "y_proba_svm_sel = svm_model2.predict_proba(X_sel_test)\n",
        "\n",
        "# Compute custom log loss\n",
        "custom_loss_svm_sel = multiclass_log_loss(y_test, y_proba_svm_sel)\n",
        "print(f\"Probabilistic Log Loss (SVM): {custom_loss_svm_sel:.4f}\")"
      ],
      "metadata": {
        "colab": {
          "base_uri": "https://localhost:8080/"
        },
        "id": "1nyVgDhJm07B",
        "outputId": "e24207d4-8ba5-47a9-ddcd-7fed248c59a2"
      },
      "id": "1nyVgDhJm07B",
      "execution_count": null,
      "outputs": [
        {
          "output_type": "stream",
          "name": "stdout",
          "text": [
            "\n",
            "SVM Final Test Set Performance:\n",
            "              precision    recall  f1-score   support\n",
            "\n",
            "           0       0.96      0.97      0.97      3033\n",
            "           1       0.88      0.86      0.87      2372\n",
            "           2       0.89      0.95      0.92      8652\n",
            "           3       0.96      0.94      0.95      1073\n",
            "           4       0.93      0.92      0.92      3016\n",
            "           5       0.95      0.94      0.95      3565\n",
            "           6       0.94      0.92      0.93      1519\n",
            "           7       0.95      0.92      0.94      3752\n",
            "           8       0.96      0.94      0.95      1316\n",
            "           9       0.94      0.91      0.92       903\n",
            "          10       0.86      0.84      0.85      3589\n",
            "          11       0.91      0.89      0.90      1425\n",
            "          12       0.88      0.78      0.83      1318\n",
            "          13       0.91      0.82      0.86       323\n",
            "          14       0.98      0.94      0.96       226\n",
            "          15       0.95      0.92      0.94       320\n",
            "\n",
            "    accuracy                           0.92     36402\n",
            "   macro avg       0.93      0.90      0.92     36402\n",
            "weighted avg       0.92      0.92      0.92     36402\n",
            "\n",
            "Probabilistic Log Loss (SVM): 0.3110\n"
          ]
        }
      ]
    },
    {
      "cell_type": "markdown",
      "source": [
        "---\n",
        "- mlp"
      ],
      "metadata": {
        "id": "27W7Me8RpiOG"
      },
      "id": "27W7Me8RpiOG"
    },
    {
      "cell_type": "code",
      "source": [
        "import os\n",
        "import torch\n",
        "import pandas as pd\n",
        "import seaborn as sns\n",
        "import torch.nn as nn\n",
        "import matplotlib.cm as cm\n",
        "import torch.optim as optim\n",
        "import matplotlib.pyplot as plt\n",
        "from sklearn.preprocessing import label_binarize\n",
        "from torch.utils.data import DataLoader, TensorDataset\n",
        "from sklearn.metrics import auc, precision_recall_curve, classification_report\n",
        "from sklearn.model_selection import train_test_split\n"
      ],
      "metadata": {
        "id": "lF3Kd8h6k_uV"
      },
      "id": "lF3Kd8h6k_uV",
      "execution_count": null,
      "outputs": []
    },
    {
      "cell_type": "code",
      "source": [
        "X_train_split, X_val_split, y_train_split, y_val_split = train_test_split(\n",
        "    X_tfidf_train,\n",
        "    y_train,\n",
        "    test_size=0.2,\n",
        "    random_state=42,\n",
        "    stratify=y_train  # Ensures class distribution is preserved\n",
        ")\n",
        "\n",
        "y_train_split = y_train_split.reset_index(drop=True)\n",
        "y_val_split = y_val_split.reset_index(drop=True)\n",
        "y_test = y_test.reset_index(drop=True)"
      ],
      "metadata": {
        "id": "I7GzL1lxl0kr"
      },
      "id": "I7GzL1lxl0kr",
      "execution_count": null,
      "outputs": []
    },
    {
      "cell_type": "code",
      "source": [
        "device = torch.device('cuda') if torch.cuda.is_available() else torch.device('cpu')\n",
        "print(device)"
      ],
      "metadata": {
        "colab": {
          "base_uri": "https://localhost:8080/"
        },
        "id": "QysXrNEimKqI",
        "outputId": "6b9b7a87-2d68-467f-f577-28301da57a0b"
      },
      "id": "QysXrNEimKqI",
      "execution_count": null,
      "outputs": [
        {
          "output_type": "stream",
          "name": "stdout",
          "text": [
            "cuda\n"
          ]
        }
      ]
    },
    {
      "cell_type": "code",
      "source": [
        "from torch.utils.data import Dataset\n",
        "from sklearn.model_selection import StratifiedKFold\n",
        "\n",
        "class SparseDataset(torch.utils.data.Dataset):\n",
        "    def __init__(self, X, y):\n",
        "        self.X = X\n",
        "        if isinstance(y, pd.Series):\n",
        "            self.y = y.reset_index(drop=True)\n",
        "        else:\n",
        "            self.y = y  # Assume already tensor or compatible\n",
        "\n",
        "    def __len__(self):\n",
        "        return self.X.shape[0]\n",
        "\n",
        "    def __getitem__(self, idx):\n",
        "        x = torch.tensor(self.X[idx].toarray(), dtype=torch.float32).squeeze(0)\n",
        "        y = self.y[idx] if isinstance(self.y, torch.Tensor) else torch.tensor(self.y[idx], dtype=torch.long)\n",
        "        return x, y\n"
      ],
      "metadata": {
        "id": "2T_f0yR0qUlK"
      },
      "id": "2T_f0yR0qUlK",
      "execution_count": null,
      "outputs": []
    },
    {
      "cell_type": "code",
      "source": [
        "class CustomModel(nn.Module):\n",
        "    def __init__(self, input_dim, hidden_layers=None,\n",
        "                 dropout=0.0, batch_norm=False, layer_norm=False,\n",
        "                 classes_number=20, device=None):\n",
        "\n",
        "        super(CustomModel, self).__init__()\n",
        "        layers = []\n",
        "        prev_dim = input_dim\n",
        "\n",
        "        if hidden_layers:\n",
        "            for hidden_dim in hidden_layers:\n",
        "                layers.append(nn.Linear(prev_dim, hidden_dim))\n",
        "                layers.append(nn.ReLU())\n",
        "                if batch_norm:\n",
        "                    layers.append(nn.BatchNorm1d(hidden_dim))\n",
        "                if layer_norm:\n",
        "                    layers.append(nn.LayerNorm(hidden_dim))\n",
        "                if dropout > 0:\n",
        "                    layers.append(nn.Dropout(dropout))\n",
        "                prev_dim = hidden_dim\n",
        "\n",
        "        layers.append(nn.Linear(prev_dim, classes_number))\n",
        "        self.net = nn.Sequential(*layers)\n",
        "\n",
        "        # Ensure the model is on the correct device\n",
        "        if device:\n",
        "            self.to(device)\n",
        "\n",
        "    def forward(self, x):\n",
        "        return self.net(x)\n",
        "\n",
        "def train_model(model, train_loader, val_loader, criterion, optimizer,\n",
        "                epochs=20, patience=5):\n",
        "    train_losses, val_losses = [], []\n",
        "    train_log_losses, val_log_losses = [], []\n",
        "    best_val_loss = float('inf')\n",
        "    best_model_path = None\n",
        "    no_improvement_epochs = 0\n",
        "\n",
        "    for epoch in range(epochs):\n",
        "        model.train()\n",
        "        train_loss = 0\n",
        "        y_train_true, y_train_prob = [], []\n",
        "\n",
        "        for X_batch, y_batch in train_loader:\n",
        "            X_batch, y_batch = X_batch.to(device), y_batch.to(device)\n",
        "\n",
        "            optimizer.zero_grad()\n",
        "            y_pred = model(X_batch)\n",
        "            loss = criterion(y_pred, y_batch)\n",
        "            loss.backward()\n",
        "            optimizer.step()\n",
        "            train_loss += loss.item()\n",
        "\n",
        "            probs = torch.softmax(y_pred, dim=1)\n",
        "            y_train_true.extend(y_batch.cpu().tolist())\n",
        "            y_train_prob.extend(probs.detach().cpu().tolist())\n",
        "\n",
        "        train_loss /= len(train_loader)\n",
        "        train_losses.append(train_loss)\n",
        "\n",
        "        # Log loss on training set\n",
        "        y_train_true = np.array(y_train_true)\n",
        "        y_train_prob = np.array(y_train_prob)\n",
        "        train_log_loss = multiclass_log_loss(y_train_true, y_train_prob)\n",
        "        train_log_losses.append(train_log_loss)\n",
        "\n",
        "        # Validation\n",
        "        model.eval()\n",
        "        val_loss = 0\n",
        "        y_val_true, y_val_prob = [], []\n",
        "        with torch.no_grad():\n",
        "            for X_batch, y_batch in val_loader:\n",
        "                X_batch, y_batch = X_batch.to(device), y_batch.to(device)\n",
        "                y_pred = model(X_batch)\n",
        "                loss = criterion(y_pred, y_batch)\n",
        "                val_loss += loss.item()\n",
        "\n",
        "                probs = torch.softmax(y_pred, dim=1)\n",
        "                y_val_true.extend(y_batch.cpu().tolist())\n",
        "                y_val_prob.extend(probs.cpu().tolist())\n",
        "\n",
        "        val_loss /= len(val_loader)\n",
        "        val_losses.append(val_loss)\n",
        "\n",
        "        y_val_true = np.array(y_val_true)\n",
        "        y_val_prob = np.array(y_val_prob)\n",
        "        val_log_loss = multiclass_log_loss(y_val_true, y_val_prob)\n",
        "        val_log_losses.append(val_log_loss)\n",
        "\n",
        "        print(f\"Epoch {epoch+1}/{epochs} | Train Loss: {train_loss:.4f} | Val Loss: {val_loss:.4f} | \"\n",
        "              f\"Train LogLoss: {train_log_loss:.4f} | Val LogLoss: {val_log_loss:.4f}\")\n",
        "\n",
        "        # Early stopping\n",
        "        if val_loss < best_val_loss:\n",
        "            best_val_loss = val_loss\n",
        "            new_model_path = f'mlp_best_model_epoch_{epoch+1}.pth'\n",
        "            if best_model_path is not None:\n",
        "                os.remove(best_model_path)\n",
        "            torch.save(model.state_dict(), new_model_path)\n",
        "            best_model_path = new_model_path\n",
        "            no_improvement_epochs = 0\n",
        "        else:\n",
        "            no_improvement_epochs += 1\n",
        "\n",
        "        if no_improvement_epochs >= patience:\n",
        "            print(f\"Early stopping triggered at epoch {epoch+1}\")\n",
        "            break\n",
        "\n",
        "    return train_losses, val_losses, train_log_losses, val_log_losses\n",
        "\n",
        "\n",
        "def evaluate_model(model, test_loader):\n",
        "    model.eval()\n",
        "    y_true, y_pred, y_prob = [], [], []  # y_prob will store probabilities for ROC curve\n",
        "    with torch.no_grad():\n",
        "        for X_batch, y_batch in test_loader:\n",
        "            X_batch, y_batch = X_batch.to(device), y_batch.to(device)\n",
        "            preds = model(X_batch)\n",
        "            probs = torch.softmax(preds, dim=1)  # Convert logits to probabilities\n",
        "            preds = torch.argmax(probs, dim=1)  # Get predicted class (for metrics)\n",
        "\n",
        "            y_true.extend(y_batch.tolist())\n",
        "            y_pred.extend(preds.tolist())\n",
        "            y_prob.extend(probs.tolist())  # Store probabilities for ROC curve\n",
        "\n",
        "    # Convert lists to numpy arrays\n",
        "    y_true = np.array(y_true)\n",
        "    y_pred = np.array(y_pred)\n",
        "    y_prob = np.array(y_prob)\n",
        "\n",
        "    return y_true, y_pred, y_prob\n",
        "\n",
        "# Create datasets for train, validation, and test\n",
        "train_dataset = SparseDataset(X_train_split, y_train_split)\n",
        "val_dataset = SparseDataset(X_val_split, y_val_split)\n",
        "test_dataset = SparseDataset(X_tfidf_test, y_test)\n",
        "\n",
        "# Create data loaders\n",
        "train_loader = DataLoader(train_dataset, batch_size=64, shuffle=True)\n",
        "val_loader = DataLoader(val_dataset, batch_size=64, shuffle=False)\n",
        "test_loader = DataLoader(test_dataset, batch_size=64)\n",
        "\n",
        "test_dataset_unlabeled = SparseDataset(X_tfidf_test_comp, torch.zeros(X_tfidf_test_comp.shape[0]))  # Dummy labels\n",
        "test_loader_unlabeled = DataLoader(test_dataset_unlabeled, batch_size=64, shuffle=False)\n",
        "\n",
        "\n",
        "\n",
        "# Re-initialize model per fold\n",
        "model = CustomModel(\n",
        "        input_dim=X_tfidf_train.shape[1],\n",
        "        hidden_layers=[256, 128, 64],\n",
        "        dropout=0.4,\n",
        "        batch_norm=True,\n",
        "        layer_norm=True,\n",
        "        classes_number=len(np.unique(y_train_split)),\n",
        "        device=device\n",
        "    )\n",
        "\n",
        "\n",
        "from sklearn.utils.class_weight import compute_class_weight\n",
        "\n",
        "# Compute class weights\n",
        "class_weights = compute_class_weight('balanced', classes=np.unique(y_train), y=y_train)\n",
        "class_weights_tensor = torch.tensor(class_weights, dtype=torch.float32).to(device)\n",
        "\n",
        "# Define loss and optimizer (use class weights!)\n",
        "criterion = torch.nn.CrossEntropyLoss(weight=class_weights_tensor)\n",
        "optimizer = torch.optim.Adam(model.parameters(), lr=0.00001, weight_decay=1e-5)\n",
        "\n",
        "# Train the model for this fold\n",
        "train_losses, val_losses, train_log_losses, val_log_losses = train_model(\n",
        "        model, train_loader, val_loader, criterion, optimizer, epochs=20, patience=5\n",
        "    )"
      ],
      "metadata": {
        "colab": {
          "base_uri": "https://localhost:8080/"
        },
        "id": "H7jSyIGDpjSl",
        "outputId": "58a80d64-93be-40b3-9df3-a793480ed359"
      },
      "id": "H7jSyIGDpjSl",
      "execution_count": null,
      "outputs": [
        {
          "output_type": "stream",
          "name": "stdout",
          "text": [
            "Epoch 1/20 | Train Loss: 2.5783 | Val Loss: 1.6944 | Train LogLoss: 2.5915 | Val LogLoss: 1.7860\n",
            "Epoch 2/20 | Train Loss: 1.9068 | Val Loss: 1.1423 | Train LogLoss: 1.9850 | Val LogLoss: 1.2722\n",
            "Epoch 3/20 | Train Loss: 1.4346 | Val Loss: 0.7986 | Train LogLoss: 1.5479 | Val LogLoss: 0.8957\n",
            "Epoch 4/20 | Train Loss: 1.1052 | Val Loss: 0.6126 | Train LogLoss: 1.2172 | Val LogLoss: 0.7147\n",
            "Epoch 5/20 | Train Loss: 0.8605 | Val Loss: 0.5007 | Train LogLoss: 0.9691 | Val LogLoss: 0.5755\n",
            "Epoch 6/20 | Train Loss: 0.6958 | Val Loss: 0.4319 | Train LogLoss: 0.7942 | Val LogLoss: 0.4893\n",
            "Epoch 7/20 | Train Loss: 0.5751 | Val Loss: 0.3864 | Train LogLoss: 0.6617 | Val LogLoss: 0.4311\n",
            "Epoch 8/20 | Train Loss: 0.4868 | Val Loss: 0.3571 | Train LogLoss: 0.5653 | Val LogLoss: 0.3979\n",
            "Epoch 9/20 | Train Loss: 0.4139 | Val Loss: 0.3498 | Train LogLoss: 0.4924 | Val LogLoss: 0.4085\n",
            "Epoch 10/20 | Train Loss: 0.3638 | Val Loss: 0.3337 | Train LogLoss: 0.4381 | Val LogLoss: 0.3651\n",
            "Epoch 11/20 | Train Loss: 0.3212 | Val Loss: 0.3360 | Train LogLoss: 0.3935 | Val LogLoss: 0.3560\n",
            "Epoch 12/20 | Train Loss: 0.2843 | Val Loss: 0.3295 | Train LogLoss: 0.3550 | Val LogLoss: 0.3621\n",
            "Epoch 13/20 | Train Loss: 0.2553 | Val Loss: 0.3291 | Train LogLoss: 0.3225 | Val LogLoss: 0.3576\n",
            "Epoch 14/20 | Train Loss: 0.2321 | Val Loss: 0.3309 | Train LogLoss: 0.2976 | Val LogLoss: 0.3483\n",
            "Epoch 15/20 | Train Loss: 0.2098 | Val Loss: 0.3356 | Train LogLoss: 0.2726 | Val LogLoss: 0.3497\n",
            "Epoch 16/20 | Train Loss: 0.1909 | Val Loss: 0.3479 | Train LogLoss: 0.2524 | Val LogLoss: 0.3535\n",
            "Epoch 17/20 | Train Loss: 0.1771 | Val Loss: 0.3501 | Train LogLoss: 0.2351 | Val LogLoss: 0.3625\n",
            "Epoch 18/20 | Train Loss: 0.1621 | Val Loss: 0.3545 | Train LogLoss: 0.2159 | Val LogLoss: 0.3581\n",
            "Early stopping triggered at epoch 18\n"
          ]
        }
      ]
    },
    {
      "cell_type": "code",
      "source": [
        "y_true, y_pred, y_prob = evaluate_model(model, test_loader)\n",
        "y_true_comp, y_pred_comp, y_prob_comp = evaluate_model(model, test_loader_unlabeled)"
      ],
      "metadata": {
        "id": "S-YvpybBdeoN"
      },
      "id": "S-YvpybBdeoN",
      "execution_count": null,
      "outputs": []
    },
    {
      "cell_type": "code",
      "source": [
        "test_mlp_logloss = multiclass_log_loss(y_test, y_prob)\n",
        "print(test_mlp_logloss)"
      ],
      "metadata": {
        "colab": {
          "base_uri": "https://localhost:8080/"
        },
        "id": "zPWSTeFEdHcY",
        "outputId": "bfadfc5e-dba3-4b70-8f5f-ac6d3dad5dea"
      },
      "id": "zPWSTeFEdHcY",
      "execution_count": null,
      "outputs": [
        {
          "output_type": "stream",
          "name": "stdout",
          "text": [
            "0.3663376645453203\n"
          ]
        }
      ]
    },
    {
      "cell_type": "code",
      "source": [
        "import csv\n",
        "with open('/mlp1.csv', 'w') as csvfile:\n",
        "    writer = csv.writer(csvfile, delimiter=',')\n",
        "    lst = list()\n",
        "    for i in range(16):\n",
        "        lst.append('class'+str(i))\n",
        "    lst.insert(0, \"product\")\n",
        "    writer.writerow(lst)\n",
        "    for i,test_data in enumerate(test_data):\n",
        "        lst = y_prob_comp[i,:].round(decimals=4).tolist()\n",
        "        lst.insert(0, test_data)\n",
        "        writer.writerow(lst)"
      ],
      "metadata": {
        "id": "xcpJVcCjjQ5N"
      },
      "id": "xcpJVcCjjQ5N",
      "execution_count": null,
      "outputs": []
    },
    {
      "cell_type": "code",
      "source": [
        "X_train_split, X_val_split, y_train_split, y_val_split = train_test_split(\n",
        "    X_sel_train,\n",
        "    y_train,\n",
        "    test_size=0.2,\n",
        "    random_state=42,\n",
        "    stratify=y_train  # Ensures class distribution is preserved\n",
        ")\n",
        "\n",
        "# Create datasets for train, validation, and test\n",
        "train_dataset = SparseDataset(X_train_split, y_train_split)\n",
        "val_dataset = SparseDataset(X_val_split, y_val_split)\n",
        "test_dataset = SparseDataset(X_sel_test, y_test)\n",
        "\n",
        "# Create data loaders\n",
        "train_loader = DataLoader(train_dataset, batch_size=64, shuffle=True)\n",
        "val_loader = DataLoader(val_dataset, batch_size=64, shuffle=False)\n",
        "test_loader = DataLoader(test_dataset, batch_size=64)\n",
        "\n",
        "test_dataset_unlabeled = SparseDataset(X_sel_test_comp, torch.zeros(X_tfidf_test_comp.shape[0]))  # Dummy labels\n",
        "test_loader_unlabeled = DataLoader(test_dataset_unlabeled, batch_size=64, shuffle=False)\n",
        "\n",
        "\n",
        "\n",
        "# Re-initialize model per fold\n",
        "model = CustomModel(\n",
        "        input_dim=X_sel_train.shape[1],\n",
        "        hidden_layers=[128, 64],\n",
        "        dropout=0.4,\n",
        "        batch_norm=False,\n",
        "        layer_norm=True,\n",
        "        classes_number=len(np.unique(y_train_split)),\n",
        "        device=device\n",
        "    )\n",
        "\n",
        "\n",
        "from sklearn.utils.class_weight import compute_class_weight\n",
        "\n",
        "# Compute class weights\n",
        "class_weights = compute_class_weight('balanced', classes=np.unique(y_train), y=y_train)\n",
        "class_weights_tensor = torch.tensor(class_weights, dtype=torch.float32).to(device)\n",
        "\n",
        "# Define loss and optimizer (use class weights!)\n",
        "criterion = torch.nn.CrossEntropyLoss()\n",
        "optimizer = torch.optim.Adam(model.parameters(), lr=0.00001, weight_decay=1e-2)\n",
        "\n",
        "# Train the model for this fold\n",
        "train_losses, val_losses, train_log_losses, val_log_losses = train_model(\n",
        "        model, train_loader, val_loader, criterion, optimizer, epochs=20, patience=5\n",
        "    )"
      ],
      "metadata": {
        "colab": {
          "base_uri": "https://localhost:8080/"
        },
        "id": "dkIuXrRBimvz",
        "outputId": "d411c99e-d73c-44ca-f57b-6b092c1b2eba"
      },
      "id": "dkIuXrRBimvz",
      "execution_count": null,
      "outputs": [
        {
          "output_type": "stream",
          "name": "stdout",
          "text": [
            "Epoch 1/20 | Train Loss: 2.0217 | Val Loss: 1.1161 | Train LogLoss: 2.0217 | Val LogLoss: 1.1164\n",
            "Epoch 2/20 | Train Loss: 1.1456 | Val Loss: 0.6833 | Train LogLoss: 1.1458 | Val LogLoss: 0.6840\n",
            "Epoch 3/20 | Train Loss: 0.8053 | Val Loss: 0.5131 | Train LogLoss: 0.8049 | Val LogLoss: 0.5138\n"
          ]
        }
      ]
    },
    {
      "cell_type": "code",
      "source": [
        "y_true, y_pred, y_prob = evaluate_model(model, test_loader)\n",
        "y_true_comp, y_pred_comp, y_prob_comp = evaluate_model(model, test_loader_unlabeled)\n",
        "\n",
        "test_mlp_logloss = multiclass_log_loss(y_test, y_prob)\n",
        "print(test_mlp_logloss)"
      ],
      "metadata": {
        "id": "F09oidF1jX5n"
      },
      "id": "F09oidF1jX5n",
      "execution_count": null,
      "outputs": []
    },
    {
      "cell_type": "code",
      "source": [
        "import csv\n",
        "with open('/mlp2.csv', 'w') as csvfile:\n",
        "    writer = csv.writer(csvfile, delimiter=',')\n",
        "    lst = list()\n",
        "    for i in range(16):\n",
        "        lst.append('class'+str(i))\n",
        "    lst.insert(0, \"product\")\n",
        "    writer.writerow(lst)\n",
        "    for i,test_data in enumerate(test_data):\n",
        "        lst = y_prob_comp[i,:].round(decimals=4).tolist()\n",
        "        lst.insert(0, test_data)\n",
        "        writer.writerow(lst)"
      ],
      "metadata": {
        "id": "jkYfkVG4hfkL"
      },
      "id": "jkYfkVG4hfkL",
      "execution_count": null,
      "outputs": []
    },
    {
      "cell_type": "markdown",
      "source": [
        "- dr=0.5, hidden=128, layernorm, lr=0.0001, wd=10-3"
      ],
      "metadata": {
        "id": "eCUQgAXWPSUv"
      },
      "id": "eCUQgAXWPSUv"
    },
    {
      "cell_type": "markdown",
      "source": [
        "HERE!!!!"
      ],
      "metadata": {
        "id": "UekBYiJAESHQ"
      },
      "id": "UekBYiJAESHQ"
    },
    {
      "cell_type": "markdown",
      "source": [
        "---\n",
        "-Sematic Feature"
      ],
      "metadata": {
        "id": "D5Aa48T2h38O"
      },
      "id": "D5Aa48T2h38O"
    },
    {
      "cell_type": "code",
      "source": [
        "# Import necessary libraries\n",
        "from sklearn.feature_extraction.text import TfidfVectorizer\n",
        "import pandas as pd\n",
        "\n",
        "# Initialize the TfidfVectorizer\n",
        "tfidf_vectorizer = TfidfVectorizer(ngram_range=(1,2), min_df=5, max_df=0.95)\n",
        "\n",
        "\n",
        "# Fit and transform the text data to get the TF-IDF matrix\n",
        "X_tfidf_train = tfidf_vectorizer.fit_transform(X_train) # labeled train set\n",
        "X_tfidf_test = tfidf_vectorizer.transform(X_test) # labeled test set\n",
        "#X_tfidf_test_comp =  tfidf_vectorizer.transform(test_text_cleaned) # unlabeled test set\n",
        "\n",
        "from sentence_transformers import SentenceTransformer\n",
        "#model = SentenceTransformer('all-MiniLM-L6-v2')\n",
        "\n",
        "model = SentenceTransformer('all-mpnet-base-v2')\n",
        "\n",
        "X_embed_train = model.encode(X_train, convert_to_tensor=False)\n",
        "X_embed_test = model.encode(X_test, convert_to_tensor=False)\n",
        "\n",
        "# Concatenate TF-IDF with semantic embeddings\n",
        "from scipy.sparse import hstack\n",
        "X_comb_train = hstack([X_tfidf_train, X_embed_train])\n",
        "X_comb_test = hstack([X_tfidf_test, X_embed_test])\n",
        "\n",
        "\n",
        "#---------TRAIN BEST SVC-------------------------------------\n",
        "\n",
        "from sklearn.svm import LinearSVC\n",
        "from sklearn.calibration import CalibratedClassifierCV\n",
        "\n",
        "base_svm2 = LinearSVC(max_iter=5000)\n",
        "svm_model2 = CalibratedClassifierCV(base_svm2, cv=5)  # Platt scaling internally\n",
        "\n",
        "svm_model2.fit(X_comb_train, y_train)\n",
        "\n",
        "y_pred_svm2 = svm_model2.predict(X_comb_test)\n",
        "print(\"\\nSVM Final Test Set Performance:\")\n",
        "\n",
        "\n",
        "y_proba_svm2 = svm_model2.predict_proba(X_comb_test)\n",
        "\n",
        "# Compute custom log loss\n",
        "custom_loss_svm2 = multiclass_log_loss(y_test, y_proba_svm2)\n",
        "print(f\"Probabilistic Log Loss (SVM): {custom_loss_svm2:.4f}\")"
      ],
      "metadata": {
        "id": "QdC62dVNh3jF",
        "colab": {
          "base_uri": "https://localhost:8080/",
          "height": 476,
          "referenced_widgets": [
            "613363dfc2014101af302b59eded37da",
            "5e918e1d684646728ae066cf0b22f81f",
            "3e2f7d7330154a7a86bff39fbc3c5b3c",
            "419437b1907344b28f952c05b72a3606",
            "dd92271801704105abcf6f4a68abae68",
            "fce992474cc844c5a6c30c2dd97cbdc8",
            "bb42cdd96e3a4d929a4692419801b30d",
            "b990fb5b47f64118b2ee6a47dc06cfd4",
            "94589a465df74abf9bb41094008e41dc",
            "bb9453c62dad4008a5eace04803a1c4e",
            "15b0150a1cf04d20b7ce86ceac591ea9",
            "3df5237bfcde4e47a33410a4476e0c3e",
            "321d7a3f77cf441a85377b17ffd5a02b",
            "5153562a07b84bdcb538856da1278c49",
            "95d13ef887054221b781ce843810e2c2",
            "6f254f24560742c3b635ad004577feb7",
            "f4dc3f7d43e14febbae59d5c4e13f279",
            "0d6904720ebf4809996abc892c684b0b",
            "b2651fe467aa442da2d7afb8a0c67a81",
            "92bbead1860a4ce3a02d7024b2bdf519",
            "1cf49029541b4205aff4548fa702982e",
            "2f750708b274448d84d8a3d01aeff3ea",
            "f0479bf163c24e5dbf94d3d7ddf62cfb",
            "5f6eba5c428b49dbba56be9bc4da19e3",
            "047b358992f648a6ae01ee613ccc4ca9",
            "3f872408baf84811a7f4e04797d07f5f",
            "63c2ef6db9394ef3824105aedf1c10be",
            "93fc39f8f941418b9363cc2b28835140",
            "d7982c8ab48346eba03e8771e405cc48",
            "cd1800f915774d36bbe1971829a0a417",
            "6158575970b34a659600f40d93172349",
            "1ca24f52b31b4102a53e105056dafc31",
            "949684af36e548a29d5c24c80923473c",
            "324aa9eb81674555a514a4dd91927708",
            "5661925b15fb4da188b61932f91ac9ab",
            "74893fe1a7214ccf9673de9073dba6e4",
            "f35a26d156934490b6184519df0c1468",
            "8dc4da3b834f4a3fb78d391f4fb8ef47",
            "4fea1af6c81f4009ae135390a1d907a4",
            "446dd2e7898b47d9979e677f80dbb026",
            "54ad88013edd46ef877f34c895e8e910",
            "02b541ae470048b6ac1acdaf5e7513ae",
            "f769502b917b4432ab287079104c8d62",
            "5976bd1d16024deb820e95c2be9d0284",
            "36ac2754d18f4a18b86681a2ee30f589",
            "0397b89b55954eebb11f9f548c93c8da",
            "56c988173fff43b1a6cccdb13da20182",
            "09d94cdb3ef84b6a87c6978faa242930",
            "76050d68765248a89146675328754486",
            "941cffa9a1a84d31af3a0f454ba1486a",
            "2c13c7de81f440c091242fdd18a1253c",
            "986aeb9ee09344529477c71e2e3b969d",
            "80a94ce3476e4c03bf38014ad2b5734a",
            "9e28680cc07148abbb7c403e32433832",
            "913c0ab9023b4eac86a2c17fc5e92c5e",
            "4d2e857db9294ad7ae6154699a04e59c",
            "8886f9d316e24689bb72574492e79dee",
            "78f294140fd7427782e77013769fcd17",
            "cbb16636d88f401b8e80a09d71b96782",
            "f6716bfb03f4408cb02546cbe291b8e1",
            "00b5ffd8dee745399c35b7b6c9bde4ba",
            "42f5ba83c57c4685bda9269a76ce1b37",
            "3d31db2ee7ba47ae8cefcde131a758e9",
            "1f5269c8e818435f849e68ab924d11af",
            "e874ac30ef074fdd9468cdeadddc0fc3",
            "f99c0881ad9245c4a74f4d4f70fdc1b9",
            "8d0e63270eff46129acf13cdabb49438",
            "dbb9b977bbc140cf991ff42b9a90ef94",
            "a1c54ac462114e988be08eae0733ba32",
            "efa791b0115d4939b9a0d51156ab3855",
            "e34ebaebf0dd4f8b9417b86cfa4e0145",
            "ac144b5147d943b69819e888dc7f0c3f",
            "fcddf277c9f24e918654f458c553d9ab",
            "86a7d082453840cfb736d135ea089f60",
            "25c84abaf1d64fd49d18708734420642",
            "e87d08e5cba147958a13236eb867df01",
            "94459fa41b4e4cc5bb03e06c6f632bca",
            "0fd7729bdea34d1e9052d8386452c0d8",
            "5f2a7fe25ba04ea9bac1892c71c847f4",
            "9f41543df2944d67807a638661fa5edb",
            "82acd5368e714edf824cfe5ef9001e4e",
            "0509eb61d57b4c3d8da0a3c8889f719f",
            "e57e2d5f66264aec948291d209242cee",
            "9c5b9a65be46457194e8e29f44b4daea",
            "ebd13e54bb5f4e78a4deaf0d00126ff0",
            "2ab4996ae4434d6791e2c37887521944",
            "7205fe8aedd14b1c9710727e309afb5f",
            "e70eec567e59467ea2c31d248afaa58a",
            "d302957a284046bb8ac9a602d779dfe0",
            "d3eca98c84e14b1f8d1746bf55bfdf3b",
            "b836924dfdf34f0abf5416ce48238dd7",
            "e23470c226ad4eb99c3ec67f23117d79",
            "cb00d578da654b15b9683dcaa96626f9",
            "36698f6362914a6f9567aec64431600a",
            "5861d9f505904d47a6f183b71d6a6ba5",
            "69faae1013614c27b12e028132ef0b3d",
            "879e06e935e540dc81284c4dc9e1f30f",
            "5317aaf3d50b447cac7e9623e977ea38",
            "750b1a0d80e94c65bd744ed833d599fc",
            "470309d94b3848a8a61987ccafed5eb7",
            "63e1ada8bc414a0f87e72cd7abe99f19",
            "e01b4e12e20b414782fb9d8aa2fa32ef",
            "0d5b7059a2314d2895f11fd3f26d7d0d",
            "1b019b2f62e84c25af2dfd72886832cc",
            "ab15c4bccbd345ee8cc1c427018e42bf",
            "d99d5e256b674339b4b30cbc8b40e4b7",
            "f8a253c7fd01439c8b08578e352d387f",
            "bc23691948ad4ff0993eaea0febe9c82",
            "7635b6289cfd4307a4155625d88e5c91",
            "3ad53cf1c40643b9a86662d6debc3329",
            "3448a6e983914ac0b848a1411f49bb2c",
            "99cdaccedaa8438780d2881da1f2f8f2",
            "bdf3db31d18a4be59ff6f0ad90cb552a",
            "00a460c9efa14e49953c5f28075a4560",
            "b39e197037e54d068a59c3f72a5c6cc9",
            "d8579b186d9b4783a721671048b051ac",
            "1467781809a84f14a59f56e6ddbf5e85",
            "03fcc39f474347508dcf96526df3943a",
            "de8265401ad849348efd47ebe85ddf06",
            "f0e65fbcee9d4ed584f6e148e6780149",
            "0bae5813bf294b6abb5d9961e7e15c58"
          ]
        },
        "outputId": "178b01e6-c0c5-4153-8158-4135759737c2"
      },
      "id": "QdC62dVNh3jF",
      "execution_count": 15,
      "outputs": [
        {
          "output_type": "display_data",
          "data": {
            "text/plain": [
              "modules.json:   0%|          | 0.00/349 [00:00<?, ?B/s]"
            ],
            "application/vnd.jupyter.widget-view+json": {
              "version_major": 2,
              "version_minor": 0,
              "model_id": "613363dfc2014101af302b59eded37da"
            }
          },
          "metadata": {}
        },
        {
          "output_type": "display_data",
          "data": {
            "text/plain": [
              "config_sentence_transformers.json:   0%|          | 0.00/116 [00:00<?, ?B/s]"
            ],
            "application/vnd.jupyter.widget-view+json": {
              "version_major": 2,
              "version_minor": 0,
              "model_id": "3df5237bfcde4e47a33410a4476e0c3e"
            }
          },
          "metadata": {}
        },
        {
          "output_type": "display_data",
          "data": {
            "text/plain": [
              "README.md:   0%|          | 0.00/10.4k [00:00<?, ?B/s]"
            ],
            "application/vnd.jupyter.widget-view+json": {
              "version_major": 2,
              "version_minor": 0,
              "model_id": "f0479bf163c24e5dbf94d3d7ddf62cfb"
            }
          },
          "metadata": {}
        },
        {
          "output_type": "display_data",
          "data": {
            "text/plain": [
              "sentence_bert_config.json:   0%|          | 0.00/53.0 [00:00<?, ?B/s]"
            ],
            "application/vnd.jupyter.widget-view+json": {
              "version_major": 2,
              "version_minor": 0,
              "model_id": "324aa9eb81674555a514a4dd91927708"
            }
          },
          "metadata": {}
        },
        {
          "output_type": "display_data",
          "data": {
            "text/plain": [
              "config.json:   0%|          | 0.00/571 [00:00<?, ?B/s]"
            ],
            "application/vnd.jupyter.widget-view+json": {
              "version_major": 2,
              "version_minor": 0,
              "model_id": "36ac2754d18f4a18b86681a2ee30f589"
            }
          },
          "metadata": {}
        },
        {
          "output_type": "stream",
          "name": "stderr",
          "text": [
            "Xet Storage is enabled for this repo, but the 'hf_xet' package is not installed. Falling back to regular HTTP download. For better performance, install the package with: `pip install huggingface_hub[hf_xet]` or `pip install hf_xet`\n",
            "WARNING:huggingface_hub.file_download:Xet Storage is enabled for this repo, but the 'hf_xet' package is not installed. Falling back to regular HTTP download. For better performance, install the package with: `pip install huggingface_hub[hf_xet]` or `pip install hf_xet`\n"
          ]
        },
        {
          "output_type": "display_data",
          "data": {
            "text/plain": [
              "model.safetensors:   0%|          | 0.00/438M [00:00<?, ?B/s]"
            ],
            "application/vnd.jupyter.widget-view+json": {
              "version_major": 2,
              "version_minor": 0,
              "model_id": "4d2e857db9294ad7ae6154699a04e59c"
            }
          },
          "metadata": {}
        },
        {
          "output_type": "display_data",
          "data": {
            "text/plain": [
              "tokenizer_config.json:   0%|          | 0.00/363 [00:00<?, ?B/s]"
            ],
            "application/vnd.jupyter.widget-view+json": {
              "version_major": 2,
              "version_minor": 0,
              "model_id": "8d0e63270eff46129acf13cdabb49438"
            }
          },
          "metadata": {}
        },
        {
          "output_type": "display_data",
          "data": {
            "text/plain": [
              "vocab.txt:   0%|          | 0.00/232k [00:00<?, ?B/s]"
            ],
            "application/vnd.jupyter.widget-view+json": {
              "version_major": 2,
              "version_minor": 0,
              "model_id": "0fd7729bdea34d1e9052d8386452c0d8"
            }
          },
          "metadata": {}
        },
        {
          "output_type": "display_data",
          "data": {
            "text/plain": [
              "tokenizer.json:   0%|          | 0.00/466k [00:00<?, ?B/s]"
            ],
            "application/vnd.jupyter.widget-view+json": {
              "version_major": 2,
              "version_minor": 0,
              "model_id": "d302957a284046bb8ac9a602d779dfe0"
            }
          },
          "metadata": {}
        },
        {
          "output_type": "display_data",
          "data": {
            "text/plain": [
              "special_tokens_map.json:   0%|          | 0.00/239 [00:00<?, ?B/s]"
            ],
            "application/vnd.jupyter.widget-view+json": {
              "version_major": 2,
              "version_minor": 0,
              "model_id": "470309d94b3848a8a61987ccafed5eb7"
            }
          },
          "metadata": {}
        },
        {
          "output_type": "display_data",
          "data": {
            "text/plain": [
              "config.json:   0%|          | 0.00/190 [00:00<?, ?B/s]"
            ],
            "application/vnd.jupyter.widget-view+json": {
              "version_major": 2,
              "version_minor": 0,
              "model_id": "3448a6e983914ac0b848a1411f49bb2c"
            }
          },
          "metadata": {}
        },
        {
          "output_type": "stream",
          "name": "stdout",
          "text": [
            "\n",
            "SVM Final Test Set Performance:\n",
            "Probabilistic Log Loss (SVM): 0.2434\n"
          ]
        }
      ]
    }
  ],
  "metadata": {
    "kernelspec": {
      "display_name": "Python 3",
      "name": "python3"
    },
    "language_info": {
      "codemirror_mode": {
        "name": "ipython",
        "version": 3
      },
      "file_extension": ".py",
      "mimetype": "text/x-python",
      "name": "python",
      "nbconvert_exporter": "python",
      "pygments_lexer": "ipython3",
      "version": "3.12.9"
    },
    "colab": {
      "provenance": [],
      "gpuType": "T4"
    },
    "accelerator": "GPU",
    "widgets": {
      "application/vnd.jupyter.widget-state+json": {
        "613363dfc2014101af302b59eded37da": {
          "model_module": "@jupyter-widgets/controls",
          "model_name": "HBoxModel",
          "model_module_version": "1.5.0",
          "state": {
            "_dom_classes": [],
            "_model_module": "@jupyter-widgets/controls",
            "_model_module_version": "1.5.0",
            "_model_name": "HBoxModel",
            "_view_count": null,
            "_view_module": "@jupyter-widgets/controls",
            "_view_module_version": "1.5.0",
            "_view_name": "HBoxView",
            "box_style": "",
            "children": [
              "IPY_MODEL_5e918e1d684646728ae066cf0b22f81f",
              "IPY_MODEL_3e2f7d7330154a7a86bff39fbc3c5b3c",
              "IPY_MODEL_419437b1907344b28f952c05b72a3606"
            ],
            "layout": "IPY_MODEL_dd92271801704105abcf6f4a68abae68"
          }
        },
        "5e918e1d684646728ae066cf0b22f81f": {
          "model_module": "@jupyter-widgets/controls",
          "model_name": "HTMLModel",
          "model_module_version": "1.5.0",
          "state": {
            "_dom_classes": [],
            "_model_module": "@jupyter-widgets/controls",
            "_model_module_version": "1.5.0",
            "_model_name": "HTMLModel",
            "_view_count": null,
            "_view_module": "@jupyter-widgets/controls",
            "_view_module_version": "1.5.0",
            "_view_name": "HTMLView",
            "description": "",
            "description_tooltip": null,
            "layout": "IPY_MODEL_fce992474cc844c5a6c30c2dd97cbdc8",
            "placeholder": "​",
            "style": "IPY_MODEL_bb42cdd96e3a4d929a4692419801b30d",
            "value": "modules.json: 100%"
          }
        },
        "3e2f7d7330154a7a86bff39fbc3c5b3c": {
          "model_module": "@jupyter-widgets/controls",
          "model_name": "FloatProgressModel",
          "model_module_version": "1.5.0",
          "state": {
            "_dom_classes": [],
            "_model_module": "@jupyter-widgets/controls",
            "_model_module_version": "1.5.0",
            "_model_name": "FloatProgressModel",
            "_view_count": null,
            "_view_module": "@jupyter-widgets/controls",
            "_view_module_version": "1.5.0",
            "_view_name": "ProgressView",
            "bar_style": "success",
            "description": "",
            "description_tooltip": null,
            "layout": "IPY_MODEL_b990fb5b47f64118b2ee6a47dc06cfd4",
            "max": 349,
            "min": 0,
            "orientation": "horizontal",
            "style": "IPY_MODEL_94589a465df74abf9bb41094008e41dc",
            "value": 349
          }
        },
        "419437b1907344b28f952c05b72a3606": {
          "model_module": "@jupyter-widgets/controls",
          "model_name": "HTMLModel",
          "model_module_version": "1.5.0",
          "state": {
            "_dom_classes": [],
            "_model_module": "@jupyter-widgets/controls",
            "_model_module_version": "1.5.0",
            "_model_name": "HTMLModel",
            "_view_count": null,
            "_view_module": "@jupyter-widgets/controls",
            "_view_module_version": "1.5.0",
            "_view_name": "HTMLView",
            "description": "",
            "description_tooltip": null,
            "layout": "IPY_MODEL_bb9453c62dad4008a5eace04803a1c4e",
            "placeholder": "​",
            "style": "IPY_MODEL_15b0150a1cf04d20b7ce86ceac591ea9",
            "value": " 349/349 [00:00&lt;00:00, 25.3kB/s]"
          }
        },
        "dd92271801704105abcf6f4a68abae68": {
          "model_module": "@jupyter-widgets/base",
          "model_name": "LayoutModel",
          "model_module_version": "1.2.0",
          "state": {
            "_model_module": "@jupyter-widgets/base",
            "_model_module_version": "1.2.0",
            "_model_name": "LayoutModel",
            "_view_count": null,
            "_view_module": "@jupyter-widgets/base",
            "_view_module_version": "1.2.0",
            "_view_name": "LayoutView",
            "align_content": null,
            "align_items": null,
            "align_self": null,
            "border": null,
            "bottom": null,
            "display": null,
            "flex": null,
            "flex_flow": null,
            "grid_area": null,
            "grid_auto_columns": null,
            "grid_auto_flow": null,
            "grid_auto_rows": null,
            "grid_column": null,
            "grid_gap": null,
            "grid_row": null,
            "grid_template_areas": null,
            "grid_template_columns": null,
            "grid_template_rows": null,
            "height": null,
            "justify_content": null,
            "justify_items": null,
            "left": null,
            "margin": null,
            "max_height": null,
            "max_width": null,
            "min_height": null,
            "min_width": null,
            "object_fit": null,
            "object_position": null,
            "order": null,
            "overflow": null,
            "overflow_x": null,
            "overflow_y": null,
            "padding": null,
            "right": null,
            "top": null,
            "visibility": null,
            "width": null
          }
        },
        "fce992474cc844c5a6c30c2dd97cbdc8": {
          "model_module": "@jupyter-widgets/base",
          "model_name": "LayoutModel",
          "model_module_version": "1.2.0",
          "state": {
            "_model_module": "@jupyter-widgets/base",
            "_model_module_version": "1.2.0",
            "_model_name": "LayoutModel",
            "_view_count": null,
            "_view_module": "@jupyter-widgets/base",
            "_view_module_version": "1.2.0",
            "_view_name": "LayoutView",
            "align_content": null,
            "align_items": null,
            "align_self": null,
            "border": null,
            "bottom": null,
            "display": null,
            "flex": null,
            "flex_flow": null,
            "grid_area": null,
            "grid_auto_columns": null,
            "grid_auto_flow": null,
            "grid_auto_rows": null,
            "grid_column": null,
            "grid_gap": null,
            "grid_row": null,
            "grid_template_areas": null,
            "grid_template_columns": null,
            "grid_template_rows": null,
            "height": null,
            "justify_content": null,
            "justify_items": null,
            "left": null,
            "margin": null,
            "max_height": null,
            "max_width": null,
            "min_height": null,
            "min_width": null,
            "object_fit": null,
            "object_position": null,
            "order": null,
            "overflow": null,
            "overflow_x": null,
            "overflow_y": null,
            "padding": null,
            "right": null,
            "top": null,
            "visibility": null,
            "width": null
          }
        },
        "bb42cdd96e3a4d929a4692419801b30d": {
          "model_module": "@jupyter-widgets/controls",
          "model_name": "DescriptionStyleModel",
          "model_module_version": "1.5.0",
          "state": {
            "_model_module": "@jupyter-widgets/controls",
            "_model_module_version": "1.5.0",
            "_model_name": "DescriptionStyleModel",
            "_view_count": null,
            "_view_module": "@jupyter-widgets/base",
            "_view_module_version": "1.2.0",
            "_view_name": "StyleView",
            "description_width": ""
          }
        },
        "b990fb5b47f64118b2ee6a47dc06cfd4": {
          "model_module": "@jupyter-widgets/base",
          "model_name": "LayoutModel",
          "model_module_version": "1.2.0",
          "state": {
            "_model_module": "@jupyter-widgets/base",
            "_model_module_version": "1.2.0",
            "_model_name": "LayoutModel",
            "_view_count": null,
            "_view_module": "@jupyter-widgets/base",
            "_view_module_version": "1.2.0",
            "_view_name": "LayoutView",
            "align_content": null,
            "align_items": null,
            "align_self": null,
            "border": null,
            "bottom": null,
            "display": null,
            "flex": null,
            "flex_flow": null,
            "grid_area": null,
            "grid_auto_columns": null,
            "grid_auto_flow": null,
            "grid_auto_rows": null,
            "grid_column": null,
            "grid_gap": null,
            "grid_row": null,
            "grid_template_areas": null,
            "grid_template_columns": null,
            "grid_template_rows": null,
            "height": null,
            "justify_content": null,
            "justify_items": null,
            "left": null,
            "margin": null,
            "max_height": null,
            "max_width": null,
            "min_height": null,
            "min_width": null,
            "object_fit": null,
            "object_position": null,
            "order": null,
            "overflow": null,
            "overflow_x": null,
            "overflow_y": null,
            "padding": null,
            "right": null,
            "top": null,
            "visibility": null,
            "width": null
          }
        },
        "94589a465df74abf9bb41094008e41dc": {
          "model_module": "@jupyter-widgets/controls",
          "model_name": "ProgressStyleModel",
          "model_module_version": "1.5.0",
          "state": {
            "_model_module": "@jupyter-widgets/controls",
            "_model_module_version": "1.5.0",
            "_model_name": "ProgressStyleModel",
            "_view_count": null,
            "_view_module": "@jupyter-widgets/base",
            "_view_module_version": "1.2.0",
            "_view_name": "StyleView",
            "bar_color": null,
            "description_width": ""
          }
        },
        "bb9453c62dad4008a5eace04803a1c4e": {
          "model_module": "@jupyter-widgets/base",
          "model_name": "LayoutModel",
          "model_module_version": "1.2.0",
          "state": {
            "_model_module": "@jupyter-widgets/base",
            "_model_module_version": "1.2.0",
            "_model_name": "LayoutModel",
            "_view_count": null,
            "_view_module": "@jupyter-widgets/base",
            "_view_module_version": "1.2.0",
            "_view_name": "LayoutView",
            "align_content": null,
            "align_items": null,
            "align_self": null,
            "border": null,
            "bottom": null,
            "display": null,
            "flex": null,
            "flex_flow": null,
            "grid_area": null,
            "grid_auto_columns": null,
            "grid_auto_flow": null,
            "grid_auto_rows": null,
            "grid_column": null,
            "grid_gap": null,
            "grid_row": null,
            "grid_template_areas": null,
            "grid_template_columns": null,
            "grid_template_rows": null,
            "height": null,
            "justify_content": null,
            "justify_items": null,
            "left": null,
            "margin": null,
            "max_height": null,
            "max_width": null,
            "min_height": null,
            "min_width": null,
            "object_fit": null,
            "object_position": null,
            "order": null,
            "overflow": null,
            "overflow_x": null,
            "overflow_y": null,
            "padding": null,
            "right": null,
            "top": null,
            "visibility": null,
            "width": null
          }
        },
        "15b0150a1cf04d20b7ce86ceac591ea9": {
          "model_module": "@jupyter-widgets/controls",
          "model_name": "DescriptionStyleModel",
          "model_module_version": "1.5.0",
          "state": {
            "_model_module": "@jupyter-widgets/controls",
            "_model_module_version": "1.5.0",
            "_model_name": "DescriptionStyleModel",
            "_view_count": null,
            "_view_module": "@jupyter-widgets/base",
            "_view_module_version": "1.2.0",
            "_view_name": "StyleView",
            "description_width": ""
          }
        },
        "3df5237bfcde4e47a33410a4476e0c3e": {
          "model_module": "@jupyter-widgets/controls",
          "model_name": "HBoxModel",
          "model_module_version": "1.5.0",
          "state": {
            "_dom_classes": [],
            "_model_module": "@jupyter-widgets/controls",
            "_model_module_version": "1.5.0",
            "_model_name": "HBoxModel",
            "_view_count": null,
            "_view_module": "@jupyter-widgets/controls",
            "_view_module_version": "1.5.0",
            "_view_name": "HBoxView",
            "box_style": "",
            "children": [
              "IPY_MODEL_321d7a3f77cf441a85377b17ffd5a02b",
              "IPY_MODEL_5153562a07b84bdcb538856da1278c49",
              "IPY_MODEL_95d13ef887054221b781ce843810e2c2"
            ],
            "layout": "IPY_MODEL_6f254f24560742c3b635ad004577feb7"
          }
        },
        "321d7a3f77cf441a85377b17ffd5a02b": {
          "model_module": "@jupyter-widgets/controls",
          "model_name": "HTMLModel",
          "model_module_version": "1.5.0",
          "state": {
            "_dom_classes": [],
            "_model_module": "@jupyter-widgets/controls",
            "_model_module_version": "1.5.0",
            "_model_name": "HTMLModel",
            "_view_count": null,
            "_view_module": "@jupyter-widgets/controls",
            "_view_module_version": "1.5.0",
            "_view_name": "HTMLView",
            "description": "",
            "description_tooltip": null,
            "layout": "IPY_MODEL_f4dc3f7d43e14febbae59d5c4e13f279",
            "placeholder": "​",
            "style": "IPY_MODEL_0d6904720ebf4809996abc892c684b0b",
            "value": "config_sentence_transformers.json: 100%"
          }
        },
        "5153562a07b84bdcb538856da1278c49": {
          "model_module": "@jupyter-widgets/controls",
          "model_name": "FloatProgressModel",
          "model_module_version": "1.5.0",
          "state": {
            "_dom_classes": [],
            "_model_module": "@jupyter-widgets/controls",
            "_model_module_version": "1.5.0",
            "_model_name": "FloatProgressModel",
            "_view_count": null,
            "_view_module": "@jupyter-widgets/controls",
            "_view_module_version": "1.5.0",
            "_view_name": "ProgressView",
            "bar_style": "success",
            "description": "",
            "description_tooltip": null,
            "layout": "IPY_MODEL_b2651fe467aa442da2d7afb8a0c67a81",
            "max": 116,
            "min": 0,
            "orientation": "horizontal",
            "style": "IPY_MODEL_92bbead1860a4ce3a02d7024b2bdf519",
            "value": 116
          }
        },
        "95d13ef887054221b781ce843810e2c2": {
          "model_module": "@jupyter-widgets/controls",
          "model_name": "HTMLModel",
          "model_module_version": "1.5.0",
          "state": {
            "_dom_classes": [],
            "_model_module": "@jupyter-widgets/controls",
            "_model_module_version": "1.5.0",
            "_model_name": "HTMLModel",
            "_view_count": null,
            "_view_module": "@jupyter-widgets/controls",
            "_view_module_version": "1.5.0",
            "_view_name": "HTMLView",
            "description": "",
            "description_tooltip": null,
            "layout": "IPY_MODEL_1cf49029541b4205aff4548fa702982e",
            "placeholder": "​",
            "style": "IPY_MODEL_2f750708b274448d84d8a3d01aeff3ea",
            "value": " 116/116 [00:00&lt;00:00, 5.61kB/s]"
          }
        },
        "6f254f24560742c3b635ad004577feb7": {
          "model_module": "@jupyter-widgets/base",
          "model_name": "LayoutModel",
          "model_module_version": "1.2.0",
          "state": {
            "_model_module": "@jupyter-widgets/base",
            "_model_module_version": "1.2.0",
            "_model_name": "LayoutModel",
            "_view_count": null,
            "_view_module": "@jupyter-widgets/base",
            "_view_module_version": "1.2.0",
            "_view_name": "LayoutView",
            "align_content": null,
            "align_items": null,
            "align_self": null,
            "border": null,
            "bottom": null,
            "display": null,
            "flex": null,
            "flex_flow": null,
            "grid_area": null,
            "grid_auto_columns": null,
            "grid_auto_flow": null,
            "grid_auto_rows": null,
            "grid_column": null,
            "grid_gap": null,
            "grid_row": null,
            "grid_template_areas": null,
            "grid_template_columns": null,
            "grid_template_rows": null,
            "height": null,
            "justify_content": null,
            "justify_items": null,
            "left": null,
            "margin": null,
            "max_height": null,
            "max_width": null,
            "min_height": null,
            "min_width": null,
            "object_fit": null,
            "object_position": null,
            "order": null,
            "overflow": null,
            "overflow_x": null,
            "overflow_y": null,
            "padding": null,
            "right": null,
            "top": null,
            "visibility": null,
            "width": null
          }
        },
        "f4dc3f7d43e14febbae59d5c4e13f279": {
          "model_module": "@jupyter-widgets/base",
          "model_name": "LayoutModel",
          "model_module_version": "1.2.0",
          "state": {
            "_model_module": "@jupyter-widgets/base",
            "_model_module_version": "1.2.0",
            "_model_name": "LayoutModel",
            "_view_count": null,
            "_view_module": "@jupyter-widgets/base",
            "_view_module_version": "1.2.0",
            "_view_name": "LayoutView",
            "align_content": null,
            "align_items": null,
            "align_self": null,
            "border": null,
            "bottom": null,
            "display": null,
            "flex": null,
            "flex_flow": null,
            "grid_area": null,
            "grid_auto_columns": null,
            "grid_auto_flow": null,
            "grid_auto_rows": null,
            "grid_column": null,
            "grid_gap": null,
            "grid_row": null,
            "grid_template_areas": null,
            "grid_template_columns": null,
            "grid_template_rows": null,
            "height": null,
            "justify_content": null,
            "justify_items": null,
            "left": null,
            "margin": null,
            "max_height": null,
            "max_width": null,
            "min_height": null,
            "min_width": null,
            "object_fit": null,
            "object_position": null,
            "order": null,
            "overflow": null,
            "overflow_x": null,
            "overflow_y": null,
            "padding": null,
            "right": null,
            "top": null,
            "visibility": null,
            "width": null
          }
        },
        "0d6904720ebf4809996abc892c684b0b": {
          "model_module": "@jupyter-widgets/controls",
          "model_name": "DescriptionStyleModel",
          "model_module_version": "1.5.0",
          "state": {
            "_model_module": "@jupyter-widgets/controls",
            "_model_module_version": "1.5.0",
            "_model_name": "DescriptionStyleModel",
            "_view_count": null,
            "_view_module": "@jupyter-widgets/base",
            "_view_module_version": "1.2.0",
            "_view_name": "StyleView",
            "description_width": ""
          }
        },
        "b2651fe467aa442da2d7afb8a0c67a81": {
          "model_module": "@jupyter-widgets/base",
          "model_name": "LayoutModel",
          "model_module_version": "1.2.0",
          "state": {
            "_model_module": "@jupyter-widgets/base",
            "_model_module_version": "1.2.0",
            "_model_name": "LayoutModel",
            "_view_count": null,
            "_view_module": "@jupyter-widgets/base",
            "_view_module_version": "1.2.0",
            "_view_name": "LayoutView",
            "align_content": null,
            "align_items": null,
            "align_self": null,
            "border": null,
            "bottom": null,
            "display": null,
            "flex": null,
            "flex_flow": null,
            "grid_area": null,
            "grid_auto_columns": null,
            "grid_auto_flow": null,
            "grid_auto_rows": null,
            "grid_column": null,
            "grid_gap": null,
            "grid_row": null,
            "grid_template_areas": null,
            "grid_template_columns": null,
            "grid_template_rows": null,
            "height": null,
            "justify_content": null,
            "justify_items": null,
            "left": null,
            "margin": null,
            "max_height": null,
            "max_width": null,
            "min_height": null,
            "min_width": null,
            "object_fit": null,
            "object_position": null,
            "order": null,
            "overflow": null,
            "overflow_x": null,
            "overflow_y": null,
            "padding": null,
            "right": null,
            "top": null,
            "visibility": null,
            "width": null
          }
        },
        "92bbead1860a4ce3a02d7024b2bdf519": {
          "model_module": "@jupyter-widgets/controls",
          "model_name": "ProgressStyleModel",
          "model_module_version": "1.5.0",
          "state": {
            "_model_module": "@jupyter-widgets/controls",
            "_model_module_version": "1.5.0",
            "_model_name": "ProgressStyleModel",
            "_view_count": null,
            "_view_module": "@jupyter-widgets/base",
            "_view_module_version": "1.2.0",
            "_view_name": "StyleView",
            "bar_color": null,
            "description_width": ""
          }
        },
        "1cf49029541b4205aff4548fa702982e": {
          "model_module": "@jupyter-widgets/base",
          "model_name": "LayoutModel",
          "model_module_version": "1.2.0",
          "state": {
            "_model_module": "@jupyter-widgets/base",
            "_model_module_version": "1.2.0",
            "_model_name": "LayoutModel",
            "_view_count": null,
            "_view_module": "@jupyter-widgets/base",
            "_view_module_version": "1.2.0",
            "_view_name": "LayoutView",
            "align_content": null,
            "align_items": null,
            "align_self": null,
            "border": null,
            "bottom": null,
            "display": null,
            "flex": null,
            "flex_flow": null,
            "grid_area": null,
            "grid_auto_columns": null,
            "grid_auto_flow": null,
            "grid_auto_rows": null,
            "grid_column": null,
            "grid_gap": null,
            "grid_row": null,
            "grid_template_areas": null,
            "grid_template_columns": null,
            "grid_template_rows": null,
            "height": null,
            "justify_content": null,
            "justify_items": null,
            "left": null,
            "margin": null,
            "max_height": null,
            "max_width": null,
            "min_height": null,
            "min_width": null,
            "object_fit": null,
            "object_position": null,
            "order": null,
            "overflow": null,
            "overflow_x": null,
            "overflow_y": null,
            "padding": null,
            "right": null,
            "top": null,
            "visibility": null,
            "width": null
          }
        },
        "2f750708b274448d84d8a3d01aeff3ea": {
          "model_module": "@jupyter-widgets/controls",
          "model_name": "DescriptionStyleModel",
          "model_module_version": "1.5.0",
          "state": {
            "_model_module": "@jupyter-widgets/controls",
            "_model_module_version": "1.5.0",
            "_model_name": "DescriptionStyleModel",
            "_view_count": null,
            "_view_module": "@jupyter-widgets/base",
            "_view_module_version": "1.2.0",
            "_view_name": "StyleView",
            "description_width": ""
          }
        },
        "f0479bf163c24e5dbf94d3d7ddf62cfb": {
          "model_module": "@jupyter-widgets/controls",
          "model_name": "HBoxModel",
          "model_module_version": "1.5.0",
          "state": {
            "_dom_classes": [],
            "_model_module": "@jupyter-widgets/controls",
            "_model_module_version": "1.5.0",
            "_model_name": "HBoxModel",
            "_view_count": null,
            "_view_module": "@jupyter-widgets/controls",
            "_view_module_version": "1.5.0",
            "_view_name": "HBoxView",
            "box_style": "",
            "children": [
              "IPY_MODEL_5f6eba5c428b49dbba56be9bc4da19e3",
              "IPY_MODEL_047b358992f648a6ae01ee613ccc4ca9",
              "IPY_MODEL_3f872408baf84811a7f4e04797d07f5f"
            ],
            "layout": "IPY_MODEL_63c2ef6db9394ef3824105aedf1c10be"
          }
        },
        "5f6eba5c428b49dbba56be9bc4da19e3": {
          "model_module": "@jupyter-widgets/controls",
          "model_name": "HTMLModel",
          "model_module_version": "1.5.0",
          "state": {
            "_dom_classes": [],
            "_model_module": "@jupyter-widgets/controls",
            "_model_module_version": "1.5.0",
            "_model_name": "HTMLModel",
            "_view_count": null,
            "_view_module": "@jupyter-widgets/controls",
            "_view_module_version": "1.5.0",
            "_view_name": "HTMLView",
            "description": "",
            "description_tooltip": null,
            "layout": "IPY_MODEL_93fc39f8f941418b9363cc2b28835140",
            "placeholder": "​",
            "style": "IPY_MODEL_d7982c8ab48346eba03e8771e405cc48",
            "value": "README.md: 100%"
          }
        },
        "047b358992f648a6ae01ee613ccc4ca9": {
          "model_module": "@jupyter-widgets/controls",
          "model_name": "FloatProgressModel",
          "model_module_version": "1.5.0",
          "state": {
            "_dom_classes": [],
            "_model_module": "@jupyter-widgets/controls",
            "_model_module_version": "1.5.0",
            "_model_name": "FloatProgressModel",
            "_view_count": null,
            "_view_module": "@jupyter-widgets/controls",
            "_view_module_version": "1.5.0",
            "_view_name": "ProgressView",
            "bar_style": "success",
            "description": "",
            "description_tooltip": null,
            "layout": "IPY_MODEL_cd1800f915774d36bbe1971829a0a417",
            "max": 10415,
            "min": 0,
            "orientation": "horizontal",
            "style": "IPY_MODEL_6158575970b34a659600f40d93172349",
            "value": 10415
          }
        },
        "3f872408baf84811a7f4e04797d07f5f": {
          "model_module": "@jupyter-widgets/controls",
          "model_name": "HTMLModel",
          "model_module_version": "1.5.0",
          "state": {
            "_dom_classes": [],
            "_model_module": "@jupyter-widgets/controls",
            "_model_module_version": "1.5.0",
            "_model_name": "HTMLModel",
            "_view_count": null,
            "_view_module": "@jupyter-widgets/controls",
            "_view_module_version": "1.5.0",
            "_view_name": "HTMLView",
            "description": "",
            "description_tooltip": null,
            "layout": "IPY_MODEL_1ca24f52b31b4102a53e105056dafc31",
            "placeholder": "​",
            "style": "IPY_MODEL_949684af36e548a29d5c24c80923473c",
            "value": " 10.4k/10.4k [00:00&lt;00:00, 1.02MB/s]"
          }
        },
        "63c2ef6db9394ef3824105aedf1c10be": {
          "model_module": "@jupyter-widgets/base",
          "model_name": "LayoutModel",
          "model_module_version": "1.2.0",
          "state": {
            "_model_module": "@jupyter-widgets/base",
            "_model_module_version": "1.2.0",
            "_model_name": "LayoutModel",
            "_view_count": null,
            "_view_module": "@jupyter-widgets/base",
            "_view_module_version": "1.2.0",
            "_view_name": "LayoutView",
            "align_content": null,
            "align_items": null,
            "align_self": null,
            "border": null,
            "bottom": null,
            "display": null,
            "flex": null,
            "flex_flow": null,
            "grid_area": null,
            "grid_auto_columns": null,
            "grid_auto_flow": null,
            "grid_auto_rows": null,
            "grid_column": null,
            "grid_gap": null,
            "grid_row": null,
            "grid_template_areas": null,
            "grid_template_columns": null,
            "grid_template_rows": null,
            "height": null,
            "justify_content": null,
            "justify_items": null,
            "left": null,
            "margin": null,
            "max_height": null,
            "max_width": null,
            "min_height": null,
            "min_width": null,
            "object_fit": null,
            "object_position": null,
            "order": null,
            "overflow": null,
            "overflow_x": null,
            "overflow_y": null,
            "padding": null,
            "right": null,
            "top": null,
            "visibility": null,
            "width": null
          }
        },
        "93fc39f8f941418b9363cc2b28835140": {
          "model_module": "@jupyter-widgets/base",
          "model_name": "LayoutModel",
          "model_module_version": "1.2.0",
          "state": {
            "_model_module": "@jupyter-widgets/base",
            "_model_module_version": "1.2.0",
            "_model_name": "LayoutModel",
            "_view_count": null,
            "_view_module": "@jupyter-widgets/base",
            "_view_module_version": "1.2.0",
            "_view_name": "LayoutView",
            "align_content": null,
            "align_items": null,
            "align_self": null,
            "border": null,
            "bottom": null,
            "display": null,
            "flex": null,
            "flex_flow": null,
            "grid_area": null,
            "grid_auto_columns": null,
            "grid_auto_flow": null,
            "grid_auto_rows": null,
            "grid_column": null,
            "grid_gap": null,
            "grid_row": null,
            "grid_template_areas": null,
            "grid_template_columns": null,
            "grid_template_rows": null,
            "height": null,
            "justify_content": null,
            "justify_items": null,
            "left": null,
            "margin": null,
            "max_height": null,
            "max_width": null,
            "min_height": null,
            "min_width": null,
            "object_fit": null,
            "object_position": null,
            "order": null,
            "overflow": null,
            "overflow_x": null,
            "overflow_y": null,
            "padding": null,
            "right": null,
            "top": null,
            "visibility": null,
            "width": null
          }
        },
        "d7982c8ab48346eba03e8771e405cc48": {
          "model_module": "@jupyter-widgets/controls",
          "model_name": "DescriptionStyleModel",
          "model_module_version": "1.5.0",
          "state": {
            "_model_module": "@jupyter-widgets/controls",
            "_model_module_version": "1.5.0",
            "_model_name": "DescriptionStyleModel",
            "_view_count": null,
            "_view_module": "@jupyter-widgets/base",
            "_view_module_version": "1.2.0",
            "_view_name": "StyleView",
            "description_width": ""
          }
        },
        "cd1800f915774d36bbe1971829a0a417": {
          "model_module": "@jupyter-widgets/base",
          "model_name": "LayoutModel",
          "model_module_version": "1.2.0",
          "state": {
            "_model_module": "@jupyter-widgets/base",
            "_model_module_version": "1.2.0",
            "_model_name": "LayoutModel",
            "_view_count": null,
            "_view_module": "@jupyter-widgets/base",
            "_view_module_version": "1.2.0",
            "_view_name": "LayoutView",
            "align_content": null,
            "align_items": null,
            "align_self": null,
            "border": null,
            "bottom": null,
            "display": null,
            "flex": null,
            "flex_flow": null,
            "grid_area": null,
            "grid_auto_columns": null,
            "grid_auto_flow": null,
            "grid_auto_rows": null,
            "grid_column": null,
            "grid_gap": null,
            "grid_row": null,
            "grid_template_areas": null,
            "grid_template_columns": null,
            "grid_template_rows": null,
            "height": null,
            "justify_content": null,
            "justify_items": null,
            "left": null,
            "margin": null,
            "max_height": null,
            "max_width": null,
            "min_height": null,
            "min_width": null,
            "object_fit": null,
            "object_position": null,
            "order": null,
            "overflow": null,
            "overflow_x": null,
            "overflow_y": null,
            "padding": null,
            "right": null,
            "top": null,
            "visibility": null,
            "width": null
          }
        },
        "6158575970b34a659600f40d93172349": {
          "model_module": "@jupyter-widgets/controls",
          "model_name": "ProgressStyleModel",
          "model_module_version": "1.5.0",
          "state": {
            "_model_module": "@jupyter-widgets/controls",
            "_model_module_version": "1.5.0",
            "_model_name": "ProgressStyleModel",
            "_view_count": null,
            "_view_module": "@jupyter-widgets/base",
            "_view_module_version": "1.2.0",
            "_view_name": "StyleView",
            "bar_color": null,
            "description_width": ""
          }
        },
        "1ca24f52b31b4102a53e105056dafc31": {
          "model_module": "@jupyter-widgets/base",
          "model_name": "LayoutModel",
          "model_module_version": "1.2.0",
          "state": {
            "_model_module": "@jupyter-widgets/base",
            "_model_module_version": "1.2.0",
            "_model_name": "LayoutModel",
            "_view_count": null,
            "_view_module": "@jupyter-widgets/base",
            "_view_module_version": "1.2.0",
            "_view_name": "LayoutView",
            "align_content": null,
            "align_items": null,
            "align_self": null,
            "border": null,
            "bottom": null,
            "display": null,
            "flex": null,
            "flex_flow": null,
            "grid_area": null,
            "grid_auto_columns": null,
            "grid_auto_flow": null,
            "grid_auto_rows": null,
            "grid_column": null,
            "grid_gap": null,
            "grid_row": null,
            "grid_template_areas": null,
            "grid_template_columns": null,
            "grid_template_rows": null,
            "height": null,
            "justify_content": null,
            "justify_items": null,
            "left": null,
            "margin": null,
            "max_height": null,
            "max_width": null,
            "min_height": null,
            "min_width": null,
            "object_fit": null,
            "object_position": null,
            "order": null,
            "overflow": null,
            "overflow_x": null,
            "overflow_y": null,
            "padding": null,
            "right": null,
            "top": null,
            "visibility": null,
            "width": null
          }
        },
        "949684af36e548a29d5c24c80923473c": {
          "model_module": "@jupyter-widgets/controls",
          "model_name": "DescriptionStyleModel",
          "model_module_version": "1.5.0",
          "state": {
            "_model_module": "@jupyter-widgets/controls",
            "_model_module_version": "1.5.0",
            "_model_name": "DescriptionStyleModel",
            "_view_count": null,
            "_view_module": "@jupyter-widgets/base",
            "_view_module_version": "1.2.0",
            "_view_name": "StyleView",
            "description_width": ""
          }
        },
        "324aa9eb81674555a514a4dd91927708": {
          "model_module": "@jupyter-widgets/controls",
          "model_name": "HBoxModel",
          "model_module_version": "1.5.0",
          "state": {
            "_dom_classes": [],
            "_model_module": "@jupyter-widgets/controls",
            "_model_module_version": "1.5.0",
            "_model_name": "HBoxModel",
            "_view_count": null,
            "_view_module": "@jupyter-widgets/controls",
            "_view_module_version": "1.5.0",
            "_view_name": "HBoxView",
            "box_style": "",
            "children": [
              "IPY_MODEL_5661925b15fb4da188b61932f91ac9ab",
              "IPY_MODEL_74893fe1a7214ccf9673de9073dba6e4",
              "IPY_MODEL_f35a26d156934490b6184519df0c1468"
            ],
            "layout": "IPY_MODEL_8dc4da3b834f4a3fb78d391f4fb8ef47"
          }
        },
        "5661925b15fb4da188b61932f91ac9ab": {
          "model_module": "@jupyter-widgets/controls",
          "model_name": "HTMLModel",
          "model_module_version": "1.5.0",
          "state": {
            "_dom_classes": [],
            "_model_module": "@jupyter-widgets/controls",
            "_model_module_version": "1.5.0",
            "_model_name": "HTMLModel",
            "_view_count": null,
            "_view_module": "@jupyter-widgets/controls",
            "_view_module_version": "1.5.0",
            "_view_name": "HTMLView",
            "description": "",
            "description_tooltip": null,
            "layout": "IPY_MODEL_4fea1af6c81f4009ae135390a1d907a4",
            "placeholder": "​",
            "style": "IPY_MODEL_446dd2e7898b47d9979e677f80dbb026",
            "value": "sentence_bert_config.json: 100%"
          }
        },
        "74893fe1a7214ccf9673de9073dba6e4": {
          "model_module": "@jupyter-widgets/controls",
          "model_name": "FloatProgressModel",
          "model_module_version": "1.5.0",
          "state": {
            "_dom_classes": [],
            "_model_module": "@jupyter-widgets/controls",
            "_model_module_version": "1.5.0",
            "_model_name": "FloatProgressModel",
            "_view_count": null,
            "_view_module": "@jupyter-widgets/controls",
            "_view_module_version": "1.5.0",
            "_view_name": "ProgressView",
            "bar_style": "success",
            "description": "",
            "description_tooltip": null,
            "layout": "IPY_MODEL_54ad88013edd46ef877f34c895e8e910",
            "max": 53,
            "min": 0,
            "orientation": "horizontal",
            "style": "IPY_MODEL_02b541ae470048b6ac1acdaf5e7513ae",
            "value": 53
          }
        },
        "f35a26d156934490b6184519df0c1468": {
          "model_module": "@jupyter-widgets/controls",
          "model_name": "HTMLModel",
          "model_module_version": "1.5.0",
          "state": {
            "_dom_classes": [],
            "_model_module": "@jupyter-widgets/controls",
            "_model_module_version": "1.5.0",
            "_model_name": "HTMLModel",
            "_view_count": null,
            "_view_module": "@jupyter-widgets/controls",
            "_view_module_version": "1.5.0",
            "_view_name": "HTMLView",
            "description": "",
            "description_tooltip": null,
            "layout": "IPY_MODEL_f769502b917b4432ab287079104c8d62",
            "placeholder": "​",
            "style": "IPY_MODEL_5976bd1d16024deb820e95c2be9d0284",
            "value": " 53.0/53.0 [00:00&lt;00:00, 3.81kB/s]"
          }
        },
        "8dc4da3b834f4a3fb78d391f4fb8ef47": {
          "model_module": "@jupyter-widgets/base",
          "model_name": "LayoutModel",
          "model_module_version": "1.2.0",
          "state": {
            "_model_module": "@jupyter-widgets/base",
            "_model_module_version": "1.2.0",
            "_model_name": "LayoutModel",
            "_view_count": null,
            "_view_module": "@jupyter-widgets/base",
            "_view_module_version": "1.2.0",
            "_view_name": "LayoutView",
            "align_content": null,
            "align_items": null,
            "align_self": null,
            "border": null,
            "bottom": null,
            "display": null,
            "flex": null,
            "flex_flow": null,
            "grid_area": null,
            "grid_auto_columns": null,
            "grid_auto_flow": null,
            "grid_auto_rows": null,
            "grid_column": null,
            "grid_gap": null,
            "grid_row": null,
            "grid_template_areas": null,
            "grid_template_columns": null,
            "grid_template_rows": null,
            "height": null,
            "justify_content": null,
            "justify_items": null,
            "left": null,
            "margin": null,
            "max_height": null,
            "max_width": null,
            "min_height": null,
            "min_width": null,
            "object_fit": null,
            "object_position": null,
            "order": null,
            "overflow": null,
            "overflow_x": null,
            "overflow_y": null,
            "padding": null,
            "right": null,
            "top": null,
            "visibility": null,
            "width": null
          }
        },
        "4fea1af6c81f4009ae135390a1d907a4": {
          "model_module": "@jupyter-widgets/base",
          "model_name": "LayoutModel",
          "model_module_version": "1.2.0",
          "state": {
            "_model_module": "@jupyter-widgets/base",
            "_model_module_version": "1.2.0",
            "_model_name": "LayoutModel",
            "_view_count": null,
            "_view_module": "@jupyter-widgets/base",
            "_view_module_version": "1.2.0",
            "_view_name": "LayoutView",
            "align_content": null,
            "align_items": null,
            "align_self": null,
            "border": null,
            "bottom": null,
            "display": null,
            "flex": null,
            "flex_flow": null,
            "grid_area": null,
            "grid_auto_columns": null,
            "grid_auto_flow": null,
            "grid_auto_rows": null,
            "grid_column": null,
            "grid_gap": null,
            "grid_row": null,
            "grid_template_areas": null,
            "grid_template_columns": null,
            "grid_template_rows": null,
            "height": null,
            "justify_content": null,
            "justify_items": null,
            "left": null,
            "margin": null,
            "max_height": null,
            "max_width": null,
            "min_height": null,
            "min_width": null,
            "object_fit": null,
            "object_position": null,
            "order": null,
            "overflow": null,
            "overflow_x": null,
            "overflow_y": null,
            "padding": null,
            "right": null,
            "top": null,
            "visibility": null,
            "width": null
          }
        },
        "446dd2e7898b47d9979e677f80dbb026": {
          "model_module": "@jupyter-widgets/controls",
          "model_name": "DescriptionStyleModel",
          "model_module_version": "1.5.0",
          "state": {
            "_model_module": "@jupyter-widgets/controls",
            "_model_module_version": "1.5.0",
            "_model_name": "DescriptionStyleModel",
            "_view_count": null,
            "_view_module": "@jupyter-widgets/base",
            "_view_module_version": "1.2.0",
            "_view_name": "StyleView",
            "description_width": ""
          }
        },
        "54ad88013edd46ef877f34c895e8e910": {
          "model_module": "@jupyter-widgets/base",
          "model_name": "LayoutModel",
          "model_module_version": "1.2.0",
          "state": {
            "_model_module": "@jupyter-widgets/base",
            "_model_module_version": "1.2.0",
            "_model_name": "LayoutModel",
            "_view_count": null,
            "_view_module": "@jupyter-widgets/base",
            "_view_module_version": "1.2.0",
            "_view_name": "LayoutView",
            "align_content": null,
            "align_items": null,
            "align_self": null,
            "border": null,
            "bottom": null,
            "display": null,
            "flex": null,
            "flex_flow": null,
            "grid_area": null,
            "grid_auto_columns": null,
            "grid_auto_flow": null,
            "grid_auto_rows": null,
            "grid_column": null,
            "grid_gap": null,
            "grid_row": null,
            "grid_template_areas": null,
            "grid_template_columns": null,
            "grid_template_rows": null,
            "height": null,
            "justify_content": null,
            "justify_items": null,
            "left": null,
            "margin": null,
            "max_height": null,
            "max_width": null,
            "min_height": null,
            "min_width": null,
            "object_fit": null,
            "object_position": null,
            "order": null,
            "overflow": null,
            "overflow_x": null,
            "overflow_y": null,
            "padding": null,
            "right": null,
            "top": null,
            "visibility": null,
            "width": null
          }
        },
        "02b541ae470048b6ac1acdaf5e7513ae": {
          "model_module": "@jupyter-widgets/controls",
          "model_name": "ProgressStyleModel",
          "model_module_version": "1.5.0",
          "state": {
            "_model_module": "@jupyter-widgets/controls",
            "_model_module_version": "1.5.0",
            "_model_name": "ProgressStyleModel",
            "_view_count": null,
            "_view_module": "@jupyter-widgets/base",
            "_view_module_version": "1.2.0",
            "_view_name": "StyleView",
            "bar_color": null,
            "description_width": ""
          }
        },
        "f769502b917b4432ab287079104c8d62": {
          "model_module": "@jupyter-widgets/base",
          "model_name": "LayoutModel",
          "model_module_version": "1.2.0",
          "state": {
            "_model_module": "@jupyter-widgets/base",
            "_model_module_version": "1.2.0",
            "_model_name": "LayoutModel",
            "_view_count": null,
            "_view_module": "@jupyter-widgets/base",
            "_view_module_version": "1.2.0",
            "_view_name": "LayoutView",
            "align_content": null,
            "align_items": null,
            "align_self": null,
            "border": null,
            "bottom": null,
            "display": null,
            "flex": null,
            "flex_flow": null,
            "grid_area": null,
            "grid_auto_columns": null,
            "grid_auto_flow": null,
            "grid_auto_rows": null,
            "grid_column": null,
            "grid_gap": null,
            "grid_row": null,
            "grid_template_areas": null,
            "grid_template_columns": null,
            "grid_template_rows": null,
            "height": null,
            "justify_content": null,
            "justify_items": null,
            "left": null,
            "margin": null,
            "max_height": null,
            "max_width": null,
            "min_height": null,
            "min_width": null,
            "object_fit": null,
            "object_position": null,
            "order": null,
            "overflow": null,
            "overflow_x": null,
            "overflow_y": null,
            "padding": null,
            "right": null,
            "top": null,
            "visibility": null,
            "width": null
          }
        },
        "5976bd1d16024deb820e95c2be9d0284": {
          "model_module": "@jupyter-widgets/controls",
          "model_name": "DescriptionStyleModel",
          "model_module_version": "1.5.0",
          "state": {
            "_model_module": "@jupyter-widgets/controls",
            "_model_module_version": "1.5.0",
            "_model_name": "DescriptionStyleModel",
            "_view_count": null,
            "_view_module": "@jupyter-widgets/base",
            "_view_module_version": "1.2.0",
            "_view_name": "StyleView",
            "description_width": ""
          }
        },
        "36ac2754d18f4a18b86681a2ee30f589": {
          "model_module": "@jupyter-widgets/controls",
          "model_name": "HBoxModel",
          "model_module_version": "1.5.0",
          "state": {
            "_dom_classes": [],
            "_model_module": "@jupyter-widgets/controls",
            "_model_module_version": "1.5.0",
            "_model_name": "HBoxModel",
            "_view_count": null,
            "_view_module": "@jupyter-widgets/controls",
            "_view_module_version": "1.5.0",
            "_view_name": "HBoxView",
            "box_style": "",
            "children": [
              "IPY_MODEL_0397b89b55954eebb11f9f548c93c8da",
              "IPY_MODEL_56c988173fff43b1a6cccdb13da20182",
              "IPY_MODEL_09d94cdb3ef84b6a87c6978faa242930"
            ],
            "layout": "IPY_MODEL_76050d68765248a89146675328754486"
          }
        },
        "0397b89b55954eebb11f9f548c93c8da": {
          "model_module": "@jupyter-widgets/controls",
          "model_name": "HTMLModel",
          "model_module_version": "1.5.0",
          "state": {
            "_dom_classes": [],
            "_model_module": "@jupyter-widgets/controls",
            "_model_module_version": "1.5.0",
            "_model_name": "HTMLModel",
            "_view_count": null,
            "_view_module": "@jupyter-widgets/controls",
            "_view_module_version": "1.5.0",
            "_view_name": "HTMLView",
            "description": "",
            "description_tooltip": null,
            "layout": "IPY_MODEL_941cffa9a1a84d31af3a0f454ba1486a",
            "placeholder": "​",
            "style": "IPY_MODEL_2c13c7de81f440c091242fdd18a1253c",
            "value": "config.json: 100%"
          }
        },
        "56c988173fff43b1a6cccdb13da20182": {
          "model_module": "@jupyter-widgets/controls",
          "model_name": "FloatProgressModel",
          "model_module_version": "1.5.0",
          "state": {
            "_dom_classes": [],
            "_model_module": "@jupyter-widgets/controls",
            "_model_module_version": "1.5.0",
            "_model_name": "FloatProgressModel",
            "_view_count": null,
            "_view_module": "@jupyter-widgets/controls",
            "_view_module_version": "1.5.0",
            "_view_name": "ProgressView",
            "bar_style": "success",
            "description": "",
            "description_tooltip": null,
            "layout": "IPY_MODEL_986aeb9ee09344529477c71e2e3b969d",
            "max": 571,
            "min": 0,
            "orientation": "horizontal",
            "style": "IPY_MODEL_80a94ce3476e4c03bf38014ad2b5734a",
            "value": 571
          }
        },
        "09d94cdb3ef84b6a87c6978faa242930": {
          "model_module": "@jupyter-widgets/controls",
          "model_name": "HTMLModel",
          "model_module_version": "1.5.0",
          "state": {
            "_dom_classes": [],
            "_model_module": "@jupyter-widgets/controls",
            "_model_module_version": "1.5.0",
            "_model_name": "HTMLModel",
            "_view_count": null,
            "_view_module": "@jupyter-widgets/controls",
            "_view_module_version": "1.5.0",
            "_view_name": "HTMLView",
            "description": "",
            "description_tooltip": null,
            "layout": "IPY_MODEL_9e28680cc07148abbb7c403e32433832",
            "placeholder": "​",
            "style": "IPY_MODEL_913c0ab9023b4eac86a2c17fc5e92c5e",
            "value": " 571/571 [00:00&lt;00:00, 64.4kB/s]"
          }
        },
        "76050d68765248a89146675328754486": {
          "model_module": "@jupyter-widgets/base",
          "model_name": "LayoutModel",
          "model_module_version": "1.2.0",
          "state": {
            "_model_module": "@jupyter-widgets/base",
            "_model_module_version": "1.2.0",
            "_model_name": "LayoutModel",
            "_view_count": null,
            "_view_module": "@jupyter-widgets/base",
            "_view_module_version": "1.2.0",
            "_view_name": "LayoutView",
            "align_content": null,
            "align_items": null,
            "align_self": null,
            "border": null,
            "bottom": null,
            "display": null,
            "flex": null,
            "flex_flow": null,
            "grid_area": null,
            "grid_auto_columns": null,
            "grid_auto_flow": null,
            "grid_auto_rows": null,
            "grid_column": null,
            "grid_gap": null,
            "grid_row": null,
            "grid_template_areas": null,
            "grid_template_columns": null,
            "grid_template_rows": null,
            "height": null,
            "justify_content": null,
            "justify_items": null,
            "left": null,
            "margin": null,
            "max_height": null,
            "max_width": null,
            "min_height": null,
            "min_width": null,
            "object_fit": null,
            "object_position": null,
            "order": null,
            "overflow": null,
            "overflow_x": null,
            "overflow_y": null,
            "padding": null,
            "right": null,
            "top": null,
            "visibility": null,
            "width": null
          }
        },
        "941cffa9a1a84d31af3a0f454ba1486a": {
          "model_module": "@jupyter-widgets/base",
          "model_name": "LayoutModel",
          "model_module_version": "1.2.0",
          "state": {
            "_model_module": "@jupyter-widgets/base",
            "_model_module_version": "1.2.0",
            "_model_name": "LayoutModel",
            "_view_count": null,
            "_view_module": "@jupyter-widgets/base",
            "_view_module_version": "1.2.0",
            "_view_name": "LayoutView",
            "align_content": null,
            "align_items": null,
            "align_self": null,
            "border": null,
            "bottom": null,
            "display": null,
            "flex": null,
            "flex_flow": null,
            "grid_area": null,
            "grid_auto_columns": null,
            "grid_auto_flow": null,
            "grid_auto_rows": null,
            "grid_column": null,
            "grid_gap": null,
            "grid_row": null,
            "grid_template_areas": null,
            "grid_template_columns": null,
            "grid_template_rows": null,
            "height": null,
            "justify_content": null,
            "justify_items": null,
            "left": null,
            "margin": null,
            "max_height": null,
            "max_width": null,
            "min_height": null,
            "min_width": null,
            "object_fit": null,
            "object_position": null,
            "order": null,
            "overflow": null,
            "overflow_x": null,
            "overflow_y": null,
            "padding": null,
            "right": null,
            "top": null,
            "visibility": null,
            "width": null
          }
        },
        "2c13c7de81f440c091242fdd18a1253c": {
          "model_module": "@jupyter-widgets/controls",
          "model_name": "DescriptionStyleModel",
          "model_module_version": "1.5.0",
          "state": {
            "_model_module": "@jupyter-widgets/controls",
            "_model_module_version": "1.5.0",
            "_model_name": "DescriptionStyleModel",
            "_view_count": null,
            "_view_module": "@jupyter-widgets/base",
            "_view_module_version": "1.2.0",
            "_view_name": "StyleView",
            "description_width": ""
          }
        },
        "986aeb9ee09344529477c71e2e3b969d": {
          "model_module": "@jupyter-widgets/base",
          "model_name": "LayoutModel",
          "model_module_version": "1.2.0",
          "state": {
            "_model_module": "@jupyter-widgets/base",
            "_model_module_version": "1.2.0",
            "_model_name": "LayoutModel",
            "_view_count": null,
            "_view_module": "@jupyter-widgets/base",
            "_view_module_version": "1.2.0",
            "_view_name": "LayoutView",
            "align_content": null,
            "align_items": null,
            "align_self": null,
            "border": null,
            "bottom": null,
            "display": null,
            "flex": null,
            "flex_flow": null,
            "grid_area": null,
            "grid_auto_columns": null,
            "grid_auto_flow": null,
            "grid_auto_rows": null,
            "grid_column": null,
            "grid_gap": null,
            "grid_row": null,
            "grid_template_areas": null,
            "grid_template_columns": null,
            "grid_template_rows": null,
            "height": null,
            "justify_content": null,
            "justify_items": null,
            "left": null,
            "margin": null,
            "max_height": null,
            "max_width": null,
            "min_height": null,
            "min_width": null,
            "object_fit": null,
            "object_position": null,
            "order": null,
            "overflow": null,
            "overflow_x": null,
            "overflow_y": null,
            "padding": null,
            "right": null,
            "top": null,
            "visibility": null,
            "width": null
          }
        },
        "80a94ce3476e4c03bf38014ad2b5734a": {
          "model_module": "@jupyter-widgets/controls",
          "model_name": "ProgressStyleModel",
          "model_module_version": "1.5.0",
          "state": {
            "_model_module": "@jupyter-widgets/controls",
            "_model_module_version": "1.5.0",
            "_model_name": "ProgressStyleModel",
            "_view_count": null,
            "_view_module": "@jupyter-widgets/base",
            "_view_module_version": "1.2.0",
            "_view_name": "StyleView",
            "bar_color": null,
            "description_width": ""
          }
        },
        "9e28680cc07148abbb7c403e32433832": {
          "model_module": "@jupyter-widgets/base",
          "model_name": "LayoutModel",
          "model_module_version": "1.2.0",
          "state": {
            "_model_module": "@jupyter-widgets/base",
            "_model_module_version": "1.2.0",
            "_model_name": "LayoutModel",
            "_view_count": null,
            "_view_module": "@jupyter-widgets/base",
            "_view_module_version": "1.2.0",
            "_view_name": "LayoutView",
            "align_content": null,
            "align_items": null,
            "align_self": null,
            "border": null,
            "bottom": null,
            "display": null,
            "flex": null,
            "flex_flow": null,
            "grid_area": null,
            "grid_auto_columns": null,
            "grid_auto_flow": null,
            "grid_auto_rows": null,
            "grid_column": null,
            "grid_gap": null,
            "grid_row": null,
            "grid_template_areas": null,
            "grid_template_columns": null,
            "grid_template_rows": null,
            "height": null,
            "justify_content": null,
            "justify_items": null,
            "left": null,
            "margin": null,
            "max_height": null,
            "max_width": null,
            "min_height": null,
            "min_width": null,
            "object_fit": null,
            "object_position": null,
            "order": null,
            "overflow": null,
            "overflow_x": null,
            "overflow_y": null,
            "padding": null,
            "right": null,
            "top": null,
            "visibility": null,
            "width": null
          }
        },
        "913c0ab9023b4eac86a2c17fc5e92c5e": {
          "model_module": "@jupyter-widgets/controls",
          "model_name": "DescriptionStyleModel",
          "model_module_version": "1.5.0",
          "state": {
            "_model_module": "@jupyter-widgets/controls",
            "_model_module_version": "1.5.0",
            "_model_name": "DescriptionStyleModel",
            "_view_count": null,
            "_view_module": "@jupyter-widgets/base",
            "_view_module_version": "1.2.0",
            "_view_name": "StyleView",
            "description_width": ""
          }
        },
        "4d2e857db9294ad7ae6154699a04e59c": {
          "model_module": "@jupyter-widgets/controls",
          "model_name": "HBoxModel",
          "model_module_version": "1.5.0",
          "state": {
            "_dom_classes": [],
            "_model_module": "@jupyter-widgets/controls",
            "_model_module_version": "1.5.0",
            "_model_name": "HBoxModel",
            "_view_count": null,
            "_view_module": "@jupyter-widgets/controls",
            "_view_module_version": "1.5.0",
            "_view_name": "HBoxView",
            "box_style": "",
            "children": [
              "IPY_MODEL_8886f9d316e24689bb72574492e79dee",
              "IPY_MODEL_78f294140fd7427782e77013769fcd17",
              "IPY_MODEL_cbb16636d88f401b8e80a09d71b96782"
            ],
            "layout": "IPY_MODEL_f6716bfb03f4408cb02546cbe291b8e1"
          }
        },
        "8886f9d316e24689bb72574492e79dee": {
          "model_module": "@jupyter-widgets/controls",
          "model_name": "HTMLModel",
          "model_module_version": "1.5.0",
          "state": {
            "_dom_classes": [],
            "_model_module": "@jupyter-widgets/controls",
            "_model_module_version": "1.5.0",
            "_model_name": "HTMLModel",
            "_view_count": null,
            "_view_module": "@jupyter-widgets/controls",
            "_view_module_version": "1.5.0",
            "_view_name": "HTMLView",
            "description": "",
            "description_tooltip": null,
            "layout": "IPY_MODEL_00b5ffd8dee745399c35b7b6c9bde4ba",
            "placeholder": "​",
            "style": "IPY_MODEL_42f5ba83c57c4685bda9269a76ce1b37",
            "value": "model.safetensors: 100%"
          }
        },
        "78f294140fd7427782e77013769fcd17": {
          "model_module": "@jupyter-widgets/controls",
          "model_name": "FloatProgressModel",
          "model_module_version": "1.5.0",
          "state": {
            "_dom_classes": [],
            "_model_module": "@jupyter-widgets/controls",
            "_model_module_version": "1.5.0",
            "_model_name": "FloatProgressModel",
            "_view_count": null,
            "_view_module": "@jupyter-widgets/controls",
            "_view_module_version": "1.5.0",
            "_view_name": "ProgressView",
            "bar_style": "success",
            "description": "",
            "description_tooltip": null,
            "layout": "IPY_MODEL_3d31db2ee7ba47ae8cefcde131a758e9",
            "max": 437971872,
            "min": 0,
            "orientation": "horizontal",
            "style": "IPY_MODEL_1f5269c8e818435f849e68ab924d11af",
            "value": 437971872
          }
        },
        "cbb16636d88f401b8e80a09d71b96782": {
          "model_module": "@jupyter-widgets/controls",
          "model_name": "HTMLModel",
          "model_module_version": "1.5.0",
          "state": {
            "_dom_classes": [],
            "_model_module": "@jupyter-widgets/controls",
            "_model_module_version": "1.5.0",
            "_model_name": "HTMLModel",
            "_view_count": null,
            "_view_module": "@jupyter-widgets/controls",
            "_view_module_version": "1.5.0",
            "_view_name": "HTMLView",
            "description": "",
            "description_tooltip": null,
            "layout": "IPY_MODEL_e874ac30ef074fdd9468cdeadddc0fc3",
            "placeholder": "​",
            "style": "IPY_MODEL_f99c0881ad9245c4a74f4d4f70fdc1b9",
            "value": " 438M/438M [00:06&lt;00:00, 65.3MB/s]"
          }
        },
        "f6716bfb03f4408cb02546cbe291b8e1": {
          "model_module": "@jupyter-widgets/base",
          "model_name": "LayoutModel",
          "model_module_version": "1.2.0",
          "state": {
            "_model_module": "@jupyter-widgets/base",
            "_model_module_version": "1.2.0",
            "_model_name": "LayoutModel",
            "_view_count": null,
            "_view_module": "@jupyter-widgets/base",
            "_view_module_version": "1.2.0",
            "_view_name": "LayoutView",
            "align_content": null,
            "align_items": null,
            "align_self": null,
            "border": null,
            "bottom": null,
            "display": null,
            "flex": null,
            "flex_flow": null,
            "grid_area": null,
            "grid_auto_columns": null,
            "grid_auto_flow": null,
            "grid_auto_rows": null,
            "grid_column": null,
            "grid_gap": null,
            "grid_row": null,
            "grid_template_areas": null,
            "grid_template_columns": null,
            "grid_template_rows": null,
            "height": null,
            "justify_content": null,
            "justify_items": null,
            "left": null,
            "margin": null,
            "max_height": null,
            "max_width": null,
            "min_height": null,
            "min_width": null,
            "object_fit": null,
            "object_position": null,
            "order": null,
            "overflow": null,
            "overflow_x": null,
            "overflow_y": null,
            "padding": null,
            "right": null,
            "top": null,
            "visibility": null,
            "width": null
          }
        },
        "00b5ffd8dee745399c35b7b6c9bde4ba": {
          "model_module": "@jupyter-widgets/base",
          "model_name": "LayoutModel",
          "model_module_version": "1.2.0",
          "state": {
            "_model_module": "@jupyter-widgets/base",
            "_model_module_version": "1.2.0",
            "_model_name": "LayoutModel",
            "_view_count": null,
            "_view_module": "@jupyter-widgets/base",
            "_view_module_version": "1.2.0",
            "_view_name": "LayoutView",
            "align_content": null,
            "align_items": null,
            "align_self": null,
            "border": null,
            "bottom": null,
            "display": null,
            "flex": null,
            "flex_flow": null,
            "grid_area": null,
            "grid_auto_columns": null,
            "grid_auto_flow": null,
            "grid_auto_rows": null,
            "grid_column": null,
            "grid_gap": null,
            "grid_row": null,
            "grid_template_areas": null,
            "grid_template_columns": null,
            "grid_template_rows": null,
            "height": null,
            "justify_content": null,
            "justify_items": null,
            "left": null,
            "margin": null,
            "max_height": null,
            "max_width": null,
            "min_height": null,
            "min_width": null,
            "object_fit": null,
            "object_position": null,
            "order": null,
            "overflow": null,
            "overflow_x": null,
            "overflow_y": null,
            "padding": null,
            "right": null,
            "top": null,
            "visibility": null,
            "width": null
          }
        },
        "42f5ba83c57c4685bda9269a76ce1b37": {
          "model_module": "@jupyter-widgets/controls",
          "model_name": "DescriptionStyleModel",
          "model_module_version": "1.5.0",
          "state": {
            "_model_module": "@jupyter-widgets/controls",
            "_model_module_version": "1.5.0",
            "_model_name": "DescriptionStyleModel",
            "_view_count": null,
            "_view_module": "@jupyter-widgets/base",
            "_view_module_version": "1.2.0",
            "_view_name": "StyleView",
            "description_width": ""
          }
        },
        "3d31db2ee7ba47ae8cefcde131a758e9": {
          "model_module": "@jupyter-widgets/base",
          "model_name": "LayoutModel",
          "model_module_version": "1.2.0",
          "state": {
            "_model_module": "@jupyter-widgets/base",
            "_model_module_version": "1.2.0",
            "_model_name": "LayoutModel",
            "_view_count": null,
            "_view_module": "@jupyter-widgets/base",
            "_view_module_version": "1.2.0",
            "_view_name": "LayoutView",
            "align_content": null,
            "align_items": null,
            "align_self": null,
            "border": null,
            "bottom": null,
            "display": null,
            "flex": null,
            "flex_flow": null,
            "grid_area": null,
            "grid_auto_columns": null,
            "grid_auto_flow": null,
            "grid_auto_rows": null,
            "grid_column": null,
            "grid_gap": null,
            "grid_row": null,
            "grid_template_areas": null,
            "grid_template_columns": null,
            "grid_template_rows": null,
            "height": null,
            "justify_content": null,
            "justify_items": null,
            "left": null,
            "margin": null,
            "max_height": null,
            "max_width": null,
            "min_height": null,
            "min_width": null,
            "object_fit": null,
            "object_position": null,
            "order": null,
            "overflow": null,
            "overflow_x": null,
            "overflow_y": null,
            "padding": null,
            "right": null,
            "top": null,
            "visibility": null,
            "width": null
          }
        },
        "1f5269c8e818435f849e68ab924d11af": {
          "model_module": "@jupyter-widgets/controls",
          "model_name": "ProgressStyleModel",
          "model_module_version": "1.5.0",
          "state": {
            "_model_module": "@jupyter-widgets/controls",
            "_model_module_version": "1.5.0",
            "_model_name": "ProgressStyleModel",
            "_view_count": null,
            "_view_module": "@jupyter-widgets/base",
            "_view_module_version": "1.2.0",
            "_view_name": "StyleView",
            "bar_color": null,
            "description_width": ""
          }
        },
        "e874ac30ef074fdd9468cdeadddc0fc3": {
          "model_module": "@jupyter-widgets/base",
          "model_name": "LayoutModel",
          "model_module_version": "1.2.0",
          "state": {
            "_model_module": "@jupyter-widgets/base",
            "_model_module_version": "1.2.0",
            "_model_name": "LayoutModel",
            "_view_count": null,
            "_view_module": "@jupyter-widgets/base",
            "_view_module_version": "1.2.0",
            "_view_name": "LayoutView",
            "align_content": null,
            "align_items": null,
            "align_self": null,
            "border": null,
            "bottom": null,
            "display": null,
            "flex": null,
            "flex_flow": null,
            "grid_area": null,
            "grid_auto_columns": null,
            "grid_auto_flow": null,
            "grid_auto_rows": null,
            "grid_column": null,
            "grid_gap": null,
            "grid_row": null,
            "grid_template_areas": null,
            "grid_template_columns": null,
            "grid_template_rows": null,
            "height": null,
            "justify_content": null,
            "justify_items": null,
            "left": null,
            "margin": null,
            "max_height": null,
            "max_width": null,
            "min_height": null,
            "min_width": null,
            "object_fit": null,
            "object_position": null,
            "order": null,
            "overflow": null,
            "overflow_x": null,
            "overflow_y": null,
            "padding": null,
            "right": null,
            "top": null,
            "visibility": null,
            "width": null
          }
        },
        "f99c0881ad9245c4a74f4d4f70fdc1b9": {
          "model_module": "@jupyter-widgets/controls",
          "model_name": "DescriptionStyleModel",
          "model_module_version": "1.5.0",
          "state": {
            "_model_module": "@jupyter-widgets/controls",
            "_model_module_version": "1.5.0",
            "_model_name": "DescriptionStyleModel",
            "_view_count": null,
            "_view_module": "@jupyter-widgets/base",
            "_view_module_version": "1.2.0",
            "_view_name": "StyleView",
            "description_width": ""
          }
        },
        "8d0e63270eff46129acf13cdabb49438": {
          "model_module": "@jupyter-widgets/controls",
          "model_name": "HBoxModel",
          "model_module_version": "1.5.0",
          "state": {
            "_dom_classes": [],
            "_model_module": "@jupyter-widgets/controls",
            "_model_module_version": "1.5.0",
            "_model_name": "HBoxModel",
            "_view_count": null,
            "_view_module": "@jupyter-widgets/controls",
            "_view_module_version": "1.5.0",
            "_view_name": "HBoxView",
            "box_style": "",
            "children": [
              "IPY_MODEL_dbb9b977bbc140cf991ff42b9a90ef94",
              "IPY_MODEL_a1c54ac462114e988be08eae0733ba32",
              "IPY_MODEL_efa791b0115d4939b9a0d51156ab3855"
            ],
            "layout": "IPY_MODEL_e34ebaebf0dd4f8b9417b86cfa4e0145"
          }
        },
        "dbb9b977bbc140cf991ff42b9a90ef94": {
          "model_module": "@jupyter-widgets/controls",
          "model_name": "HTMLModel",
          "model_module_version": "1.5.0",
          "state": {
            "_dom_classes": [],
            "_model_module": "@jupyter-widgets/controls",
            "_model_module_version": "1.5.0",
            "_model_name": "HTMLModel",
            "_view_count": null,
            "_view_module": "@jupyter-widgets/controls",
            "_view_module_version": "1.5.0",
            "_view_name": "HTMLView",
            "description": "",
            "description_tooltip": null,
            "layout": "IPY_MODEL_ac144b5147d943b69819e888dc7f0c3f",
            "placeholder": "​",
            "style": "IPY_MODEL_fcddf277c9f24e918654f458c553d9ab",
            "value": "tokenizer_config.json: 100%"
          }
        },
        "a1c54ac462114e988be08eae0733ba32": {
          "model_module": "@jupyter-widgets/controls",
          "model_name": "FloatProgressModel",
          "model_module_version": "1.5.0",
          "state": {
            "_dom_classes": [],
            "_model_module": "@jupyter-widgets/controls",
            "_model_module_version": "1.5.0",
            "_model_name": "FloatProgressModel",
            "_view_count": null,
            "_view_module": "@jupyter-widgets/controls",
            "_view_module_version": "1.5.0",
            "_view_name": "ProgressView",
            "bar_style": "success",
            "description": "",
            "description_tooltip": null,
            "layout": "IPY_MODEL_86a7d082453840cfb736d135ea089f60",
            "max": 363,
            "min": 0,
            "orientation": "horizontal",
            "style": "IPY_MODEL_25c84abaf1d64fd49d18708734420642",
            "value": 363
          }
        },
        "efa791b0115d4939b9a0d51156ab3855": {
          "model_module": "@jupyter-widgets/controls",
          "model_name": "HTMLModel",
          "model_module_version": "1.5.0",
          "state": {
            "_dom_classes": [],
            "_model_module": "@jupyter-widgets/controls",
            "_model_module_version": "1.5.0",
            "_model_name": "HTMLModel",
            "_view_count": null,
            "_view_module": "@jupyter-widgets/controls",
            "_view_module_version": "1.5.0",
            "_view_name": "HTMLView",
            "description": "",
            "description_tooltip": null,
            "layout": "IPY_MODEL_e87d08e5cba147958a13236eb867df01",
            "placeholder": "​",
            "style": "IPY_MODEL_94459fa41b4e4cc5bb03e06c6f632bca",
            "value": " 363/363 [00:00&lt;00:00, 34.4kB/s]"
          }
        },
        "e34ebaebf0dd4f8b9417b86cfa4e0145": {
          "model_module": "@jupyter-widgets/base",
          "model_name": "LayoutModel",
          "model_module_version": "1.2.0",
          "state": {
            "_model_module": "@jupyter-widgets/base",
            "_model_module_version": "1.2.0",
            "_model_name": "LayoutModel",
            "_view_count": null,
            "_view_module": "@jupyter-widgets/base",
            "_view_module_version": "1.2.0",
            "_view_name": "LayoutView",
            "align_content": null,
            "align_items": null,
            "align_self": null,
            "border": null,
            "bottom": null,
            "display": null,
            "flex": null,
            "flex_flow": null,
            "grid_area": null,
            "grid_auto_columns": null,
            "grid_auto_flow": null,
            "grid_auto_rows": null,
            "grid_column": null,
            "grid_gap": null,
            "grid_row": null,
            "grid_template_areas": null,
            "grid_template_columns": null,
            "grid_template_rows": null,
            "height": null,
            "justify_content": null,
            "justify_items": null,
            "left": null,
            "margin": null,
            "max_height": null,
            "max_width": null,
            "min_height": null,
            "min_width": null,
            "object_fit": null,
            "object_position": null,
            "order": null,
            "overflow": null,
            "overflow_x": null,
            "overflow_y": null,
            "padding": null,
            "right": null,
            "top": null,
            "visibility": null,
            "width": null
          }
        },
        "ac144b5147d943b69819e888dc7f0c3f": {
          "model_module": "@jupyter-widgets/base",
          "model_name": "LayoutModel",
          "model_module_version": "1.2.0",
          "state": {
            "_model_module": "@jupyter-widgets/base",
            "_model_module_version": "1.2.0",
            "_model_name": "LayoutModel",
            "_view_count": null,
            "_view_module": "@jupyter-widgets/base",
            "_view_module_version": "1.2.0",
            "_view_name": "LayoutView",
            "align_content": null,
            "align_items": null,
            "align_self": null,
            "border": null,
            "bottom": null,
            "display": null,
            "flex": null,
            "flex_flow": null,
            "grid_area": null,
            "grid_auto_columns": null,
            "grid_auto_flow": null,
            "grid_auto_rows": null,
            "grid_column": null,
            "grid_gap": null,
            "grid_row": null,
            "grid_template_areas": null,
            "grid_template_columns": null,
            "grid_template_rows": null,
            "height": null,
            "justify_content": null,
            "justify_items": null,
            "left": null,
            "margin": null,
            "max_height": null,
            "max_width": null,
            "min_height": null,
            "min_width": null,
            "object_fit": null,
            "object_position": null,
            "order": null,
            "overflow": null,
            "overflow_x": null,
            "overflow_y": null,
            "padding": null,
            "right": null,
            "top": null,
            "visibility": null,
            "width": null
          }
        },
        "fcddf277c9f24e918654f458c553d9ab": {
          "model_module": "@jupyter-widgets/controls",
          "model_name": "DescriptionStyleModel",
          "model_module_version": "1.5.0",
          "state": {
            "_model_module": "@jupyter-widgets/controls",
            "_model_module_version": "1.5.0",
            "_model_name": "DescriptionStyleModel",
            "_view_count": null,
            "_view_module": "@jupyter-widgets/base",
            "_view_module_version": "1.2.0",
            "_view_name": "StyleView",
            "description_width": ""
          }
        },
        "86a7d082453840cfb736d135ea089f60": {
          "model_module": "@jupyter-widgets/base",
          "model_name": "LayoutModel",
          "model_module_version": "1.2.0",
          "state": {
            "_model_module": "@jupyter-widgets/base",
            "_model_module_version": "1.2.0",
            "_model_name": "LayoutModel",
            "_view_count": null,
            "_view_module": "@jupyter-widgets/base",
            "_view_module_version": "1.2.0",
            "_view_name": "LayoutView",
            "align_content": null,
            "align_items": null,
            "align_self": null,
            "border": null,
            "bottom": null,
            "display": null,
            "flex": null,
            "flex_flow": null,
            "grid_area": null,
            "grid_auto_columns": null,
            "grid_auto_flow": null,
            "grid_auto_rows": null,
            "grid_column": null,
            "grid_gap": null,
            "grid_row": null,
            "grid_template_areas": null,
            "grid_template_columns": null,
            "grid_template_rows": null,
            "height": null,
            "justify_content": null,
            "justify_items": null,
            "left": null,
            "margin": null,
            "max_height": null,
            "max_width": null,
            "min_height": null,
            "min_width": null,
            "object_fit": null,
            "object_position": null,
            "order": null,
            "overflow": null,
            "overflow_x": null,
            "overflow_y": null,
            "padding": null,
            "right": null,
            "top": null,
            "visibility": null,
            "width": null
          }
        },
        "25c84abaf1d64fd49d18708734420642": {
          "model_module": "@jupyter-widgets/controls",
          "model_name": "ProgressStyleModel",
          "model_module_version": "1.5.0",
          "state": {
            "_model_module": "@jupyter-widgets/controls",
            "_model_module_version": "1.5.0",
            "_model_name": "ProgressStyleModel",
            "_view_count": null,
            "_view_module": "@jupyter-widgets/base",
            "_view_module_version": "1.2.0",
            "_view_name": "StyleView",
            "bar_color": null,
            "description_width": ""
          }
        },
        "e87d08e5cba147958a13236eb867df01": {
          "model_module": "@jupyter-widgets/base",
          "model_name": "LayoutModel",
          "model_module_version": "1.2.0",
          "state": {
            "_model_module": "@jupyter-widgets/base",
            "_model_module_version": "1.2.0",
            "_model_name": "LayoutModel",
            "_view_count": null,
            "_view_module": "@jupyter-widgets/base",
            "_view_module_version": "1.2.0",
            "_view_name": "LayoutView",
            "align_content": null,
            "align_items": null,
            "align_self": null,
            "border": null,
            "bottom": null,
            "display": null,
            "flex": null,
            "flex_flow": null,
            "grid_area": null,
            "grid_auto_columns": null,
            "grid_auto_flow": null,
            "grid_auto_rows": null,
            "grid_column": null,
            "grid_gap": null,
            "grid_row": null,
            "grid_template_areas": null,
            "grid_template_columns": null,
            "grid_template_rows": null,
            "height": null,
            "justify_content": null,
            "justify_items": null,
            "left": null,
            "margin": null,
            "max_height": null,
            "max_width": null,
            "min_height": null,
            "min_width": null,
            "object_fit": null,
            "object_position": null,
            "order": null,
            "overflow": null,
            "overflow_x": null,
            "overflow_y": null,
            "padding": null,
            "right": null,
            "top": null,
            "visibility": null,
            "width": null
          }
        },
        "94459fa41b4e4cc5bb03e06c6f632bca": {
          "model_module": "@jupyter-widgets/controls",
          "model_name": "DescriptionStyleModel",
          "model_module_version": "1.5.0",
          "state": {
            "_model_module": "@jupyter-widgets/controls",
            "_model_module_version": "1.5.0",
            "_model_name": "DescriptionStyleModel",
            "_view_count": null,
            "_view_module": "@jupyter-widgets/base",
            "_view_module_version": "1.2.0",
            "_view_name": "StyleView",
            "description_width": ""
          }
        },
        "0fd7729bdea34d1e9052d8386452c0d8": {
          "model_module": "@jupyter-widgets/controls",
          "model_name": "HBoxModel",
          "model_module_version": "1.5.0",
          "state": {
            "_dom_classes": [],
            "_model_module": "@jupyter-widgets/controls",
            "_model_module_version": "1.5.0",
            "_model_name": "HBoxModel",
            "_view_count": null,
            "_view_module": "@jupyter-widgets/controls",
            "_view_module_version": "1.5.0",
            "_view_name": "HBoxView",
            "box_style": "",
            "children": [
              "IPY_MODEL_5f2a7fe25ba04ea9bac1892c71c847f4",
              "IPY_MODEL_9f41543df2944d67807a638661fa5edb",
              "IPY_MODEL_82acd5368e714edf824cfe5ef9001e4e"
            ],
            "layout": "IPY_MODEL_0509eb61d57b4c3d8da0a3c8889f719f"
          }
        },
        "5f2a7fe25ba04ea9bac1892c71c847f4": {
          "model_module": "@jupyter-widgets/controls",
          "model_name": "HTMLModel",
          "model_module_version": "1.5.0",
          "state": {
            "_dom_classes": [],
            "_model_module": "@jupyter-widgets/controls",
            "_model_module_version": "1.5.0",
            "_model_name": "HTMLModel",
            "_view_count": null,
            "_view_module": "@jupyter-widgets/controls",
            "_view_module_version": "1.5.0",
            "_view_name": "HTMLView",
            "description": "",
            "description_tooltip": null,
            "layout": "IPY_MODEL_e57e2d5f66264aec948291d209242cee",
            "placeholder": "​",
            "style": "IPY_MODEL_9c5b9a65be46457194e8e29f44b4daea",
            "value": "vocab.txt: 100%"
          }
        },
        "9f41543df2944d67807a638661fa5edb": {
          "model_module": "@jupyter-widgets/controls",
          "model_name": "FloatProgressModel",
          "model_module_version": "1.5.0",
          "state": {
            "_dom_classes": [],
            "_model_module": "@jupyter-widgets/controls",
            "_model_module_version": "1.5.0",
            "_model_name": "FloatProgressModel",
            "_view_count": null,
            "_view_module": "@jupyter-widgets/controls",
            "_view_module_version": "1.5.0",
            "_view_name": "ProgressView",
            "bar_style": "success",
            "description": "",
            "description_tooltip": null,
            "layout": "IPY_MODEL_ebd13e54bb5f4e78a4deaf0d00126ff0",
            "max": 231536,
            "min": 0,
            "orientation": "horizontal",
            "style": "IPY_MODEL_2ab4996ae4434d6791e2c37887521944",
            "value": 231536
          }
        },
        "82acd5368e714edf824cfe5ef9001e4e": {
          "model_module": "@jupyter-widgets/controls",
          "model_name": "HTMLModel",
          "model_module_version": "1.5.0",
          "state": {
            "_dom_classes": [],
            "_model_module": "@jupyter-widgets/controls",
            "_model_module_version": "1.5.0",
            "_model_name": "HTMLModel",
            "_view_count": null,
            "_view_module": "@jupyter-widgets/controls",
            "_view_module_version": "1.5.0",
            "_view_name": "HTMLView",
            "description": "",
            "description_tooltip": null,
            "layout": "IPY_MODEL_7205fe8aedd14b1c9710727e309afb5f",
            "placeholder": "​",
            "style": "IPY_MODEL_e70eec567e59467ea2c31d248afaa58a",
            "value": " 232k/232k [00:00&lt;00:00, 13.2MB/s]"
          }
        },
        "0509eb61d57b4c3d8da0a3c8889f719f": {
          "model_module": "@jupyter-widgets/base",
          "model_name": "LayoutModel",
          "model_module_version": "1.2.0",
          "state": {
            "_model_module": "@jupyter-widgets/base",
            "_model_module_version": "1.2.0",
            "_model_name": "LayoutModel",
            "_view_count": null,
            "_view_module": "@jupyter-widgets/base",
            "_view_module_version": "1.2.0",
            "_view_name": "LayoutView",
            "align_content": null,
            "align_items": null,
            "align_self": null,
            "border": null,
            "bottom": null,
            "display": null,
            "flex": null,
            "flex_flow": null,
            "grid_area": null,
            "grid_auto_columns": null,
            "grid_auto_flow": null,
            "grid_auto_rows": null,
            "grid_column": null,
            "grid_gap": null,
            "grid_row": null,
            "grid_template_areas": null,
            "grid_template_columns": null,
            "grid_template_rows": null,
            "height": null,
            "justify_content": null,
            "justify_items": null,
            "left": null,
            "margin": null,
            "max_height": null,
            "max_width": null,
            "min_height": null,
            "min_width": null,
            "object_fit": null,
            "object_position": null,
            "order": null,
            "overflow": null,
            "overflow_x": null,
            "overflow_y": null,
            "padding": null,
            "right": null,
            "top": null,
            "visibility": null,
            "width": null
          }
        },
        "e57e2d5f66264aec948291d209242cee": {
          "model_module": "@jupyter-widgets/base",
          "model_name": "LayoutModel",
          "model_module_version": "1.2.0",
          "state": {
            "_model_module": "@jupyter-widgets/base",
            "_model_module_version": "1.2.0",
            "_model_name": "LayoutModel",
            "_view_count": null,
            "_view_module": "@jupyter-widgets/base",
            "_view_module_version": "1.2.0",
            "_view_name": "LayoutView",
            "align_content": null,
            "align_items": null,
            "align_self": null,
            "border": null,
            "bottom": null,
            "display": null,
            "flex": null,
            "flex_flow": null,
            "grid_area": null,
            "grid_auto_columns": null,
            "grid_auto_flow": null,
            "grid_auto_rows": null,
            "grid_column": null,
            "grid_gap": null,
            "grid_row": null,
            "grid_template_areas": null,
            "grid_template_columns": null,
            "grid_template_rows": null,
            "height": null,
            "justify_content": null,
            "justify_items": null,
            "left": null,
            "margin": null,
            "max_height": null,
            "max_width": null,
            "min_height": null,
            "min_width": null,
            "object_fit": null,
            "object_position": null,
            "order": null,
            "overflow": null,
            "overflow_x": null,
            "overflow_y": null,
            "padding": null,
            "right": null,
            "top": null,
            "visibility": null,
            "width": null
          }
        },
        "9c5b9a65be46457194e8e29f44b4daea": {
          "model_module": "@jupyter-widgets/controls",
          "model_name": "DescriptionStyleModel",
          "model_module_version": "1.5.0",
          "state": {
            "_model_module": "@jupyter-widgets/controls",
            "_model_module_version": "1.5.0",
            "_model_name": "DescriptionStyleModel",
            "_view_count": null,
            "_view_module": "@jupyter-widgets/base",
            "_view_module_version": "1.2.0",
            "_view_name": "StyleView",
            "description_width": ""
          }
        },
        "ebd13e54bb5f4e78a4deaf0d00126ff0": {
          "model_module": "@jupyter-widgets/base",
          "model_name": "LayoutModel",
          "model_module_version": "1.2.0",
          "state": {
            "_model_module": "@jupyter-widgets/base",
            "_model_module_version": "1.2.0",
            "_model_name": "LayoutModel",
            "_view_count": null,
            "_view_module": "@jupyter-widgets/base",
            "_view_module_version": "1.2.0",
            "_view_name": "LayoutView",
            "align_content": null,
            "align_items": null,
            "align_self": null,
            "border": null,
            "bottom": null,
            "display": null,
            "flex": null,
            "flex_flow": null,
            "grid_area": null,
            "grid_auto_columns": null,
            "grid_auto_flow": null,
            "grid_auto_rows": null,
            "grid_column": null,
            "grid_gap": null,
            "grid_row": null,
            "grid_template_areas": null,
            "grid_template_columns": null,
            "grid_template_rows": null,
            "height": null,
            "justify_content": null,
            "justify_items": null,
            "left": null,
            "margin": null,
            "max_height": null,
            "max_width": null,
            "min_height": null,
            "min_width": null,
            "object_fit": null,
            "object_position": null,
            "order": null,
            "overflow": null,
            "overflow_x": null,
            "overflow_y": null,
            "padding": null,
            "right": null,
            "top": null,
            "visibility": null,
            "width": null
          }
        },
        "2ab4996ae4434d6791e2c37887521944": {
          "model_module": "@jupyter-widgets/controls",
          "model_name": "ProgressStyleModel",
          "model_module_version": "1.5.0",
          "state": {
            "_model_module": "@jupyter-widgets/controls",
            "_model_module_version": "1.5.0",
            "_model_name": "ProgressStyleModel",
            "_view_count": null,
            "_view_module": "@jupyter-widgets/base",
            "_view_module_version": "1.2.0",
            "_view_name": "StyleView",
            "bar_color": null,
            "description_width": ""
          }
        },
        "7205fe8aedd14b1c9710727e309afb5f": {
          "model_module": "@jupyter-widgets/base",
          "model_name": "LayoutModel",
          "model_module_version": "1.2.0",
          "state": {
            "_model_module": "@jupyter-widgets/base",
            "_model_module_version": "1.2.0",
            "_model_name": "LayoutModel",
            "_view_count": null,
            "_view_module": "@jupyter-widgets/base",
            "_view_module_version": "1.2.0",
            "_view_name": "LayoutView",
            "align_content": null,
            "align_items": null,
            "align_self": null,
            "border": null,
            "bottom": null,
            "display": null,
            "flex": null,
            "flex_flow": null,
            "grid_area": null,
            "grid_auto_columns": null,
            "grid_auto_flow": null,
            "grid_auto_rows": null,
            "grid_column": null,
            "grid_gap": null,
            "grid_row": null,
            "grid_template_areas": null,
            "grid_template_columns": null,
            "grid_template_rows": null,
            "height": null,
            "justify_content": null,
            "justify_items": null,
            "left": null,
            "margin": null,
            "max_height": null,
            "max_width": null,
            "min_height": null,
            "min_width": null,
            "object_fit": null,
            "object_position": null,
            "order": null,
            "overflow": null,
            "overflow_x": null,
            "overflow_y": null,
            "padding": null,
            "right": null,
            "top": null,
            "visibility": null,
            "width": null
          }
        },
        "e70eec567e59467ea2c31d248afaa58a": {
          "model_module": "@jupyter-widgets/controls",
          "model_name": "DescriptionStyleModel",
          "model_module_version": "1.5.0",
          "state": {
            "_model_module": "@jupyter-widgets/controls",
            "_model_module_version": "1.5.0",
            "_model_name": "DescriptionStyleModel",
            "_view_count": null,
            "_view_module": "@jupyter-widgets/base",
            "_view_module_version": "1.2.0",
            "_view_name": "StyleView",
            "description_width": ""
          }
        },
        "d302957a284046bb8ac9a602d779dfe0": {
          "model_module": "@jupyter-widgets/controls",
          "model_name": "HBoxModel",
          "model_module_version": "1.5.0",
          "state": {
            "_dom_classes": [],
            "_model_module": "@jupyter-widgets/controls",
            "_model_module_version": "1.5.0",
            "_model_name": "HBoxModel",
            "_view_count": null,
            "_view_module": "@jupyter-widgets/controls",
            "_view_module_version": "1.5.0",
            "_view_name": "HBoxView",
            "box_style": "",
            "children": [
              "IPY_MODEL_d3eca98c84e14b1f8d1746bf55bfdf3b",
              "IPY_MODEL_b836924dfdf34f0abf5416ce48238dd7",
              "IPY_MODEL_e23470c226ad4eb99c3ec67f23117d79"
            ],
            "layout": "IPY_MODEL_cb00d578da654b15b9683dcaa96626f9"
          }
        },
        "d3eca98c84e14b1f8d1746bf55bfdf3b": {
          "model_module": "@jupyter-widgets/controls",
          "model_name": "HTMLModel",
          "model_module_version": "1.5.0",
          "state": {
            "_dom_classes": [],
            "_model_module": "@jupyter-widgets/controls",
            "_model_module_version": "1.5.0",
            "_model_name": "HTMLModel",
            "_view_count": null,
            "_view_module": "@jupyter-widgets/controls",
            "_view_module_version": "1.5.0",
            "_view_name": "HTMLView",
            "description": "",
            "description_tooltip": null,
            "layout": "IPY_MODEL_36698f6362914a6f9567aec64431600a",
            "placeholder": "​",
            "style": "IPY_MODEL_5861d9f505904d47a6f183b71d6a6ba5",
            "value": "tokenizer.json: 100%"
          }
        },
        "b836924dfdf34f0abf5416ce48238dd7": {
          "model_module": "@jupyter-widgets/controls",
          "model_name": "FloatProgressModel",
          "model_module_version": "1.5.0",
          "state": {
            "_dom_classes": [],
            "_model_module": "@jupyter-widgets/controls",
            "_model_module_version": "1.5.0",
            "_model_name": "FloatProgressModel",
            "_view_count": null,
            "_view_module": "@jupyter-widgets/controls",
            "_view_module_version": "1.5.0",
            "_view_name": "ProgressView",
            "bar_style": "success",
            "description": "",
            "description_tooltip": null,
            "layout": "IPY_MODEL_69faae1013614c27b12e028132ef0b3d",
            "max": 466021,
            "min": 0,
            "orientation": "horizontal",
            "style": "IPY_MODEL_879e06e935e540dc81284c4dc9e1f30f",
            "value": 466021
          }
        },
        "e23470c226ad4eb99c3ec67f23117d79": {
          "model_module": "@jupyter-widgets/controls",
          "model_name": "HTMLModel",
          "model_module_version": "1.5.0",
          "state": {
            "_dom_classes": [],
            "_model_module": "@jupyter-widgets/controls",
            "_model_module_version": "1.5.0",
            "_model_name": "HTMLModel",
            "_view_count": null,
            "_view_module": "@jupyter-widgets/controls",
            "_view_module_version": "1.5.0",
            "_view_name": "HTMLView",
            "description": "",
            "description_tooltip": null,
            "layout": "IPY_MODEL_5317aaf3d50b447cac7e9623e977ea38",
            "placeholder": "​",
            "style": "IPY_MODEL_750b1a0d80e94c65bd744ed833d599fc",
            "value": " 466k/466k [00:00&lt;00:00, 33.5MB/s]"
          }
        },
        "cb00d578da654b15b9683dcaa96626f9": {
          "model_module": "@jupyter-widgets/base",
          "model_name": "LayoutModel",
          "model_module_version": "1.2.0",
          "state": {
            "_model_module": "@jupyter-widgets/base",
            "_model_module_version": "1.2.0",
            "_model_name": "LayoutModel",
            "_view_count": null,
            "_view_module": "@jupyter-widgets/base",
            "_view_module_version": "1.2.0",
            "_view_name": "LayoutView",
            "align_content": null,
            "align_items": null,
            "align_self": null,
            "border": null,
            "bottom": null,
            "display": null,
            "flex": null,
            "flex_flow": null,
            "grid_area": null,
            "grid_auto_columns": null,
            "grid_auto_flow": null,
            "grid_auto_rows": null,
            "grid_column": null,
            "grid_gap": null,
            "grid_row": null,
            "grid_template_areas": null,
            "grid_template_columns": null,
            "grid_template_rows": null,
            "height": null,
            "justify_content": null,
            "justify_items": null,
            "left": null,
            "margin": null,
            "max_height": null,
            "max_width": null,
            "min_height": null,
            "min_width": null,
            "object_fit": null,
            "object_position": null,
            "order": null,
            "overflow": null,
            "overflow_x": null,
            "overflow_y": null,
            "padding": null,
            "right": null,
            "top": null,
            "visibility": null,
            "width": null
          }
        },
        "36698f6362914a6f9567aec64431600a": {
          "model_module": "@jupyter-widgets/base",
          "model_name": "LayoutModel",
          "model_module_version": "1.2.0",
          "state": {
            "_model_module": "@jupyter-widgets/base",
            "_model_module_version": "1.2.0",
            "_model_name": "LayoutModel",
            "_view_count": null,
            "_view_module": "@jupyter-widgets/base",
            "_view_module_version": "1.2.0",
            "_view_name": "LayoutView",
            "align_content": null,
            "align_items": null,
            "align_self": null,
            "border": null,
            "bottom": null,
            "display": null,
            "flex": null,
            "flex_flow": null,
            "grid_area": null,
            "grid_auto_columns": null,
            "grid_auto_flow": null,
            "grid_auto_rows": null,
            "grid_column": null,
            "grid_gap": null,
            "grid_row": null,
            "grid_template_areas": null,
            "grid_template_columns": null,
            "grid_template_rows": null,
            "height": null,
            "justify_content": null,
            "justify_items": null,
            "left": null,
            "margin": null,
            "max_height": null,
            "max_width": null,
            "min_height": null,
            "min_width": null,
            "object_fit": null,
            "object_position": null,
            "order": null,
            "overflow": null,
            "overflow_x": null,
            "overflow_y": null,
            "padding": null,
            "right": null,
            "top": null,
            "visibility": null,
            "width": null
          }
        },
        "5861d9f505904d47a6f183b71d6a6ba5": {
          "model_module": "@jupyter-widgets/controls",
          "model_name": "DescriptionStyleModel",
          "model_module_version": "1.5.0",
          "state": {
            "_model_module": "@jupyter-widgets/controls",
            "_model_module_version": "1.5.0",
            "_model_name": "DescriptionStyleModel",
            "_view_count": null,
            "_view_module": "@jupyter-widgets/base",
            "_view_module_version": "1.2.0",
            "_view_name": "StyleView",
            "description_width": ""
          }
        },
        "69faae1013614c27b12e028132ef0b3d": {
          "model_module": "@jupyter-widgets/base",
          "model_name": "LayoutModel",
          "model_module_version": "1.2.0",
          "state": {
            "_model_module": "@jupyter-widgets/base",
            "_model_module_version": "1.2.0",
            "_model_name": "LayoutModel",
            "_view_count": null,
            "_view_module": "@jupyter-widgets/base",
            "_view_module_version": "1.2.0",
            "_view_name": "LayoutView",
            "align_content": null,
            "align_items": null,
            "align_self": null,
            "border": null,
            "bottom": null,
            "display": null,
            "flex": null,
            "flex_flow": null,
            "grid_area": null,
            "grid_auto_columns": null,
            "grid_auto_flow": null,
            "grid_auto_rows": null,
            "grid_column": null,
            "grid_gap": null,
            "grid_row": null,
            "grid_template_areas": null,
            "grid_template_columns": null,
            "grid_template_rows": null,
            "height": null,
            "justify_content": null,
            "justify_items": null,
            "left": null,
            "margin": null,
            "max_height": null,
            "max_width": null,
            "min_height": null,
            "min_width": null,
            "object_fit": null,
            "object_position": null,
            "order": null,
            "overflow": null,
            "overflow_x": null,
            "overflow_y": null,
            "padding": null,
            "right": null,
            "top": null,
            "visibility": null,
            "width": null
          }
        },
        "879e06e935e540dc81284c4dc9e1f30f": {
          "model_module": "@jupyter-widgets/controls",
          "model_name": "ProgressStyleModel",
          "model_module_version": "1.5.0",
          "state": {
            "_model_module": "@jupyter-widgets/controls",
            "_model_module_version": "1.5.0",
            "_model_name": "ProgressStyleModel",
            "_view_count": null,
            "_view_module": "@jupyter-widgets/base",
            "_view_module_version": "1.2.0",
            "_view_name": "StyleView",
            "bar_color": null,
            "description_width": ""
          }
        },
        "5317aaf3d50b447cac7e9623e977ea38": {
          "model_module": "@jupyter-widgets/base",
          "model_name": "LayoutModel",
          "model_module_version": "1.2.0",
          "state": {
            "_model_module": "@jupyter-widgets/base",
            "_model_module_version": "1.2.0",
            "_model_name": "LayoutModel",
            "_view_count": null,
            "_view_module": "@jupyter-widgets/base",
            "_view_module_version": "1.2.0",
            "_view_name": "LayoutView",
            "align_content": null,
            "align_items": null,
            "align_self": null,
            "border": null,
            "bottom": null,
            "display": null,
            "flex": null,
            "flex_flow": null,
            "grid_area": null,
            "grid_auto_columns": null,
            "grid_auto_flow": null,
            "grid_auto_rows": null,
            "grid_column": null,
            "grid_gap": null,
            "grid_row": null,
            "grid_template_areas": null,
            "grid_template_columns": null,
            "grid_template_rows": null,
            "height": null,
            "justify_content": null,
            "justify_items": null,
            "left": null,
            "margin": null,
            "max_height": null,
            "max_width": null,
            "min_height": null,
            "min_width": null,
            "object_fit": null,
            "object_position": null,
            "order": null,
            "overflow": null,
            "overflow_x": null,
            "overflow_y": null,
            "padding": null,
            "right": null,
            "top": null,
            "visibility": null,
            "width": null
          }
        },
        "750b1a0d80e94c65bd744ed833d599fc": {
          "model_module": "@jupyter-widgets/controls",
          "model_name": "DescriptionStyleModel",
          "model_module_version": "1.5.0",
          "state": {
            "_model_module": "@jupyter-widgets/controls",
            "_model_module_version": "1.5.0",
            "_model_name": "DescriptionStyleModel",
            "_view_count": null,
            "_view_module": "@jupyter-widgets/base",
            "_view_module_version": "1.2.0",
            "_view_name": "StyleView",
            "description_width": ""
          }
        },
        "470309d94b3848a8a61987ccafed5eb7": {
          "model_module": "@jupyter-widgets/controls",
          "model_name": "HBoxModel",
          "model_module_version": "1.5.0",
          "state": {
            "_dom_classes": [],
            "_model_module": "@jupyter-widgets/controls",
            "_model_module_version": "1.5.0",
            "_model_name": "HBoxModel",
            "_view_count": null,
            "_view_module": "@jupyter-widgets/controls",
            "_view_module_version": "1.5.0",
            "_view_name": "HBoxView",
            "box_style": "",
            "children": [
              "IPY_MODEL_63e1ada8bc414a0f87e72cd7abe99f19",
              "IPY_MODEL_e01b4e12e20b414782fb9d8aa2fa32ef",
              "IPY_MODEL_0d5b7059a2314d2895f11fd3f26d7d0d"
            ],
            "layout": "IPY_MODEL_1b019b2f62e84c25af2dfd72886832cc"
          }
        },
        "63e1ada8bc414a0f87e72cd7abe99f19": {
          "model_module": "@jupyter-widgets/controls",
          "model_name": "HTMLModel",
          "model_module_version": "1.5.0",
          "state": {
            "_dom_classes": [],
            "_model_module": "@jupyter-widgets/controls",
            "_model_module_version": "1.5.0",
            "_model_name": "HTMLModel",
            "_view_count": null,
            "_view_module": "@jupyter-widgets/controls",
            "_view_module_version": "1.5.0",
            "_view_name": "HTMLView",
            "description": "",
            "description_tooltip": null,
            "layout": "IPY_MODEL_ab15c4bccbd345ee8cc1c427018e42bf",
            "placeholder": "​",
            "style": "IPY_MODEL_d99d5e256b674339b4b30cbc8b40e4b7",
            "value": "special_tokens_map.json: 100%"
          }
        },
        "e01b4e12e20b414782fb9d8aa2fa32ef": {
          "model_module": "@jupyter-widgets/controls",
          "model_name": "FloatProgressModel",
          "model_module_version": "1.5.0",
          "state": {
            "_dom_classes": [],
            "_model_module": "@jupyter-widgets/controls",
            "_model_module_version": "1.5.0",
            "_model_name": "FloatProgressModel",
            "_view_count": null,
            "_view_module": "@jupyter-widgets/controls",
            "_view_module_version": "1.5.0",
            "_view_name": "ProgressView",
            "bar_style": "success",
            "description": "",
            "description_tooltip": null,
            "layout": "IPY_MODEL_f8a253c7fd01439c8b08578e352d387f",
            "max": 239,
            "min": 0,
            "orientation": "horizontal",
            "style": "IPY_MODEL_bc23691948ad4ff0993eaea0febe9c82",
            "value": 239
          }
        },
        "0d5b7059a2314d2895f11fd3f26d7d0d": {
          "model_module": "@jupyter-widgets/controls",
          "model_name": "HTMLModel",
          "model_module_version": "1.5.0",
          "state": {
            "_dom_classes": [],
            "_model_module": "@jupyter-widgets/controls",
            "_model_module_version": "1.5.0",
            "_model_name": "HTMLModel",
            "_view_count": null,
            "_view_module": "@jupyter-widgets/controls",
            "_view_module_version": "1.5.0",
            "_view_name": "HTMLView",
            "description": "",
            "description_tooltip": null,
            "layout": "IPY_MODEL_7635b6289cfd4307a4155625d88e5c91",
            "placeholder": "​",
            "style": "IPY_MODEL_3ad53cf1c40643b9a86662d6debc3329",
            "value": " 239/239 [00:00&lt;00:00, 22.7kB/s]"
          }
        },
        "1b019b2f62e84c25af2dfd72886832cc": {
          "model_module": "@jupyter-widgets/base",
          "model_name": "LayoutModel",
          "model_module_version": "1.2.0",
          "state": {
            "_model_module": "@jupyter-widgets/base",
            "_model_module_version": "1.2.0",
            "_model_name": "LayoutModel",
            "_view_count": null,
            "_view_module": "@jupyter-widgets/base",
            "_view_module_version": "1.2.0",
            "_view_name": "LayoutView",
            "align_content": null,
            "align_items": null,
            "align_self": null,
            "border": null,
            "bottom": null,
            "display": null,
            "flex": null,
            "flex_flow": null,
            "grid_area": null,
            "grid_auto_columns": null,
            "grid_auto_flow": null,
            "grid_auto_rows": null,
            "grid_column": null,
            "grid_gap": null,
            "grid_row": null,
            "grid_template_areas": null,
            "grid_template_columns": null,
            "grid_template_rows": null,
            "height": null,
            "justify_content": null,
            "justify_items": null,
            "left": null,
            "margin": null,
            "max_height": null,
            "max_width": null,
            "min_height": null,
            "min_width": null,
            "object_fit": null,
            "object_position": null,
            "order": null,
            "overflow": null,
            "overflow_x": null,
            "overflow_y": null,
            "padding": null,
            "right": null,
            "top": null,
            "visibility": null,
            "width": null
          }
        },
        "ab15c4bccbd345ee8cc1c427018e42bf": {
          "model_module": "@jupyter-widgets/base",
          "model_name": "LayoutModel",
          "model_module_version": "1.2.0",
          "state": {
            "_model_module": "@jupyter-widgets/base",
            "_model_module_version": "1.2.0",
            "_model_name": "LayoutModel",
            "_view_count": null,
            "_view_module": "@jupyter-widgets/base",
            "_view_module_version": "1.2.0",
            "_view_name": "LayoutView",
            "align_content": null,
            "align_items": null,
            "align_self": null,
            "border": null,
            "bottom": null,
            "display": null,
            "flex": null,
            "flex_flow": null,
            "grid_area": null,
            "grid_auto_columns": null,
            "grid_auto_flow": null,
            "grid_auto_rows": null,
            "grid_column": null,
            "grid_gap": null,
            "grid_row": null,
            "grid_template_areas": null,
            "grid_template_columns": null,
            "grid_template_rows": null,
            "height": null,
            "justify_content": null,
            "justify_items": null,
            "left": null,
            "margin": null,
            "max_height": null,
            "max_width": null,
            "min_height": null,
            "min_width": null,
            "object_fit": null,
            "object_position": null,
            "order": null,
            "overflow": null,
            "overflow_x": null,
            "overflow_y": null,
            "padding": null,
            "right": null,
            "top": null,
            "visibility": null,
            "width": null
          }
        },
        "d99d5e256b674339b4b30cbc8b40e4b7": {
          "model_module": "@jupyter-widgets/controls",
          "model_name": "DescriptionStyleModel",
          "model_module_version": "1.5.0",
          "state": {
            "_model_module": "@jupyter-widgets/controls",
            "_model_module_version": "1.5.0",
            "_model_name": "DescriptionStyleModel",
            "_view_count": null,
            "_view_module": "@jupyter-widgets/base",
            "_view_module_version": "1.2.0",
            "_view_name": "StyleView",
            "description_width": ""
          }
        },
        "f8a253c7fd01439c8b08578e352d387f": {
          "model_module": "@jupyter-widgets/base",
          "model_name": "LayoutModel",
          "model_module_version": "1.2.0",
          "state": {
            "_model_module": "@jupyter-widgets/base",
            "_model_module_version": "1.2.0",
            "_model_name": "LayoutModel",
            "_view_count": null,
            "_view_module": "@jupyter-widgets/base",
            "_view_module_version": "1.2.0",
            "_view_name": "LayoutView",
            "align_content": null,
            "align_items": null,
            "align_self": null,
            "border": null,
            "bottom": null,
            "display": null,
            "flex": null,
            "flex_flow": null,
            "grid_area": null,
            "grid_auto_columns": null,
            "grid_auto_flow": null,
            "grid_auto_rows": null,
            "grid_column": null,
            "grid_gap": null,
            "grid_row": null,
            "grid_template_areas": null,
            "grid_template_columns": null,
            "grid_template_rows": null,
            "height": null,
            "justify_content": null,
            "justify_items": null,
            "left": null,
            "margin": null,
            "max_height": null,
            "max_width": null,
            "min_height": null,
            "min_width": null,
            "object_fit": null,
            "object_position": null,
            "order": null,
            "overflow": null,
            "overflow_x": null,
            "overflow_y": null,
            "padding": null,
            "right": null,
            "top": null,
            "visibility": null,
            "width": null
          }
        },
        "bc23691948ad4ff0993eaea0febe9c82": {
          "model_module": "@jupyter-widgets/controls",
          "model_name": "ProgressStyleModel",
          "model_module_version": "1.5.0",
          "state": {
            "_model_module": "@jupyter-widgets/controls",
            "_model_module_version": "1.5.0",
            "_model_name": "ProgressStyleModel",
            "_view_count": null,
            "_view_module": "@jupyter-widgets/base",
            "_view_module_version": "1.2.0",
            "_view_name": "StyleView",
            "bar_color": null,
            "description_width": ""
          }
        },
        "7635b6289cfd4307a4155625d88e5c91": {
          "model_module": "@jupyter-widgets/base",
          "model_name": "LayoutModel",
          "model_module_version": "1.2.0",
          "state": {
            "_model_module": "@jupyter-widgets/base",
            "_model_module_version": "1.2.0",
            "_model_name": "LayoutModel",
            "_view_count": null,
            "_view_module": "@jupyter-widgets/base",
            "_view_module_version": "1.2.0",
            "_view_name": "LayoutView",
            "align_content": null,
            "align_items": null,
            "align_self": null,
            "border": null,
            "bottom": null,
            "display": null,
            "flex": null,
            "flex_flow": null,
            "grid_area": null,
            "grid_auto_columns": null,
            "grid_auto_flow": null,
            "grid_auto_rows": null,
            "grid_column": null,
            "grid_gap": null,
            "grid_row": null,
            "grid_template_areas": null,
            "grid_template_columns": null,
            "grid_template_rows": null,
            "height": null,
            "justify_content": null,
            "justify_items": null,
            "left": null,
            "margin": null,
            "max_height": null,
            "max_width": null,
            "min_height": null,
            "min_width": null,
            "object_fit": null,
            "object_position": null,
            "order": null,
            "overflow": null,
            "overflow_x": null,
            "overflow_y": null,
            "padding": null,
            "right": null,
            "top": null,
            "visibility": null,
            "width": null
          }
        },
        "3ad53cf1c40643b9a86662d6debc3329": {
          "model_module": "@jupyter-widgets/controls",
          "model_name": "DescriptionStyleModel",
          "model_module_version": "1.5.0",
          "state": {
            "_model_module": "@jupyter-widgets/controls",
            "_model_module_version": "1.5.0",
            "_model_name": "DescriptionStyleModel",
            "_view_count": null,
            "_view_module": "@jupyter-widgets/base",
            "_view_module_version": "1.2.0",
            "_view_name": "StyleView",
            "description_width": ""
          }
        },
        "3448a6e983914ac0b848a1411f49bb2c": {
          "model_module": "@jupyter-widgets/controls",
          "model_name": "HBoxModel",
          "model_module_version": "1.5.0",
          "state": {
            "_dom_classes": [],
            "_model_module": "@jupyter-widgets/controls",
            "_model_module_version": "1.5.0",
            "_model_name": "HBoxModel",
            "_view_count": null,
            "_view_module": "@jupyter-widgets/controls",
            "_view_module_version": "1.5.0",
            "_view_name": "HBoxView",
            "box_style": "",
            "children": [
              "IPY_MODEL_99cdaccedaa8438780d2881da1f2f8f2",
              "IPY_MODEL_bdf3db31d18a4be59ff6f0ad90cb552a",
              "IPY_MODEL_00a460c9efa14e49953c5f28075a4560"
            ],
            "layout": "IPY_MODEL_b39e197037e54d068a59c3f72a5c6cc9"
          }
        },
        "99cdaccedaa8438780d2881da1f2f8f2": {
          "model_module": "@jupyter-widgets/controls",
          "model_name": "HTMLModel",
          "model_module_version": "1.5.0",
          "state": {
            "_dom_classes": [],
            "_model_module": "@jupyter-widgets/controls",
            "_model_module_version": "1.5.0",
            "_model_name": "HTMLModel",
            "_view_count": null,
            "_view_module": "@jupyter-widgets/controls",
            "_view_module_version": "1.5.0",
            "_view_name": "HTMLView",
            "description": "",
            "description_tooltip": null,
            "layout": "IPY_MODEL_d8579b186d9b4783a721671048b051ac",
            "placeholder": "​",
            "style": "IPY_MODEL_1467781809a84f14a59f56e6ddbf5e85",
            "value": "config.json: 100%"
          }
        },
        "bdf3db31d18a4be59ff6f0ad90cb552a": {
          "model_module": "@jupyter-widgets/controls",
          "model_name": "FloatProgressModel",
          "model_module_version": "1.5.0",
          "state": {
            "_dom_classes": [],
            "_model_module": "@jupyter-widgets/controls",
            "_model_module_version": "1.5.0",
            "_model_name": "FloatProgressModel",
            "_view_count": null,
            "_view_module": "@jupyter-widgets/controls",
            "_view_module_version": "1.5.0",
            "_view_name": "ProgressView",
            "bar_style": "success",
            "description": "",
            "description_tooltip": null,
            "layout": "IPY_MODEL_03fcc39f474347508dcf96526df3943a",
            "max": 190,
            "min": 0,
            "orientation": "horizontal",
            "style": "IPY_MODEL_de8265401ad849348efd47ebe85ddf06",
            "value": 190
          }
        },
        "00a460c9efa14e49953c5f28075a4560": {
          "model_module": "@jupyter-widgets/controls",
          "model_name": "HTMLModel",
          "model_module_version": "1.5.0",
          "state": {
            "_dom_classes": [],
            "_model_module": "@jupyter-widgets/controls",
            "_model_module_version": "1.5.0",
            "_model_name": "HTMLModel",
            "_view_count": null,
            "_view_module": "@jupyter-widgets/controls",
            "_view_module_version": "1.5.0",
            "_view_name": "HTMLView",
            "description": "",
            "description_tooltip": null,
            "layout": "IPY_MODEL_f0e65fbcee9d4ed584f6e148e6780149",
            "placeholder": "​",
            "style": "IPY_MODEL_0bae5813bf294b6abb5d9961e7e15c58",
            "value": " 190/190 [00:00&lt;00:00, 18.6kB/s]"
          }
        },
        "b39e197037e54d068a59c3f72a5c6cc9": {
          "model_module": "@jupyter-widgets/base",
          "model_name": "LayoutModel",
          "model_module_version": "1.2.0",
          "state": {
            "_model_module": "@jupyter-widgets/base",
            "_model_module_version": "1.2.0",
            "_model_name": "LayoutModel",
            "_view_count": null,
            "_view_module": "@jupyter-widgets/base",
            "_view_module_version": "1.2.0",
            "_view_name": "LayoutView",
            "align_content": null,
            "align_items": null,
            "align_self": null,
            "border": null,
            "bottom": null,
            "display": null,
            "flex": null,
            "flex_flow": null,
            "grid_area": null,
            "grid_auto_columns": null,
            "grid_auto_flow": null,
            "grid_auto_rows": null,
            "grid_column": null,
            "grid_gap": null,
            "grid_row": null,
            "grid_template_areas": null,
            "grid_template_columns": null,
            "grid_template_rows": null,
            "height": null,
            "justify_content": null,
            "justify_items": null,
            "left": null,
            "margin": null,
            "max_height": null,
            "max_width": null,
            "min_height": null,
            "min_width": null,
            "object_fit": null,
            "object_position": null,
            "order": null,
            "overflow": null,
            "overflow_x": null,
            "overflow_y": null,
            "padding": null,
            "right": null,
            "top": null,
            "visibility": null,
            "width": null
          }
        },
        "d8579b186d9b4783a721671048b051ac": {
          "model_module": "@jupyter-widgets/base",
          "model_name": "LayoutModel",
          "model_module_version": "1.2.0",
          "state": {
            "_model_module": "@jupyter-widgets/base",
            "_model_module_version": "1.2.0",
            "_model_name": "LayoutModel",
            "_view_count": null,
            "_view_module": "@jupyter-widgets/base",
            "_view_module_version": "1.2.0",
            "_view_name": "LayoutView",
            "align_content": null,
            "align_items": null,
            "align_self": null,
            "border": null,
            "bottom": null,
            "display": null,
            "flex": null,
            "flex_flow": null,
            "grid_area": null,
            "grid_auto_columns": null,
            "grid_auto_flow": null,
            "grid_auto_rows": null,
            "grid_column": null,
            "grid_gap": null,
            "grid_row": null,
            "grid_template_areas": null,
            "grid_template_columns": null,
            "grid_template_rows": null,
            "height": null,
            "justify_content": null,
            "justify_items": null,
            "left": null,
            "margin": null,
            "max_height": null,
            "max_width": null,
            "min_height": null,
            "min_width": null,
            "object_fit": null,
            "object_position": null,
            "order": null,
            "overflow": null,
            "overflow_x": null,
            "overflow_y": null,
            "padding": null,
            "right": null,
            "top": null,
            "visibility": null,
            "width": null
          }
        },
        "1467781809a84f14a59f56e6ddbf5e85": {
          "model_module": "@jupyter-widgets/controls",
          "model_name": "DescriptionStyleModel",
          "model_module_version": "1.5.0",
          "state": {
            "_model_module": "@jupyter-widgets/controls",
            "_model_module_version": "1.5.0",
            "_model_name": "DescriptionStyleModel",
            "_view_count": null,
            "_view_module": "@jupyter-widgets/base",
            "_view_module_version": "1.2.0",
            "_view_name": "StyleView",
            "description_width": ""
          }
        },
        "03fcc39f474347508dcf96526df3943a": {
          "model_module": "@jupyter-widgets/base",
          "model_name": "LayoutModel",
          "model_module_version": "1.2.0",
          "state": {
            "_model_module": "@jupyter-widgets/base",
            "_model_module_version": "1.2.0",
            "_model_name": "LayoutModel",
            "_view_count": null,
            "_view_module": "@jupyter-widgets/base",
            "_view_module_version": "1.2.0",
            "_view_name": "LayoutView",
            "align_content": null,
            "align_items": null,
            "align_self": null,
            "border": null,
            "bottom": null,
            "display": null,
            "flex": null,
            "flex_flow": null,
            "grid_area": null,
            "grid_auto_columns": null,
            "grid_auto_flow": null,
            "grid_auto_rows": null,
            "grid_column": null,
            "grid_gap": null,
            "grid_row": null,
            "grid_template_areas": null,
            "grid_template_columns": null,
            "grid_template_rows": null,
            "height": null,
            "justify_content": null,
            "justify_items": null,
            "left": null,
            "margin": null,
            "max_height": null,
            "max_width": null,
            "min_height": null,
            "min_width": null,
            "object_fit": null,
            "object_position": null,
            "order": null,
            "overflow": null,
            "overflow_x": null,
            "overflow_y": null,
            "padding": null,
            "right": null,
            "top": null,
            "visibility": null,
            "width": null
          }
        },
        "de8265401ad849348efd47ebe85ddf06": {
          "model_module": "@jupyter-widgets/controls",
          "model_name": "ProgressStyleModel",
          "model_module_version": "1.5.0",
          "state": {
            "_model_module": "@jupyter-widgets/controls",
            "_model_module_version": "1.5.0",
            "_model_name": "ProgressStyleModel",
            "_view_count": null,
            "_view_module": "@jupyter-widgets/base",
            "_view_module_version": "1.2.0",
            "_view_name": "StyleView",
            "bar_color": null,
            "description_width": ""
          }
        },
        "f0e65fbcee9d4ed584f6e148e6780149": {
          "model_module": "@jupyter-widgets/base",
          "model_name": "LayoutModel",
          "model_module_version": "1.2.0",
          "state": {
            "_model_module": "@jupyter-widgets/base",
            "_model_module_version": "1.2.0",
            "_model_name": "LayoutModel",
            "_view_count": null,
            "_view_module": "@jupyter-widgets/base",
            "_view_module_version": "1.2.0",
            "_view_name": "LayoutView",
            "align_content": null,
            "align_items": null,
            "align_self": null,
            "border": null,
            "bottom": null,
            "display": null,
            "flex": null,
            "flex_flow": null,
            "grid_area": null,
            "grid_auto_columns": null,
            "grid_auto_flow": null,
            "grid_auto_rows": null,
            "grid_column": null,
            "grid_gap": null,
            "grid_row": null,
            "grid_template_areas": null,
            "grid_template_columns": null,
            "grid_template_rows": null,
            "height": null,
            "justify_content": null,
            "justify_items": null,
            "left": null,
            "margin": null,
            "max_height": null,
            "max_width": null,
            "min_height": null,
            "min_width": null,
            "object_fit": null,
            "object_position": null,
            "order": null,
            "overflow": null,
            "overflow_x": null,
            "overflow_y": null,
            "padding": null,
            "right": null,
            "top": null,
            "visibility": null,
            "width": null
          }
        },
        "0bae5813bf294b6abb5d9961e7e15c58": {
          "model_module": "@jupyter-widgets/controls",
          "model_name": "DescriptionStyleModel",
          "model_module_version": "1.5.0",
          "state": {
            "_model_module": "@jupyter-widgets/controls",
            "_model_module_version": "1.5.0",
            "_model_name": "DescriptionStyleModel",
            "_view_count": null,
            "_view_module": "@jupyter-widgets/base",
            "_view_module_version": "1.2.0",
            "_view_name": "StyleView",
            "description_width": ""
          }
        }
      }
    }
  },
  "nbformat": 4,
  "nbformat_minor": 5
}