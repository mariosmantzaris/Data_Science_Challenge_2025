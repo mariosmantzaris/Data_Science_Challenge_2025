{
 "cells": [
  {
   "cell_type": "markdown",
   "id": "9bb3bd0f29ba4b31",
   "metadata": {},
   "source": [
    "# Product Classification using Graph Features\n",
    "\n",
    "This notebook focuses on extracting features from the product graph to predict product classes. We'll use the graph structure to extract meaningful features that can help in classifying products into their respective categories.\n"
   ]
  },
  {
   "cell_type": "markdown",
   "id": "62425c587dfdbaa4",
   "metadata": {},
   "source": [
    "## Install Required Libraries\n"
   ]
  },
  {
   "cell_type": "code",
   "id": "bdeef5d499c5c56f",
   "metadata": {
    "ExecuteTime": {
     "end_time": "2025-05-08T15:23:56.966255Z",
     "start_time": "2025-05-08T15:23:56.964079Z"
    }
   },
   "source": [
    "# Install required packages if not already installed\n",
    "# !pip install networkx matplotlib pandas scikit-learn numpy plotly xgboost node2vec tensorflow karateclub"
   ],
   "outputs": [],
   "execution_count": 1
  },
  {
   "cell_type": "markdown",
   "id": "ee3f6786ac1775a1",
   "metadata": {},
   "source": [
    "## Import Libraries\n"
   ]
  },
  {
   "cell_type": "code",
   "id": "d2c1424e154cd893",
   "metadata": {
    "ExecuteTime": {
     "end_time": "2025-05-10T11:41:17.966579Z",
     "start_time": "2025-05-10T11:41:14.706929Z"
    }
   },
   "source": [
    "import networkx as nx\n",
    "import matplotlib.pyplot as plt\n",
    "import pandas as pd\n",
    "import numpy as np\n",
    "from sklearn.ensemble import RandomForestClassifier\n",
    "from sklearn.linear_model import LogisticRegression\n",
    "from sklearn.svm import SVC\n",
    "from sklearn.metrics import accuracy_score, classification_report, log_loss\n",
    "from sklearn.preprocessing import StandardScaler\n",
    "import plotly.express as px\n",
    "import plotly.graph_objects as go\n",
    "from tqdm import tqdm\n",
    "import warnings\n",
    "warnings.filterwarnings('ignore')\n",
    "\n",
    "# Import XGBoost\n",
    "import xgboost as xgb\n",
    "\n",
    "# Import TensorFlow for Neural Network\n",
    "import tensorflow as tf\n",
    "from tensorflow.keras.models import Sequential\n",
    "from tensorflow.keras.layers import Dense, Dropout\n",
    "from tensorflow.keras.optimizers import Adam\n",
    "from tensorflow.keras.callbacks import EarlyStopping\n",
    "\n",
    "import node2vec\n",
    "from karateclub import DeepWalk\n"
   ],
   "outputs": [
    {
     "name": "stderr",
     "output_type": "stream",
     "text": [
      "2025-05-10 14:41:15.703443: E external/local_xla/xla/stream_executor/cuda/cuda_fft.cc:477] Unable to register cuFFT factory: Attempting to register factory for plugin cuFFT when one has already been registered\n",
      "WARNING: All log messages before absl::InitializeLog() is called are written to STDERR\n",
      "E0000 00:00:1746877275.764299   11466 cuda_dnn.cc:8310] Unable to register cuDNN factory: Attempting to register factory for plugin cuDNN when one has already been registered\n",
      "E0000 00:00:1746877275.783212   11466 cuda_blas.cc:1418] Unable to register cuBLAS factory: Attempting to register factory for plugin cuBLAS when one has already been registered\n",
      "2025-05-10 14:41:15.929340: I tensorflow/core/platform/cpu_feature_guard.cc:210] This TensorFlow binary is optimized to use available CPU instructions in performance-critical operations.\n",
      "To enable the following instructions: AVX2 FMA, in other operations, rebuild TensorFlow with the appropriate compiler flags.\n"
     ]
    }
   ],
   "execution_count": 1
  },
  {
   "cell_type": "markdown",
   "id": "10db503d60918d0f",
   "metadata": {},
   "source": [
    "## Load Data\n"
   ]
  },
  {
   "cell_type": "code",
   "id": "7c417da8713c810a",
   "metadata": {
    "ExecuteTime": {
     "end_time": "2025-05-10T11:41:22.100102Z",
     "start_time": "2025-05-10T11:41:21.202827Z"
    }
   },
   "source": [
    "# Load the edge list data\n",
    "edgelist_file = 'data_files/edgelist.txt'\n",
    "edges_df = pd.read_csv(edgelist_file, header=None, names=['source', 'target'])\n",
    "\n",
    "# Load the class labels\n",
    "labels_file = 'y_train.txt'\n",
    "labels_df = pd.read_csv(labels_file, header=None, names=['product_id', 'label'])\n",
    "\n",
    "# Load the train and test splits\n",
    "train_df = pd.read_csv('split_dataset/train.csv')\n",
    "test_df = pd.read_csv('split_dataset/test.csv')\n",
    "\n",
    "# Display basic information about the datasets\n",
    "print(f\"Edge list shape: {edges_df.shape}\")\n",
    "print(f\"Labels shape: {labels_df.shape}\")\n",
    "print(f\"Train set shape: {train_df.shape}\")\n",
    "print(f\"Test set shape: {test_df.shape}\")\n",
    "\n",
    "# Check the first few rows of each dataset\n",
    "print(\"\\nEdge list sample:\")\n",
    "print(edges_df.head())\n",
    "\n",
    "print(\"\\nLabels sample:\")\n",
    "print(labels_df.head())\n",
    "\n",
    "print(\"\\nTrain set sample:\")\n",
    "print(train_df.head())\n",
    "\n",
    "print(\"\\nTest set sample:\")\n",
    "print(test_df.head())\n"
   ],
   "outputs": [
    {
     "name": "stdout",
     "output_type": "stream",
     "text": [
      "Edge list shape: (1811087, 2)\n",
      "Labels shape: (182006, 2)\n",
      "Train set shape: (145604, 3)\n",
      "Test set shape: (36402, 3)\n",
      "\n",
      "Edge list sample:\n",
      "   source  target\n",
      "0  251528  237411\n",
      "1  100805   74791\n",
      "2   38634   97747\n",
      "3  247470   77089\n",
      "4  267060  250490\n",
      "\n",
      "Labels sample:\n",
      "   product_id  label\n",
      "0       66795      9\n",
      "1      242781      3\n",
      "2       91280      2\n",
      "3       56356      5\n",
      "4      218494      0\n",
      "\n",
      "Train set sample:\n",
      "   product_id                                         text_clean  label\n",
      "0      114704  hornady unprimed winchester cartridge case hor...      2\n",
      "1      250731  tachikara tk leopard knee pad tachikara tk leo...     11\n",
      "2      152967  g asd replacement cutter aluminum amp carbon u...      2\n",
      "3        4541  mtech usa mt tactical folding knife inch close...      2\n",
      "4      142062  nhl pittsburgh penguins game day black pro sha...      7\n",
      "\n",
      "Test set sample:\n",
      "   product_id                                         text_clean  label\n",
      "0       56218                             katz hoodie volleyball      0\n",
      "1       42346  vz grip operator ii standard size gun grip usa...      2\n",
      "2      215842  tough flat leather hobble tough flat leather h...     15\n",
      "3       36062  buzzrack skipper bicycle suv hatchback wheel c...      1\n",
      "4      188250  cuisinart cgg allfood btu portable outdoor tab...     10\n"
     ]
    }
   ],
   "execution_count": 2
  },
  {
   "cell_type": "markdown",
   "id": "4e958b6afde2b810",
   "metadata": {},
   "source": [
    "## Create Graph from Edge List\n"
   ]
  },
  {
   "cell_type": "code",
   "id": "19ac8560615b8ee9",
   "metadata": {
    "ExecuteTime": {
     "end_time": "2025-05-10T11:41:34.759609Z",
     "start_time": "2025-05-10T11:41:23.956978Z"
    }
   },
   "source": [
    "# Create a graph from the edge list\n",
    "G = nx.from_pandas_edgelist(edges_df, 'source', 'target')\n",
    "\n",
    "# Print basic information about the graph\n",
    "print(f\"Number of nodes: {G.number_of_nodes()}\")\n",
    "print(f\"Number of edges: {G.number_of_edges()}\")\n",
    "print(f\"Network Density: {nx.density(G):.6f}\")\n",
    "\n",
    "# Check if the graph is connected\n",
    "is_connected = nx.is_connected(G)\n",
    "print(f\"Is the graph connected? {is_connected}\")\n",
    "\n",
    "if not is_connected:\n",
    "    # Get the largest connected component\n",
    "    largest_cc = max(nx.connected_components(G), key=len)\n",
    "    largest_cc_subgraph = G.subgraph(largest_cc)\n",
    "    print(f\"\\nLargest Connected Component:\")\n",
    "    print(f\"  Nodes: {largest_cc_subgraph.number_of_nodes()}\")\n",
    "    print(f\"  Edges: {largest_cc_subgraph.number_of_edges()}\")\n",
    "    print(f\"  Percentage of total nodes: {largest_cc_subgraph.number_of_nodes() / G.number_of_nodes() * 100:.2f}%\")\n"
   ],
   "outputs": [
    {
     "name": "stdout",
     "output_type": "stream",
     "text": [
      "Number of nodes: 276453\n",
      "Number of edges: 1811087\n",
      "Network Density: 0.000047\n",
      "Is the graph connected? False\n",
      "\n",
      "Largest Connected Component:\n",
      "  Nodes: 273012\n",
      "  Edges: 1808230\n",
      "  Percentage of total nodes: 98.76%\n"
     ]
    }
   ],
   "execution_count": 3
  },
  {
   "cell_type": "markdown",
   "id": "d0ec209650c4c7cc",
   "metadata": {},
   "source": [
    "## Extract Graph Features\n",
    "\n",
    "We'll extract the following features for each product (node) in the graph:\n",
    "1. Degree Centrality: Number of connections a node has\n",
    "2. Clustering Coefficient: Measure of how nodes tend to cluster together\n",
    "3. PageRank: Importance of a node based on the structure of incoming links\n",
    "4. Betweenness Centrality: Measure of node's centrality in a graph based on shortest paths\n",
    "5. Closeness Centrality: Measure of how close a node is to all other nodes\n",
    "6. Eigenvector Centrality: Measure of the influence of a node in a network\n",
    "7. Triangle Count: Number of triangles a node is part of\n"
   ]
  },
  {
   "cell_type": "code",
   "id": "aad9bbd5152b31b8",
   "metadata": {
    "ExecuteTime": {
     "end_time": "2025-05-10T11:41:38.803967Z",
     "start_time": "2025-05-10T11:41:38.782753Z"
    }
   },
   "source": [
    "# Function to extract graph features for a set of nodes\n",
    "def extract_graph_features(G, node_list):\n",
    "    print(\"Calculating degree centrality...\")\n",
    "    degree_centrality = nx.degree_centrality(G)\n",
    "\n",
    "    print(\"Calculating clustering coefficient...\")\n",
    "    clustering_coefficient = nx.clustering(G)\n",
    "\n",
    "    print(\"Calculating PageRank...\")\n",
    "    pagerank = nx.pagerank(G, alpha=0.85, max_iter=100)\n",
    "\n",
    "    # For large graphs, betweenness and closeness centrality can be computationally expensive\n",
    "    # We'll use approximation methods or limit to a subset of nodes if needed\n",
    "\n",
    "    print(\"Calculating triangle count...\")\n",
    "    triangles = nx.triangles(G)\n",
    "\n",
    "    # Create a dataframe with the features\n",
    "    features_df = pd.DataFrame(index=node_list)\n",
    "\n",
    "    features_df['degree_centrality'] = features_df.index.map(lambda x: degree_centrality.get(x, 0))\n",
    "    features_df['clustering_coefficient'] = features_df.index.map(lambda x: clustering_coefficient.get(x, 0))\n",
    "    features_df['pagerank'] = features_df.index.map(lambda x: pagerank.get(x, 0))\n",
    "    features_df['triangle_count'] = features_df.index.map(lambda x: triangles.get(x, 0))\n",
    "\n",
    "\n",
    "    # Degree (number of connections)\n",
    "    print(\"Calculating degree...\")\n",
    "    degree_dict = dict(G.degree())\n",
    "    features_df['degree'] = features_df.index.map(lambda x: degree_dict.get(x, 0))\n",
    "\n",
    "    # For a subset of nodes, calculate betweenness centrality\n",
    "    # This is computationally expensive, so we'll use a sample if the graph is large\n",
    "    # if len(node_list) < 5000:\n",
    "    #     print(\"Calculating betweenness centrality...\")\n",
    "    #     betweenness_centrality = nx.betweenness_centrality(G, k=min(500, len(G.nodes())), normalized=True)\n",
    "    #     features_df['betweenness_centrality'] = features_df.index.map(lambda x: betweenness_centrality.get(x, 0))\n",
    "    # else:\n",
    "    #     print(\"Skipping betweenness centrality due to graph size...\")\n",
    "    #     features_df['betweenness_centrality'] = 0\n",
    "    #\n",
    "    # # For a subset of nodes, calculate closeness centrality\n",
    "    # if len(node_list) < 5000:\n",
    "    #     print(\"Calculating closeness centrality...\")\n",
    "    #     closeness_centrality = nx.closeness_centrality(G)\n",
    "    #     features_df['closeness_centrality'] = features_df.index.map(lambda x: closeness_centrality.get(x, 0))\n",
    "    # else:\n",
    "    #     print(\"Skipping closeness centrality due to graph size...\")\n",
    "    #     features_df['closeness_centrality'] = 0\n",
    "    #\n",
    "    # # Calculate eigenvector centrality\n",
    "    # try:\n",
    "    #     print(\"Calculating eigenvector centrality...\")\n",
    "    #     eigenvector_centrality = nx.eigenvector_centrality(G, max_iter=100)\n",
    "    #     features_df['eigenvector_centrality'] = features_df.index.map(lambda x: eigenvector_centrality.get(x, 0))\n",
    "    # except:\n",
    "    #     print(\"Eigenvector centrality calculation failed, using approximation...\")\n",
    "    #     features_df['eigenvector_centrality'] = 0\n",
    "\n",
    "    return features_df\n"
   ],
   "outputs": [],
   "execution_count": 4
  },
  {
   "cell_type": "markdown",
   "id": "3c159e92aa57862f",
   "metadata": {},
   "source": [
    "## Prepare Training and Testing Data\n"
   ]
  },
  {
   "cell_type": "code",
   "id": "e4e0543e2182666f",
   "metadata": {
    "ExecuteTime": {
     "end_time": "2025-05-10T11:43:13.600519Z",
     "start_time": "2025-05-10T11:41:42.417876Z"
    }
   },
   "source": [
    "# Get the list of product IDs from train and test sets\n",
    "train_product_ids = train_df['product_id'].tolist()\n",
    "test_product_ids = test_df['product_id'].tolist()\n",
    "\n",
    "# Extract features for training and testing sets\n",
    "print(\"Extracting features for training set...\")\n",
    "train_features = extract_graph_features(G, train_product_ids)\n",
    "\n",
    "print(\"\\nExtracting features for testing set...\")\n",
    "test_features = extract_graph_features(G, test_product_ids)\n",
    "\n",
    "# Get the labels for training and testing sets\n",
    "train_labels = train_df['label'].values\n",
    "test_labels = test_df['label'].values\n",
    "\n",
    "# Display the feature dataframes\n",
    "print(\"\\nTraining features shape:\", train_features.shape)\n",
    "print(\"Testing features shape:\", test_features.shape)\n",
    "\n",
    "# Check for missing values\n",
    "print(\"\\nMissing values in training features:\", train_features.isnull().sum().sum())\n",
    "print(\"Missing values in testing features:\", test_features.isnull().sum().sum())\n",
    "\n",
    "# Fill missing values with 0 if any\n",
    "train_features = train_features.fillna(0)\n",
    "test_features = test_features.fillna(0)\n",
    "\n",
    "# Scale the features\n",
    "scaler = StandardScaler()\n",
    "train_features_scaled = scaler.fit_transform(train_features)\n",
    "test_features_scaled = scaler.transform(test_features)\n"
   ],
   "outputs": [
    {
     "name": "stdout",
     "output_type": "stream",
     "text": [
      "Extracting features for training set...\n",
      "Calculating degree centrality...\n",
      "Calculating clustering coefficient...\n",
      "Calculating PageRank...\n",
      "Calculating triangle count...\n",
      "Calculating degree...\n",
      "\n",
      "Extracting features for testing set...\n",
      "Calculating degree centrality...\n",
      "Calculating clustering coefficient...\n",
      "Calculating PageRank...\n",
      "Calculating triangle count...\n",
      "Calculating degree...\n",
      "\n",
      "Training features shape: (145604, 5)\n",
      "Testing features shape: (36402, 5)\n",
      "\n",
      "Missing values in training features: 0\n",
      "Missing values in testing features: 0\n"
     ]
    }
   ],
   "execution_count": 5
  },
  {
   "cell_type": "markdown",
   "id": "95b45df9d37b59",
   "metadata": {},
   "source": [
    "## Train and Evaluate Models\n"
   ]
  },
  {
   "cell_type": "markdown",
   "id": "df1495b5d694c019",
   "metadata": {},
   "source": [
    "### Random Forest Classifier\n"
   ]
  },
  {
   "cell_type": "code",
   "execution_count": 6,
   "id": "115dc98ecf7000f1",
   "metadata": {
    "ExecuteTime": {
     "end_time": "2025-05-06T15:37:13.164357Z",
     "start_time": "2025-05-06T15:37:08.178293Z"
    }
   },
   "outputs": [
    {
     "name": "stdout",
     "output_type": "stream",
     "text": [
      "Training Random Forest classifier...\n",
      "Random Forest Test Accuracy: 0.2677\n",
      "Random Forest Multi-class Log Loss: 12.4784\n",
      "\n",
      "Random Forest Classification Report:\n",
      "              precision    recall  f1-score   support\n",
      "\n",
      "           0       0.49      0.50      0.49      3033\n",
      "           1       0.12      0.12      0.12      2372\n",
      "           2       0.38      0.39      0.38      8652\n",
      "           3       0.15      0.15      0.15      1073\n",
      "           4       0.19      0.19      0.19      3016\n",
      "           5       0.16      0.15      0.15      3565\n",
      "           6       0.09      0.08      0.09      1519\n",
      "           7       0.47      0.48      0.47      3752\n",
      "           8       0.08      0.07      0.07      1316\n",
      "           9       0.11      0.11      0.11       903\n",
      "          10       0.16      0.16      0.16      3589\n",
      "          11       0.20      0.19      0.20      1425\n",
      "          12       0.15      0.13      0.14      1318\n",
      "          13       0.22      0.21      0.22       323\n",
      "          14       0.05      0.04      0.05       226\n",
      "          15       0.19      0.18      0.18       320\n",
      "\n",
      "    accuracy                           0.27     36402\n",
      "   macro avg       0.20      0.20      0.20     36402\n",
      "weighted avg       0.26      0.27      0.27     36402\n",
      "\n"
     ]
    }
   ],
   "source": [
    "# Train a Random Forest classifier\n",
    "print(\"Training Random Forest classifier...\")\n",
    "rf_model = RandomForestClassifier(n_estimators=100, random_state=42, n_jobs=-1)\n",
    "rf_model.fit(train_features_scaled, train_labels)\n",
    "\n",
    "# Make predictions on the test set\n",
    "rf_test_pred = rf_model.predict(test_features_scaled)\n",
    "rf_test_pred_proba = rf_model.predict_proba(test_features_scaled)\n",
    "\n",
    "# Calculate accuracy\n",
    "rf_accuracy = accuracy_score(test_labels, rf_test_pred)\n",
    "print(f\"Random Forest Test Accuracy: {rf_accuracy:.4f}\")\n",
    "\n",
    "# Calculate multi-class log loss\n",
    "rf_loss = log_loss(test_labels, rf_test_pred_proba)\n",
    "print(f\"Random Forest Multi-class Log Loss: {rf_loss:.4f}\")\n",
    "\n",
    "# Print classification report\n",
    "print(\"\\nRandom Forest Classification Report:\")\n",
    "print(classification_report(test_labels, rf_test_pred))\n"
   ]
  },
  {
   "cell_type": "markdown",
   "id": "d40f341aeeeb0978",
   "metadata": {},
   "source": [
    "### Logistic Regression\n"
   ]
  },
  {
   "cell_type": "code",
   "execution_count": 7,
   "id": "a67f4148c413751",
   "metadata": {
    "ExecuteTime": {
     "end_time": "2025-05-06T15:37:24.219507Z",
     "start_time": "2025-05-06T15:37:16.176270Z"
    }
   },
   "outputs": [
    {
     "name": "stdout",
     "output_type": "stream",
     "text": [
      "Training Logistic Regression classifier...\n",
      "Logistic Regression Test Accuracy: 0.3144\n",
      "Logistic Regression Multi-class Log Loss: 2.2013\n",
      "\n",
      "Logistic Regression Classification Report:\n",
      "              precision    recall  f1-score   support\n",
      "\n",
      "           0       0.28      0.37      0.32      3033\n",
      "           1       0.00      0.00      0.00      2372\n",
      "           2       0.31      0.91      0.46      8652\n",
      "           3       0.50      0.00      0.00      1073\n",
      "           4       0.15      0.05      0.07      3016\n",
      "           5       0.17      0.00      0.01      3565\n",
      "           6       0.00      0.00      0.00      1519\n",
      "           7       0.39      0.59      0.47      3752\n",
      "           8       0.00      0.00      0.00      1316\n",
      "           9       0.00      0.00      0.00       903\n",
      "          10       0.22      0.02      0.04      3589\n",
      "          11       0.33      0.00      0.00      1425\n",
      "          12       0.33      0.00      0.00      1318\n",
      "          13       0.00      0.00      0.00       323\n",
      "          14       0.00      0.00      0.00       226\n",
      "          15       0.00      0.00      0.00       320\n",
      "\n",
      "    accuracy                           0.31     36402\n",
      "   macro avg       0.17      0.12      0.09     36402\n",
      "weighted avg       0.23      0.31      0.20     36402\n",
      "\n"
     ]
    }
   ],
   "source": [
    "# Train a Logistic Regression classifier\n",
    "print(\"Training Logistic Regression classifier...\")\n",
    "lr_model = LogisticRegression(max_iter=1000, random_state=42, n_jobs=-1)\n",
    "lr_model.fit(train_features_scaled, train_labels)\n",
    "\n",
    "# Make predictions on the test set\n",
    "lr_test_pred = lr_model.predict(test_features_scaled)\n",
    "lr_test_pred_proba = lr_model.predict_proba(test_features_scaled)\n",
    "\n",
    "# Calculate accuracy\n",
    "lr_accuracy = accuracy_score(test_labels, lr_test_pred)\n",
    "print(f\"Logistic Regression Test Accuracy: {lr_accuracy:.4f}\")\n",
    "\n",
    "# Calculate multi-class log loss\n",
    "lr_loss = log_loss(test_labels, lr_test_pred_proba)\n",
    "print(f\"Logistic Regression Multi-class Log Loss: {lr_loss:.4f}\")\n",
    "\n",
    "# Print classification report\n",
    "print(\"\\nLogistic Regression Classification Report:\")\n",
    "print(classification_report(test_labels, lr_test_pred))\n"
   ]
  },
  {
   "cell_type": "markdown",
   "id": "c81cdd20ca78903f",
   "metadata": {},
   "source": [
    "### Support Vector Machine (SVM)\n"
   ]
  },
  {
   "cell_type": "markdown",
   "id": "724a4224c6ac169d",
   "metadata": {},
   "source": [
    "Takes too long to run (45m)"
   ]
  },
  {
   "cell_type": "code",
   "execution_count": 9,
   "id": "6b597ffeaecb1070",
   "metadata": {
    "ExecuteTime": {
     "end_time": "2025-05-06T16:22:02.896765Z",
     "start_time": "2025-05-06T15:37:30.458189Z"
    }
   },
   "outputs": [
    {
     "name": "stdout",
     "output_type": "stream",
     "text": [
      "Training SVM classifier...\n",
      "SVM Test Accuracy: 0.3159\n",
      "SVM Multi-class Log Loss: 2.1890\n",
      "\n",
      "SVM Classification Report:\n",
      "              precision    recall  f1-score   support\n",
      "\n",
      "           0       0.26      0.43      0.33      3033\n",
      "           1       0.00      0.00      0.00      2372\n",
      "           2       0.31      0.92      0.46      8652\n",
      "           3       0.00      0.00      0.00      1073\n",
      "           4       0.67      0.00      0.00      3016\n",
      "           5       0.00      0.00      0.00      3565\n",
      "           6       0.00      0.00      0.00      1519\n",
      "           7       0.39      0.59      0.47      3752\n",
      "           8       0.00      0.00      0.00      1316\n",
      "           9       0.00      0.00      0.00       903\n",
      "          10       0.00      0.00      0.00      3589\n",
      "          11       0.00      0.00      0.00      1425\n",
      "          12       0.00      0.00      0.00      1318\n",
      "          13       0.00      0.00      0.00       323\n",
      "          14       0.00      0.00      0.00       226\n",
      "          15       0.00      0.00      0.00       320\n",
      "\n",
      "    accuracy                           0.32     36402\n",
      "   macro avg       0.10      0.12      0.08     36402\n",
      "weighted avg       0.19      0.32      0.19     36402\n",
      "\n"
     ]
    }
   ],
   "source": [
    "# # Train an SVM classifier\n",
    "# print(\"Training SVM classifier...\")\n",
    "# # Using a linear kernel for faster training\n",
    "# svm_model = SVC(kernel='linear', probability=True, random_state=42)\n",
    "# svm_model.fit(train_features_scaled, train_labels)\n",
    "#\n",
    "# # Make predictions on the test set\n",
    "# svm_test_pred = svm_model.predict(test_features_scaled)\n",
    "# svm_test_pred_proba = svm_model.predict_proba(test_features_scaled)\n",
    "#\n",
    "# # Calculate accuracy\n",
    "# svm_accuracy = accuracy_score(test_labels, svm_test_pred)\n",
    "# print(f\"SVM Test Accuracy: {svm_accuracy:.4f}\")\n",
    "#\n",
    "# # Calculate multi-class log loss\n",
    "# svm_loss = log_loss(test_labels, svm_test_pred_proba)\n",
    "# print(f\"SVM Multi-class Log Loss: {svm_loss:.4f}\")\n",
    "#\n",
    "# # Print classification report\n",
    "# print(\"\\nSVM Classification Report:\")\n",
    "# print(classification_report(test_labels, svm_test_pred))\n"
   ]
  },
  {
   "cell_type": "markdown",
   "id": "6c76c2e7a8a9b164",
   "metadata": {},
   "source": [
    "### XGBoost"
   ]
  },
  {
   "cell_type": "code",
   "execution_count": 8,
   "id": "26659f6727743777",
   "metadata": {
    "ExecuteTime": {
     "end_time": "2025-05-05T14:37:23.260941Z",
     "start_time": "2025-05-05T14:37:18.403530Z"
    }
   },
   "outputs": [
    {
     "name": "stdout",
     "output_type": "stream",
     "text": [
      "Training XGBoost classifier...\n",
      "XGBoost Test Accuracy: 0.3432\n",
      "XGBoost Multi-class Log Loss: 2.0553\n",
      "\n",
      "XGBoost Classification Report:\n",
      "              precision    recall  f1-score   support\n",
      "\n",
      "           0       0.37      0.51      0.43      3033\n",
      "           1       0.19      0.02      0.03      2372\n",
      "           2       0.35      0.83      0.49      8652\n",
      "           3       0.56      0.01      0.03      1073\n",
      "           4       0.23      0.08      0.12      3016\n",
      "           5       0.18      0.07      0.10      3565\n",
      "           6       0.24      0.00      0.01      1519\n",
      "           7       0.39      0.72      0.51      3752\n",
      "           8       0.00      0.00      0.00      1316\n",
      "           9       0.50      0.00      0.00       903\n",
      "          10       0.22      0.11      0.15      3589\n",
      "          11       0.25      0.00      0.01      1425\n",
      "          12       0.49      0.04      0.08      1318\n",
      "          13       0.60      0.02      0.04       323\n",
      "          14       0.00      0.00      0.00       226\n",
      "          15       0.00      0.00      0.00       320\n",
      "\n",
      "    accuracy                           0.34     36402\n",
      "   macro avg       0.29      0.15      0.12     36402\n",
      "weighted avg       0.30      0.34      0.25     36402\n",
      "\n"
     ]
    }
   ],
   "source": [
    "# Train an XGBoost classifier\n",
    "print(\"Training XGBoost classifier...\")\n",
    "xgb_model = xgb.XGBClassifier(\n",
    "    n_estimators=100,\n",
    "    learning_rate=0.1,\n",
    "    max_depth=5,\n",
    "    random_state=42,\n",
    "    n_jobs=-1\n",
    ")\n",
    "xgb_model.fit(train_features_scaled, train_labels)\n",
    "\n",
    "# Make predictions on the test set\n",
    "xgb_test_pred = xgb_model.predict(test_features_scaled)\n",
    "xgb_test_pred_proba = xgb_model.predict_proba(test_features_scaled)\n",
    "\n",
    "# Calculate accuracy\n",
    "xgb_accuracy = accuracy_score(test_labels, xgb_test_pred)\n",
    "print(f\"XGBoost Test Accuracy: {xgb_accuracy:.4f}\")\n",
    "\n",
    "# Calculate multi-class log loss\n",
    "xgb_loss = log_loss(test_labels, xgb_test_pred_proba)\n",
    "print(f\"XGBoost Multi-class Log Loss: {xgb_loss:.4f}\")\n",
    "\n",
    "# Print classification report\n",
    "print(\"\\nXGBoost Classification Report:\")\n",
    "print(classification_report(test_labels, xgb_test_pred))\n"
   ]
  },
  {
   "cell_type": "markdown",
   "id": "cca66390a7876e2d",
   "metadata": {},
   "source": [
    "### Neural Network\n"
   ]
  },
  {
   "cell_type": "code",
   "execution_count": 12,
   "id": "93ab64e452a0b99c",
   "metadata": {
    "ExecuteTime": {
     "end_time": "2025-05-05T14:40:40.625034Z",
     "start_time": "2025-05-05T14:37:35.917688Z"
    }
   },
   "outputs": [
    {
     "name": "stdout",
     "output_type": "stream",
     "text": [
      "Number of classes: 16\n",
      "Building Neural Network model...\n",
      "Training Neural Network...\n",
      "Epoch 1/50\n"
     ]
    },
    {
     "name": "stderr",
     "output_type": "stream",
     "text": [
      "2025-05-05 17:37:35.937878: E external/local_xla/xla/stream_executor/cuda/cuda_driver.cc:152] failed call to cuInit: INTERNAL: CUDA error: Failed call to cuInit: UNKNOWN ERROR (303)\n"
     ]
    },
    {
     "name": "stdout",
     "output_type": "stream",
     "text": [
      "\u001B[1m3641/3641\u001B[0m \u001B[32m━━━━━━━━━━━━━━━━━━━━\u001B[0m\u001B[37m\u001B[0m \u001B[1m6s\u001B[0m 1ms/step - accuracy: 0.2804 - loss: 2.3107 - val_accuracy: 0.3271 - val_loss: 2.1120\n",
      "Epoch 2/50\n",
      "\u001B[1m3641/3641\u001B[0m \u001B[32m━━━━━━━━━━━━━━━━━━━━\u001B[0m\u001B[37m\u001B[0m \u001B[1m4s\u001B[0m 979us/step - accuracy: 0.3244 - loss: 2.1394 - val_accuracy: 0.3326 - val_loss: 2.0901\n",
      "Epoch 3/50\n",
      "\u001B[1m3641/3641\u001B[0m \u001B[32m━━━━━━━━━━━━━━━━━━━━\u001B[0m\u001B[37m\u001B[0m \u001B[1m4s\u001B[0m 1ms/step - accuracy: 0.3296 - loss: 2.1120 - val_accuracy: 0.3344 - val_loss: 2.0814\n",
      "Epoch 4/50\n",
      "\u001B[1m3641/3641\u001B[0m \u001B[32m━━━━━━━━━━━━━━━━━━━━\u001B[0m\u001B[37m\u001B[0m \u001B[1m4s\u001B[0m 1ms/step - accuracy: 0.3304 - loss: 2.1041 - val_accuracy: 0.3370 - val_loss: 2.0744\n",
      "Epoch 5/50\n",
      "\u001B[1m3641/3641\u001B[0m \u001B[32m━━━━━━━━━━━━━━━━━━━━\u001B[0m\u001B[37m\u001B[0m \u001B[1m4s\u001B[0m 1ms/step - accuracy: 0.3307 - loss: 2.1002 - val_accuracy: 0.3346 - val_loss: 2.0737\n",
      "Epoch 6/50\n",
      "\u001B[1m3641/3641\u001B[0m \u001B[32m━━━━━━━━━━━━━━━━━━━━\u001B[0m\u001B[37m\u001B[0m \u001B[1m4s\u001B[0m 1ms/step - accuracy: 0.3310 - loss: 2.0947 - val_accuracy: 0.3365 - val_loss: 2.0704\n",
      "Epoch 7/50\n",
      "\u001B[1m3641/3641\u001B[0m \u001B[32m━━━━━━━━━━━━━━━━━━━━\u001B[0m\u001B[37m\u001B[0m \u001B[1m4s\u001B[0m 1ms/step - accuracy: 0.3352 - loss: 2.0895 - val_accuracy: 0.3384 - val_loss: 2.0649\n",
      "Epoch 8/50\n",
      "\u001B[1m3641/3641\u001B[0m \u001B[32m━━━━━━━━━━━━━━━━━━━━\u001B[0m\u001B[37m\u001B[0m \u001B[1m4s\u001B[0m 993us/step - accuracy: 0.3363 - loss: 2.0848 - val_accuracy: 0.3382 - val_loss: 2.0612\n",
      "Epoch 9/50\n",
      "\u001B[1m3641/3641\u001B[0m \u001B[32m━━━━━━━━━━━━━━━━━━━━\u001B[0m\u001B[37m\u001B[0m \u001B[1m4s\u001B[0m 1ms/step - accuracy: 0.3322 - loss: 2.0869 - val_accuracy: 0.3372 - val_loss: 2.0626\n",
      "Epoch 10/50\n",
      "\u001B[1m3641/3641\u001B[0m \u001B[32m━━━━━━━━━━━━━━━━━━━━\u001B[0m\u001B[37m\u001B[0m \u001B[1m4s\u001B[0m 984us/step - accuracy: 0.3349 - loss: 2.0872 - val_accuracy: 0.3382 - val_loss: 2.0620\n",
      "Epoch 11/50\n",
      "\u001B[1m3641/3641\u001B[0m \u001B[32m━━━━━━━━━━━━━━━━━━━━\u001B[0m\u001B[37m\u001B[0m \u001B[1m4s\u001B[0m 974us/step - accuracy: 0.3354 - loss: 2.0849 - val_accuracy: 0.3385 - val_loss: 2.0573\n",
      "Epoch 12/50\n",
      "\u001B[1m3641/3641\u001B[0m \u001B[32m━━━━━━━━━━━━━━━━━━━━\u001B[0m\u001B[37m\u001B[0m \u001B[1m4s\u001B[0m 1ms/step - accuracy: 0.3389 - loss: 2.0738 - val_accuracy: 0.3363 - val_loss: 2.0586\n",
      "Epoch 13/50\n",
      "\u001B[1m3641/3641\u001B[0m \u001B[32m━━━━━━━━━━━━━━━━━━━━\u001B[0m\u001B[37m\u001B[0m \u001B[1m4s\u001B[0m 982us/step - accuracy: 0.3360 - loss: 2.0760 - val_accuracy: 0.3405 - val_loss: 2.0549\n",
      "Epoch 14/50\n",
      "\u001B[1m3641/3641\u001B[0m \u001B[32m━━━━━━━━━━━━━━━━━━━━\u001B[0m\u001B[37m\u001B[0m \u001B[1m4s\u001B[0m 988us/step - accuracy: 0.3369 - loss: 2.0758 - val_accuracy: 0.3369 - val_loss: 2.0607\n",
      "Epoch 15/50\n",
      "\u001B[1m3641/3641\u001B[0m \u001B[32m━━━━━━━━━━━━━━━━━━━━\u001B[0m\u001B[37m\u001B[0m \u001B[1m4s\u001B[0m 1ms/step - accuracy: 0.3377 - loss: 2.0733 - val_accuracy: 0.3355 - val_loss: 2.0614\n",
      "Epoch 16/50\n",
      "\u001B[1m3641/3641\u001B[0m \u001B[32m━━━━━━━━━━━━━━━━━━━━\u001B[0m\u001B[37m\u001B[0m \u001B[1m4s\u001B[0m 980us/step - accuracy: 0.3366 - loss: 2.0775 - val_accuracy: 0.3386 - val_loss: 2.0532\n",
      "Epoch 17/50\n",
      "\u001B[1m3641/3641\u001B[0m \u001B[32m━━━━━━━━━━━━━━━━━━━━\u001B[0m\u001B[37m\u001B[0m \u001B[1m4s\u001B[0m 970us/step - accuracy: 0.3367 - loss: 2.0725 - val_accuracy: 0.3367 - val_loss: 2.0605\n",
      "Epoch 18/50\n",
      "\u001B[1m3641/3641\u001B[0m \u001B[32m━━━━━━━━━━━━━━━━━━━━\u001B[0m\u001B[37m\u001B[0m \u001B[1m4s\u001B[0m 980us/step - accuracy: 0.3359 - loss: 2.0794 - val_accuracy: 0.3369 - val_loss: 2.0605\n",
      "Epoch 19/50\n",
      "\u001B[1m3641/3641\u001B[0m \u001B[32m━━━━━━━━━━━━━━━━━━━━\u001B[0m\u001B[37m\u001B[0m \u001B[1m4s\u001B[0m 1ms/step - accuracy: 0.3390 - loss: 2.0736 - val_accuracy: 0.3390 - val_loss: 2.0518\n",
      "Epoch 20/50\n",
      "\u001B[1m3641/3641\u001B[0m \u001B[32m━━━━━━━━━━━━━━━━━━━━\u001B[0m\u001B[37m\u001B[0m \u001B[1m4s\u001B[0m 977us/step - accuracy: 0.3373 - loss: 2.0758 - val_accuracy: 0.3372 - val_loss: 2.0563\n",
      "Epoch 21/50\n",
      "\u001B[1m3641/3641\u001B[0m \u001B[32m━━━━━━━━━━━━━━━━━━━━\u001B[0m\u001B[37m\u001B[0m \u001B[1m4s\u001B[0m 980us/step - accuracy: 0.3359 - loss: 2.0793 - val_accuracy: 0.3386 - val_loss: 2.0502\n",
      "Epoch 22/50\n",
      "\u001B[1m3641/3641\u001B[0m \u001B[32m━━━━━━━━━━━━━━━━━━━━\u001B[0m\u001B[37m\u001B[0m \u001B[1m4s\u001B[0m 973us/step - accuracy: 0.3384 - loss: 2.0704 - val_accuracy: 0.3390 - val_loss: 2.0525\n",
      "Epoch 23/50\n",
      "\u001B[1m3641/3641\u001B[0m \u001B[32m━━━━━━━━━━━━━━━━━━━━\u001B[0m\u001B[37m\u001B[0m \u001B[1m4s\u001B[0m 977us/step - accuracy: 0.3362 - loss: 2.0819 - val_accuracy: 0.3386 - val_loss: 2.0508\n",
      "Epoch 24/50\n",
      "\u001B[1m3641/3641\u001B[0m \u001B[32m━━━━━━━━━━━━━━━━━━━━\u001B[0m\u001B[37m\u001B[0m \u001B[1m4s\u001B[0m 973us/step - accuracy: 0.3402 - loss: 2.0684 - val_accuracy: 0.3381 - val_loss: 2.0552\n",
      "Epoch 25/50\n",
      "\u001B[1m3641/3641\u001B[0m \u001B[32m━━━━━━━━━━━━━━━━━━━━\u001B[0m\u001B[37m\u001B[0m \u001B[1m4s\u001B[0m 1ms/step - accuracy: 0.3373 - loss: 2.0758 - val_accuracy: 0.3392 - val_loss: 2.0503\n",
      "Epoch 26/50\n",
      "\u001B[1m3641/3641\u001B[0m \u001B[32m━━━━━━━━━━━━━━━━━━━━\u001B[0m\u001B[37m\u001B[0m \u001B[1m4s\u001B[0m 972us/step - accuracy: 0.3381 - loss: 2.0721 - val_accuracy: 0.3383 - val_loss: 2.0560\n",
      "Epoch 27/50\n",
      "\u001B[1m3641/3641\u001B[0m \u001B[32m━━━━━━━━━━━━━━━━━━━━\u001B[0m\u001B[37m\u001B[0m \u001B[1m4s\u001B[0m 979us/step - accuracy: 0.3360 - loss: 2.0756 - val_accuracy: 0.3389 - val_loss: 2.0528\n",
      "Epoch 28/50\n",
      "\u001B[1m3641/3641\u001B[0m \u001B[32m━━━━━━━━━━━━━━━━━━━━\u001B[0m\u001B[37m\u001B[0m \u001B[1m4s\u001B[0m 988us/step - accuracy: 0.3388 - loss: 2.0712 - val_accuracy: 0.3398 - val_loss: 2.0506\n",
      "Epoch 29/50\n",
      "\u001B[1m3641/3641\u001B[0m \u001B[32m━━━━━━━━━━━━━━━━━━━━\u001B[0m\u001B[37m\u001B[0m \u001B[1m4s\u001B[0m 1ms/step - accuracy: 0.3358 - loss: 2.0751 - val_accuracy: 0.3394 - val_loss: 2.0501\n",
      "Epoch 30/50\n",
      "\u001B[1m3641/3641\u001B[0m \u001B[32m━━━━━━━━━━━━━━━━━━━━\u001B[0m\u001B[37m\u001B[0m \u001B[1m4s\u001B[0m 975us/step - accuracy: 0.3356 - loss: 2.0758 - val_accuracy: 0.3401 - val_loss: 2.0509\n",
      "Epoch 31/50\n",
      "\u001B[1m3641/3641\u001B[0m \u001B[32m━━━━━━━━━━━━━━━━━━━━\u001B[0m\u001B[37m\u001B[0m \u001B[1m4s\u001B[0m 981us/step - accuracy: 0.3379 - loss: 2.0736 - val_accuracy: 0.3410 - val_loss: 2.0493\n",
      "Epoch 32/50\n",
      "\u001B[1m3641/3641\u001B[0m \u001B[32m━━━━━━━━━━━━━━━━━━━━\u001B[0m\u001B[37m\u001B[0m \u001B[1m4s\u001B[0m 985us/step - accuracy: 0.3356 - loss: 2.0727 - val_accuracy: 0.3367 - val_loss: 2.0537\n",
      "Epoch 33/50\n",
      "\u001B[1m3641/3641\u001B[0m \u001B[32m━━━━━━━━━━━━━━━━━━━━\u001B[0m\u001B[37m\u001B[0m \u001B[1m4s\u001B[0m 973us/step - accuracy: 0.3391 - loss: 2.0678 - val_accuracy: 0.3396 - val_loss: 2.0466\n",
      "Epoch 34/50\n",
      "\u001B[1m3641/3641\u001B[0m \u001B[32m━━━━━━━━━━━━━━━━━━━━\u001B[0m\u001B[37m\u001B[0m \u001B[1m4s\u001B[0m 999us/step - accuracy: 0.3356 - loss: 2.0725 - val_accuracy: 0.3383 - val_loss: 2.0504\n",
      "Epoch 35/50\n",
      "\u001B[1m3641/3641\u001B[0m \u001B[32m━━━━━━━━━━━━━━━━━━━━\u001B[0m\u001B[37m\u001B[0m \u001B[1m4s\u001B[0m 980us/step - accuracy: 0.3350 - loss: 2.0740 - val_accuracy: 0.3403 - val_loss: 2.0481\n",
      "Epoch 36/50\n",
      "\u001B[1m3641/3641\u001B[0m \u001B[32m━━━━━━━━━━━━━━━━━━━━\u001B[0m\u001B[37m\u001B[0m \u001B[1m4s\u001B[0m 986us/step - accuracy: 0.3405 - loss: 2.0656 - val_accuracy: 0.3410 - val_loss: 2.0484\n",
      "Epoch 37/50\n",
      "\u001B[1m3641/3641\u001B[0m \u001B[32m━━━━━━━━━━━━━━━━━━━━\u001B[0m\u001B[37m\u001B[0m \u001B[1m4s\u001B[0m 980us/step - accuracy: 0.3354 - loss: 2.0737 - val_accuracy: 0.3397 - val_loss: 2.0480\n",
      "Epoch 38/50\n",
      "\u001B[1m3641/3641\u001B[0m \u001B[32m━━━━━━━━━━━━━━━━━━━━\u001B[0m\u001B[37m\u001B[0m \u001B[1m4s\u001B[0m 982us/step - accuracy: 0.3377 - loss: 2.0730 - val_accuracy: 0.3409 - val_loss: 2.0461\n",
      "Epoch 39/50\n",
      "\u001B[1m3641/3641\u001B[0m \u001B[32m━━━━━━━━━━━━━━━━━━━━\u001B[0m\u001B[37m\u001B[0m \u001B[1m4s\u001B[0m 982us/step - accuracy: 0.3377 - loss: 2.0699 - val_accuracy: 0.3400 - val_loss: 2.0501\n",
      "Epoch 40/50\n",
      "\u001B[1m3641/3641\u001B[0m \u001B[32m━━━━━━━━━━━━━━━━━━━━\u001B[0m\u001B[37m\u001B[0m \u001B[1m4s\u001B[0m 1ms/step - accuracy: 0.3365 - loss: 2.0741 - val_accuracy: 0.3386 - val_loss: 2.0492\n",
      "Epoch 41/50\n",
      "\u001B[1m3641/3641\u001B[0m \u001B[32m━━━━━━━━━━━━━━━━━━━━\u001B[0m\u001B[37m\u001B[0m \u001B[1m4s\u001B[0m 978us/step - accuracy: 0.3381 - loss: 2.0702 - val_accuracy: 0.3407 - val_loss: 2.0490\n",
      "Epoch 42/50\n",
      "\u001B[1m3641/3641\u001B[0m \u001B[32m━━━━━━━━━━━━━━━━━━━━\u001B[0m\u001B[37m\u001B[0m \u001B[1m4s\u001B[0m 982us/step - accuracy: 0.3418 - loss: 2.0695 - val_accuracy: 0.3397 - val_loss: 2.0489\n",
      "Epoch 43/50\n",
      "\u001B[1m3641/3641\u001B[0m \u001B[32m━━━━━━━━━━━━━━━━━━━━\u001B[0m\u001B[37m\u001B[0m \u001B[1m4s\u001B[0m 980us/step - accuracy: 0.3379 - loss: 2.0682 - val_accuracy: 0.3395 - val_loss: 2.0498\n",
      "Epoch 44/50\n",
      "\u001B[1m3641/3641\u001B[0m \u001B[32m━━━━━━━━━━━━━━━━━━━━\u001B[0m\u001B[37m\u001B[0m \u001B[1m4s\u001B[0m 1ms/step - accuracy: 0.3385 - loss: 2.0694 - val_accuracy: 0.3414 - val_loss: 2.0456\n",
      "Epoch 45/50\n",
      "\u001B[1m3641/3641\u001B[0m \u001B[32m━━━━━━━━━━━━━━━━━━━━\u001B[0m\u001B[37m\u001B[0m \u001B[1m4s\u001B[0m 984us/step - accuracy: 0.3371 - loss: 2.0691 - val_accuracy: 0.3422 - val_loss: 2.0441\n",
      "Epoch 46/50\n",
      "\u001B[1m3641/3641\u001B[0m \u001B[32m━━━━━━━━━━━━━━━━━━━━\u001B[0m\u001B[37m\u001B[0m \u001B[1m4s\u001B[0m 1ms/step - accuracy: 0.3359 - loss: 2.0746 - val_accuracy: 0.3393 - val_loss: 2.0468\n",
      "Epoch 47/50\n",
      "\u001B[1m3641/3641\u001B[0m \u001B[32m━━━━━━━━━━━━━━━━━━━━\u001B[0m\u001B[37m\u001B[0m \u001B[1m4s\u001B[0m 974us/step - accuracy: 0.3379 - loss: 2.0660 - val_accuracy: 0.3403 - val_loss: 2.0477\n",
      "Epoch 48/50\n",
      "\u001B[1m3641/3641\u001B[0m \u001B[32m━━━━━━━━━━━━━━━━━━━━\u001B[0m\u001B[37m\u001B[0m \u001B[1m4s\u001B[0m 977us/step - accuracy: 0.3367 - loss: 2.0691 - val_accuracy: 0.3392 - val_loss: 2.0463\n",
      "Epoch 49/50\n",
      "\u001B[1m3641/3641\u001B[0m \u001B[32m━━━━━━━━━━━━━━━━━━━━\u001B[0m\u001B[37m\u001B[0m \u001B[1m4s\u001B[0m 975us/step - accuracy: 0.3397 - loss: 2.0677 - val_accuracy: 0.3406 - val_loss: 2.0458\n",
      "Epoch 50/50\n",
      "\u001B[1m3641/3641\u001B[0m \u001B[32m━━━━━━━━━━━━━━━━━━━━\u001B[0m\u001B[37m\u001B[0m \u001B[1m4s\u001B[0m 971us/step - accuracy: 0.3369 - loss: 2.0734 - val_accuracy: 0.3395 - val_loss: 2.0447\n",
      "\u001B[1m1138/1138\u001B[0m \u001B[32m━━━━━━━━━━━━━━━━━━━━\u001B[0m\u001B[37m\u001B[0m \u001B[1m1s\u001B[0m 443us/step\n",
      "Neural Network Test Accuracy: 0.3422\n",
      "Neural Network Multi-class Log Loss: 2.0522\n",
      "\n",
      "Neural Network Classification Report:\n",
      "              precision    recall  f1-score   support\n",
      "\n",
      "           0       0.35      0.53      0.42      3033\n",
      "           1       0.00      0.00      0.00      2372\n",
      "           2       0.35      0.84      0.49      8652\n",
      "           3       0.00      0.00      0.00      1073\n",
      "           4       0.18      0.09      0.12      3016\n",
      "           5       0.21      0.06      0.09      3565\n",
      "           6       0.00      0.00      0.00      1519\n",
      "           7       0.39      0.72      0.51      3752\n",
      "           8       0.00      0.00      0.00      1316\n",
      "           9       0.00      0.00      0.00       903\n",
      "          10       0.25      0.08      0.12      3589\n",
      "          11       0.00      0.00      0.00      1425\n",
      "          12       0.65      0.07      0.12      1318\n",
      "          13       0.00      0.00      0.00       323\n",
      "          14       0.00      0.00      0.00       226\n",
      "          15       0.00      0.00      0.00       320\n",
      "\n",
      "    accuracy                           0.34     36402\n",
      "   macro avg       0.15      0.15      0.12     36402\n",
      "weighted avg       0.24      0.34      0.24     36402\n",
      "\n"
     ]
    },
    {
     "data": {
      "image/png": "[encoded data removed]",
      "text/plain": [
       "<Figure size 1200x400 with 2 Axes>"
      ]
     },
     "metadata": {},
     "output_type": "display_data"
    }
   ],
   "source": [
    "# Define the number of classes\n",
    "num_classes = len(np.unique(train_labels))\n",
    "print(f\"Number of classes: {num_classes}\")\n",
    "\n",
    "# Convert labels to one-hot encoding for neural network\n",
    "train_labels_onehot = tf.keras.utils.to_categorical(train_labels, num_classes=num_classes)\n",
    "test_labels_onehot = tf.keras.utils.to_categorical(test_labels, num_classes=num_classes)\n",
    "\n",
    "# Build a simple neural network model\n",
    "print(\"Building Neural Network model...\")\n",
    "nn_model = Sequential([\n",
    "    Dense(64, activation='relu', input_shape=(train_features_scaled.shape[1],)),\n",
    "    Dropout(0.2),\n",
    "    Dense(32, activation='relu'),\n",
    "    Dropout(0.2),\n",
    "    Dense(num_classes, activation='softmax')\n",
    "])\n",
    "\n",
    "# Compile the model\n",
    "nn_model.compile(\n",
    "    optimizer=Adam(learning_rate=0.001),\n",
    "    loss='categorical_crossentropy',\n",
    "    metrics=['accuracy']\n",
    ")\n",
    "\n",
    "# Define early stopping to prevent overfitting\n",
    "early_stopping = EarlyStopping(\n",
    "    monitor='val_loss',\n",
    "    patience=10,\n",
    "    restore_best_weights=True\n",
    ")\n",
    "\n",
    "# Train the model\n",
    "print(\"Training Neural Network...\")\n",
    "history = nn_model.fit(\n",
    "    train_features_scaled,\n",
    "    train_labels_onehot,\n",
    "    epochs=50,\n",
    "    batch_size=32,\n",
    "    validation_split=0.2,\n",
    "    callbacks=[early_stopping],\n",
    "    verbose=1\n",
    ")\n",
    "\n",
    "# Evaluate the model\n",
    "nn_test_pred_proba = nn_model.predict(test_features_scaled)\n",
    "nn_test_pred = np.argmax(nn_test_pred_proba, axis=1)\n",
    "\n",
    "# Calculate accuracy\n",
    "nn_accuracy = accuracy_score(test_labels, nn_test_pred)\n",
    "print(f\"Neural Network Test Accuracy: {nn_accuracy:.4f}\")\n",
    "\n",
    "# Calculate multi-class log loss\n",
    "nn_loss = log_loss(test_labels, nn_test_pred_proba)\n",
    "print(f\"Neural Network Multi-class Log Loss: {nn_loss:.4f}\")\n",
    "\n",
    "# Print classification report\n",
    "print(\"\\nNeural Network Classification Report:\")\n",
    "print(classification_report(test_labels, nn_test_pred))\n",
    "\n",
    "# Plot training history\n",
    "plt.figure(figsize=(12, 4))\n",
    "plt.subplot(1, 2, 1)\n",
    "plt.plot(history.history['accuracy'])\n",
    "plt.plot(history.history['val_accuracy'])\n",
    "plt.title('Model Accuracy')\n",
    "plt.ylabel('Accuracy')\n",
    "plt.xlabel('Epoch')\n",
    "plt.legend(['Train', 'Validation'], loc='upper left')\n",
    "\n",
    "plt.subplot(1, 2, 2)\n",
    "plt.plot(history.history['loss'])\n",
    "plt.plot(history.history['val_loss'])\n",
    "plt.title('Model Loss')\n",
    "plt.ylabel('Loss')\n",
    "plt.xlabel('Epoch')\n",
    "plt.legend(['Train', 'Validation'], loc='upper left')\n",
    "plt.tight_layout()\n",
    "plt.show()\n"
   ]
  },
  {
   "cell_type": "markdown",
   "id": "86d31f6ab045877d",
   "metadata": {},
   "source": [
    "### Model Comparison\n"
   ]
  },
  {
   "cell_type": "code",
   "execution_count": null,
   "id": "509d230cb8745aee",
   "metadata": {},
   "outputs": [],
   "source": [
    "# Compare the performance of all models\n",
    "models = ['Random Forest', 'Logistic Regression', 'XGBoost', 'Neural Network']\n",
    "accuracies = [rf_accuracy, lr_accuracy, xgb_accuracy, nn_accuracy]\n",
    "losses = [rf_loss, lr_loss, xgb_loss, nn_loss]\n",
    "\n",
    "# Create a dataframe for comparison\n",
    "comparison_df = pd.DataFrame({\n",
    "    'Model': models,\n",
    "    'Accuracy': accuracies,\n",
    "    'Log Loss': losses\n",
    "})\n",
    "\n",
    "# Sort by accuracy\n",
    "comparison_df = comparison_df.sort_values('Accuracy', ascending=False)\n",
    "\n",
    "# Display the comparison\n",
    "print(\"Model Performance Comparison:\")\n",
    "print(comparison_df)\n",
    "\n",
    "# Plot the comparison\n",
    "plt.figure(figsize=(12, 5))\n",
    "\n",
    "plt.subplot(1, 2, 1)\n",
    "plt.bar(comparison_df['Model'], comparison_df['Accuracy'])\n",
    "plt.title('Model Accuracy Comparison')\n",
    "plt.ylabel('Accuracy')\n",
    "plt.xticks(rotation=45)\n",
    "plt.ylim(0, 1)\n",
    "\n",
    "plt.subplot(1, 2, 2)\n",
    "plt.bar(comparison_df['Model'], comparison_df['Log Loss'])\n",
    "plt.title('Model Log Loss Comparison')\n",
    "plt.ylabel('Log Loss')\n",
    "plt.xticks(rotation=45)\n",
    "\n",
    "plt.tight_layout()\n",
    "plt.show()\n",
    "\n",
    "# Interactive comparison plot with Plotly\n",
    "fig = go.Figure()\n",
    "fig.add_trace(go.Bar(x=comparison_df['Model'], y=comparison_df['Accuracy'], name='Accuracy'))\n",
    "fig.add_trace(go.Bar(x=comparison_df['Model'], y=comparison_df['Log Loss'], name='Log Loss', yaxis='y2'))\n",
    "\n",
    "fig.update_layout(\n",
    "    title='Model Performance Comparison',\n",
    "    yaxis=dict(title='Accuracy', side='left', range=[0, 1]),\n",
    "    yaxis2=dict(title='Log Loss', side='right', overlaying='y'),\n",
    "    barmode='group'\n",
    ")\n",
    "\n",
    "fig.show()\n"
   ]
  },
  {
   "cell_type": "markdown",
   "id": "9972795d521f3928",
   "metadata": {},
   "source": [
    "## Advanced Graph Embeddings\n",
    "\n",
    "In this section, we'll explore more advanced graph embedding techniques to extract richer features from the graph structure. We'll implement:\n",
    "\n",
    "1. Node2Vec: A flexible neighborhood sampling strategy that combines BFS and DFS approaches\n",
    "2. DeepWalk: Uses random walks to learn latent representations of nodes in a graph\n",
    "\n",
    "These embedding techniques can capture more complex structural information than traditional graph features.\n"
   ]
  },
  {
   "cell_type": "markdown",
   "id": "31de487f57b27459",
   "metadata": {},
   "source": [
    "### Node2Vec Embeddings\n"
   ]
  },
  {
   "cell_type": "markdown",
   "id": "40ab36c9921560f4",
   "metadata": {},
   "source": "### DeepWalk Embeddings (LOOK HERE!!!!)\n"
  },
  {
   "metadata": {},
   "cell_type": "code",
   "outputs": [
    {
     "name": "stdout",
     "output_type": "stream",
     "text": [
      "Generating Node2Vec embeddings...\n"
     ]
    },
    {
     "data": {
      "text/plain": [
       "Computing transition probabilities:   0%|          | 0/276453 [00:00<?, ?it/s]"
      ],
      "application/vnd.jupyter.widget-view+json": {
       "version_major": 2,
       "version_minor": 0,
       "model_id": "c7ed17a9db6f4927a5c5a1fedb3c0f65"
      }
     },
     "metadata": {},
     "output_type": "display_data"
    },
    {
     "name": "stderr",
     "output_type": "stream",
     "text": [
      "Generating walks (CPU: 1): 100%|██████████| 5/5 [00:41<00:00,  8.22s/it]\n"
     ]
    },
    {
     "name": "stdout",
     "output_type": "stream",
     "text": [
      "Training Node2Vec model...\n",
      "Node2Vec embeddings shape - Train: (145604, 64), Test: (36402, 64)\n",
      "Training XGBoost on Node2Vec embeddings...\n",
      "Node2Vec XGBoost Test Accuracy: 0.8809\n",
      "Node2Vec XGBoost Multi-class Log Loss: 0.4332\n",
      "\n",
      "Node2Vec XGBoost Classification Report:\n",
      "              precision    recall  f1-score   support\n",
      "\n",
      "           0       0.95      0.94      0.94      3033\n",
      "           1       0.81      0.78      0.79      2372\n",
      "           2       0.86      0.94      0.90      8652\n",
      "           3       0.88      0.93      0.90      1073\n",
      "           4       0.89      0.92      0.91      3016\n",
      "           5       0.94      0.95      0.94      3565\n",
      "           6       0.92      0.87      0.89      1519\n",
      "           7       0.85      0.81      0.83      3752\n",
      "           8       0.92      0.91      0.92      1316\n",
      "           9       0.91      0.89      0.90       903\n",
      "          10       0.84      0.79      0.81      3589\n",
      "          11       0.88      0.86      0.87      1425\n",
      "          12       0.90      0.74      0.81      1318\n",
      "          13       0.89      0.77      0.83       323\n",
      "          14       0.95      0.89      0.92       226\n",
      "          15       0.98      0.76      0.86       320\n",
      "\n",
      "    accuracy                           0.88     36402\n",
      "   macro avg       0.90      0.86      0.88     36402\n",
      "weighted avg       0.88      0.88      0.88     36402\n",
      "\n"
     ]
    }
   ],
   "execution_count": 6,
   "source": [
    "# Generate Node2Vec embeddings\n",
    "print(\"Generating Node2Vec embeddings...\")\n",
    "\n",
    "try:\n",
    "    # Convert NetworkX graph to node2vec format\n",
    "    # First, ensure all nodes are strings for compatibility\n",
    "    G_node2vec = nx.Graph()\n",
    "    for edge in G.edges():\n",
    "        G_node2vec.add_edge(str(edge[0]), str(edge[1]))\n",
    "\n",
    "    # Initialize node2vec model\n",
    "    node2vec_model = node2vec.Node2Vec(\n",
    "        G_node2vec,\n",
    "        dimensions=128,  # Embedding dimension\n",
    "        walk_length=10,  # Length of each random walk\n",
    "        num_walks=10,    # Number of random walks per node\n",
    "        workers=1        # Number of parallel workers\n",
    "    )\n",
    "\n",
    "    # Train the model\n",
    "    print(\"Training Node2Vec model...\")\n",
    "    n2v_model = node2vec_model.fit(\n",
    "        window=10,       # Context size for optimization\n",
    "        min_count=1,     # Minimum count of node occurrences\n",
    "        batch_words=4    # Number of words per batch\n",
    "    )\n",
    "\n",
    "    # Generate embeddings for train and test nodes\n",
    "    train_node2vec_features = np.zeros((len(train_product_ids), 64))\n",
    "    test_node2vec_features = np.zeros((len(test_product_ids), 64))\n",
    "\n",
    "    # Extract embeddings for training nodes\n",
    "    for i, node_id in enumerate(train_product_ids):\n",
    "        try:\n",
    "            train_node2vec_features[i] = n2v_model.wv[str(node_id)]\n",
    "        except KeyError:\n",
    "            # If node not in embeddings, use zeros\n",
    "            pass\n",
    "\n",
    "    # Extract embeddings for testing nodes\n",
    "    for i, node_id in enumerate(test_product_ids):\n",
    "        try:\n",
    "            test_node2vec_features[i] = n2v_model.wv[str(node_id)]\n",
    "        except KeyError:\n",
    "            # If node not in embeddings, use zeros\n",
    "            pass\n",
    "\n",
    "    print(f\"Node2Vec embeddings shape - Train: {train_node2vec_features.shape}, Test: {test_node2vec_features.shape}\")\n",
    "\n",
    "    # Scale the embeddings\n",
    "    n2v_scaler = StandardScaler()\n",
    "    train_node2vec_scaled = n2v_scaler.fit_transform(train_node2vec_features)\n",
    "    test_node2vec_scaled = n2v_scaler.transform(test_node2vec_features)\n",
    "\n",
    "    # Train a classifier on Node2Vec embeddings\n",
    "    print(\"Training XGBoost on Node2Vec embeddings...\")\n",
    "    n2v_xgb_model = xgb.XGBClassifier(\n",
    "        n_estimators=100,\n",
    "        learning_rate=0.1,\n",
    "        max_depth=5,\n",
    "        random_state=42,\n",
    "        n_jobs=-1\n",
    "    )\n",
    "    n2v_xgb_model.fit(train_node2vec_scaled, train_labels)\n",
    "\n",
    "    # Make predictions\n",
    "    n2v_xgb_test_pred = n2v_xgb_model.predict(test_node2vec_scaled)\n",
    "    n2v_xgb_test_pred_proba = n2v_xgb_model.predict_proba(test_node2vec_scaled)\n",
    "\n",
    "    # Calculate metrics\n",
    "    n2v_xgb_accuracy = accuracy_score(test_labels, n2v_xgb_test_pred)\n",
    "    n2v_xgb_loss = log_loss(test_labels, n2v_xgb_test_pred_proba)\n",
    "\n",
    "    print(f\"Node2Vec XGBoost Test Accuracy: {n2v_xgb_accuracy:.4f}\")\n",
    "    print(f\"Node2Vec XGBoost Multi-class Log Loss: {n2v_xgb_loss:.4f}\")\n",
    "    print(\"\\nNode2Vec XGBoost Classification Report:\")\n",
    "    print(classification_report(test_labels, n2v_xgb_test_pred))\n",
    "\n",
    "except Exception as e:\n",
    "    print(f\"Error generating Node2Vec embeddings: {e}\")\n",
    "    print(\"Skipping Node2Vec embeddings...\")\n"
   ],
   "id": "417577312416671a"
  },
  {
   "cell_type": "code",
   "execution_count": 10,
   "id": "68fb36f8105b344a",
   "metadata": {},
   "outputs": [
    {
     "name": "stdout",
     "output_type": "stream",
     "text": [
      "Generating DeepWalk embeddings...\n",
      "Training DeepWalk model...\n",
      "DeepWalk embeddings shape - Train: (145604, 64), Test: (36402, 64)\n",
      "Training Random Forest on DeepWalk embeddings...\n",
      "DeepWalk Random Forest Test Accuracy: 0.7042\n",
      "DeepWalk Random Forest Multi-class Log Loss: 1.4060\n",
      "\n",
      "DeepWalk Random Forest Classification Report:\n",
      "              precision    recall  f1-score   support\n",
      "\n",
      "           0       0.71      0.75      0.73      3033\n",
      "           1       0.88      0.52      0.66      2372\n",
      "           2       0.57      0.93      0.71      8652\n",
      "           3       0.91      0.63      0.74      1073\n",
      "           4       0.85      0.69      0.76      3016\n",
      "           5       0.85      0.83      0.84      3565\n",
      "           6       0.94      0.65      0.77      1519\n",
      "           7       0.56      0.68      0.61      3752\n",
      "           8       0.97      0.57      0.72      1316\n",
      "           9       0.96      0.48      0.64       903\n",
      "          10       0.82      0.61      0.70      3589\n",
      "          11       0.92      0.42      0.57      1425\n",
      "          12       0.93      0.51      0.66      1318\n",
      "          13       0.94      0.19      0.32       323\n",
      "          14       0.98      0.28      0.44       226\n",
      "          15       0.96      0.08      0.16       320\n",
      "\n",
      "    accuracy                           0.70     36402\n",
      "   macro avg       0.86      0.55      0.63     36402\n",
      "weighted avg       0.76      0.70      0.70     36402\n",
      "\n"
     ]
    }
   ],
   "source": [
    "# Generate DeepWalk embeddings\n",
    "print(\"Generating DeepWalk embeddings...\")\n",
    "\n",
    "try:\n",
    "    # Initialize DeepWalk model\n",
    "    deepwalk_model = DeepWalk(\n",
    "        walk_number=10,      # Number of random walks per node\n",
    "        walk_length=10,      # Length of each random walk\n",
    "        dimensions=128,       # Embedding dimension\n",
    "        workers=4            # Number of parallel workers\n",
    "    )\n",
    "\n",
    "    # Convert NetworkX graph to a format compatible with karateclub\n",
    "    # DeepWalk expects node IDs to be consecutive integers starting from 0\n",
    "    G_deepwalk = nx.Graph()\n",
    "    node_mapping = {node: i for i, node in enumerate(G.nodes())}\n",
    "    reverse_mapping = {i: node for node, i in node_mapping.items()}\n",
    "\n",
    "    for edge in G.edges():\n",
    "        G_deepwalk.add_edge(node_mapping[edge[0]], node_mapping[edge[1]])\n",
    "\n",
    "    # Fit the model\n",
    "    print(\"Training DeepWalk model...\")\n",
    "    deepwalk_model.fit(G_deepwalk)\n",
    "\n",
    "    # Get embeddings for all nodes\n",
    "    deepwalk_embeddings = deepwalk_model.get_embedding()\n",
    "\n",
    "    # Generate embeddings for train and test nodes\n",
    "    train_deepwalk_features = np.zeros((len(train_product_ids), 64))\n",
    "    test_deepwalk_features = np.zeros((len(test_product_ids), 64))\n",
    "\n",
    "    # Extract embeddings for training nodes\n",
    "    for i, node_id in enumerate(train_product_ids):\n",
    "        if node_id in node_mapping:\n",
    "            train_deepwalk_features[i] = deepwalk_embeddings[node_mapping[node_id]]\n",
    "\n",
    "    # Extract embeddings for testing nodes\n",
    "    for i, node_id in enumerate(test_product_ids):\n",
    "        if node_id in node_mapping:\n",
    "            test_deepwalk_features[i] = deepwalk_embeddings[node_mapping[node_id]]\n",
    "\n",
    "    print(f\"DeepWalk embeddings shape - Train: {train_deepwalk_features.shape}, Test: {test_deepwalk_features.shape}\")\n",
    "\n",
    "    # Scale the embeddings\n",
    "    dw_scaler = StandardScaler()\n",
    "    train_deepwalk_scaled = dw_scaler.fit_transform(train_deepwalk_features)\n",
    "    test_deepwalk_scaled = dw_scaler.transform(test_deepwalk_features)\n",
    "\n",
    "    # Train a classifier on DeepWalk embeddings\n",
    "    deepwalk_xgb_model = xgb.XGBClassifier(\n",
    "        n_estimators=100,\n",
    "        learning_rate=0.1,\n",
    "        max_depth=5,\n",
    "        random_state=42,\n",
    "        n_jobs=-1\n",
    "    )\n",
    "    deepwalk_xgb_model.fit(train_deepwalk_scaled, train_labels)\n",
    "\n",
    "    # Make predictions\n",
    "    deepwalk_xgb_test_pred = n2v_xgb_model.predict(test_deepwalk_scaled)\n",
    "    deepwalk_xgb_test_pred_proba = n2v_xgb_model.predict_proba(test_deepwalk_scaled)\n",
    "\n",
    "    # Calculate metrics\n",
    "    deepewalk_xgb_accuracy = accuracy_score(test_labels, deepwalk_xgb_test_pred)\n",
    "    deepewalk_xgb_loss = log_loss(test_labels, deepwalk_xgb_test_pred_proba)\n",
    "\n",
    "    print(f\"Deepwalk XGBoost Test Accuracy: {deepewalk_xgb_accuracy:.4f}\")\n",
    "    print(f\"Deepwalk XGBoost Multi-class Log Loss: {deepewalk_xgb_loss:.4f}\")\n",
    "    print(\"\\nDeepwalk XGBoost Classification Report:\")\n",
    "    print(classification_report(test_labels, deepwalk_xgb_test_pred))\n",
    "\n",
    "except Exception as e:\n",
    "    print(f\"Error generating DeepWalk embeddings: {e}\")\n",
    "    print(\"Skipping DeepWalk embeddings...\")\n"
   ]
  },
  {
   "cell_type": "markdown",
   "id": "ef270f6ce6ac6184",
   "metadata": {},
   "source": [
    "### Combined Features (Traditional + Embeddings)\n"
   ]
  },
  {
   "cell_type": "code",
   "execution_count": null,
   "id": "ec8c89c49f07a7f5",
   "metadata": {},
   "outputs": [
    {
     "name": "stdout",
     "output_type": "stream",
     "text": [
      "Combining traditional features with embeddings...\n",
      "Available embeddings: ['Node2Vec', 'DeepWalk']\n",
      "Combined features with Node2Vec shape - Train: (145604, 69), Test: (36402, 69)\n",
      "Training Random Forest on combined features with Node2Vec...\n",
      "Combined with Node2Vec Random Forest Test Accuracy: 0.9025\n",
      "Combined with Node2Vec Random Forest Multi-class Log Loss: 0.5452\n",
      "Combined features with DeepWalk shape - Train: (145604, 69), Test: (36402, 69)\n",
      "Training Random Forest on combined features with DeepWalk...\n"
     ]
    }
   ],
   "source": [
    "# Combine traditional graph features with embeddings for potentially better performance\n",
    "try:\n",
    "    print(\"Combining traditional features with embeddings...\")\n",
    "\n",
    "    # Check if both embedding methods were successful\n",
    "    embeddings_available = []\n",
    "    if 'train_node2vec_scaled' in locals():\n",
    "        embeddings_available.append('Node2Vec')\n",
    "    if 'train_deepwalk_scaled' in locals():\n",
    "        embeddings_available.append('DeepWalk')\n",
    "\n",
    "    print(f\"Available embeddings: {embeddings_available}\")\n",
    "\n",
    "    if embeddings_available:\n",
    "        # Combine with traditional features\n",
    "        if 'train_node2vec_scaled' in locals():\n",
    "            # Combine with Node2Vec\n",
    "            train_combined_n2v = np.hstack((train_features_scaled, train_node2vec_scaled))\n",
    "            test_combined_n2v = np.hstack((test_features_scaled, test_node2vec_scaled))\n",
    "\n",
    "            print(f\"Combined features with Node2Vec shape - Train: {train_combined_n2v.shape}, Test: {test_combined_n2v.shape}\")\n",
    "\n",
    "            # Train a classifier on combined features\n",
    "            print(\"Training XGBoost on combined features with Node2Vec...\")\n",
    "            combined_n2v_xgb_model = xgb.XGBClassifier(\n",
    "                n_estimators=100,\n",
    "                learning_rate=0.1,\n",
    "                max_depth=5,\n",
    "                random_state=42,\n",
    "                n_jobs=-1\n",
    "            )\n",
    "            combined_n2v_xgb_model.fit(train_combined_n2v, train_labels)\n",
    "\n",
    "            # Make predictions\n",
    "            combined_n2v_xgb_test_pred = combined_n2v_xgb_model.predict(test_combined_n2v)\n",
    "            combined_n2v_xgb_test_pred_proba = combined_n2v_xgb_model.predict_proba(test_combined_n2v)\n",
    "\n",
    "            # Calculate metrics\n",
    "            combined_n2v_xgb_accuracy = accuracy_score(test_labels, combined_n2v_xgb_test_pred)\n",
    "            combined_n2v_xgb_loss = log_loss(test_labels, combined_n2v_xgb_test_pred_proba)\n",
    "\n",
    "            print(f\"Combined with Node2Vec XGBoost Test Accuracy: {combined_n2v_xgb_accuracy:.4f}\")\n",
    "            print(f\"Combined with Node2Vec XGBoost Multi-class Log Loss: {combined_n2v_xgb_loss:.4f}\")\n",
    "\n",
    "        if 'train_deepwalk_scaled' in locals():\n",
    "            # Combine with DeepWalk\n",
    "            train_combined_dw = np.hstack((train_features_scaled, train_deepwalk_scaled))\n",
    "            test_combined_dw = np.hstack((test_features_scaled, test_deepwalk_scaled))\n",
    "\n",
    "            print(f\"Combined features with DeepWalk shape - Train: {train_combined_dw.shape}, Test: {test_combined_dw.shape}\")\n",
    "\n",
    "            # Train a classifier on combined features\n",
    "            print(\"Training Random Forest on combined features with DeepWalk...\")\n",
    "            combined_dw_rf_model = RandomForestClassifier(n_estimators=100, random_state=42, n_jobs=-1)\n",
    "            combined_dw_rf_model.fit(train_combined_dw, train_labels)\n",
    "\n",
    "            # Make predictions\n",
    "            combined_dw_rf_test_pred = combined_dw_rf_model.predict(test_combined_dw)\n",
    "            combined_dw_rf_test_pred_proba = combined_dw_rf_model.predict_proba(test_combined_dw)\n",
    "\n",
    "            # Calculate metrics\n",
    "            combined_dw_rf_accuracy = accuracy_score(test_labels, combined_dw_rf_test_pred)\n",
    "            combined_dw_rf_loss = log_loss(test_labels, combined_dw_rf_test_pred_proba)\n",
    "\n",
    "            print(f\"Combined with DeepWalk Random Forest Test Accuracy: {combined_dw_rf_accuracy:.4f}\")\n",
    "            print(f\"Combined with DeepWalk Random Forest Multi-class Log Loss: {combined_dw_rf_loss:.4f}\")\n",
    "\n",
    "        # If both embeddings are available, combine all features\n",
    "        if 'train_node2vec_scaled' in locals() and 'train_deepwalk_scaled' in locals():\n",
    "            train_combined_all = np.hstack((train_features_scaled, train_node2vec_scaled, train_deepwalk_scaled))\n",
    "            test_combined_all = np.hstack((test_features_scaled, test_node2vec_scaled, test_deepwalk_scaled))\n",
    "\n",
    "            print(f\"Combined all features shape - Train: {train_combined_all.shape}, Test: {test_combined_all.shape}\")\n",
    "\n",
    "            # Train a classifier on all combined features\n",
    "            print(\"Training Random Forest on all combined features...\")\n",
    "            combined_all_rf_model = RandomForestClassifier(n_estimators=100, random_state=42, n_jobs=-1)\n",
    "            combined_all_rf_model.fit(train_combined_all, train_labels)\n",
    "\n",
    "            # Make predictions\n",
    "            combined_all_rf_test_pred = combined_all_rf_model.predict(test_combined_all)\n",
    "            combined_all_rf_test_pred_proba = combined_all_rf_model.predict_proba(test_combined_all)\n",
    "\n",
    "            # Calculate metrics\n",
    "            combined_all_rf_accuracy = accuracy_score(test_labels, combined_all_rf_test_pred)\n",
    "            combined_all_rf_loss = log_loss(test_labels, combined_all_rf_test_pred_proba)\n",
    "\n",
    "            print(f\"Combined All Features Random Forest Test Accuracy: {combined_all_rf_accuracy:.4f}\")\n",
    "            print(f\"Combined All Features Random Forest Multi-class Log Loss: {combined_all_rf_loss:.4f}\")\n",
    "    else:\n",
    "        print(\"No embeddings available for combination.\")\n",
    "\n",
    "except Exception as e:\n",
    "    print(f\"Error combining features: {e}\")\n",
    "    print(\"Skipping combined features analysis...\")\n"
   ]
  },
  {
   "cell_type": "markdown",
   "id": "17cd3ea571f1fef0",
   "metadata": {},
   "source": [
    "### Final Model Comparison\n"
   ]
  },
  {
   "cell_type": "code",
   "execution_count": null,
   "id": "3a8e73291d94f455",
   "metadata": {},
   "outputs": [],
   "source": [
    "# Create a comprehensive comparison of all models\n",
    "try:\n",
    "    print(\"Creating final model comparison...\")\n",
    "\n",
    "    # Start with the basic models\n",
    "    all_models = ['Random Forest', 'Logistic Regression', 'XGBoost', 'Neural Network']\n",
    "    all_accuracies = [rf_accuracy, lr_accuracy, xgb_accuracy, nn_accuracy]\n",
    "    all_losses = [rf_loss, lr_loss, xgb_loss, nn_loss]\n",
    "\n",
    "    # Add embedding-based models if available\n",
    "    if 'n2v_xgb_accuracy' in locals():\n",
    "        all_models.append('Node2Vec XGBoost')\n",
    "        all_accuracies.append(n2v_xgb_accuracy)\n",
    "        all_losses.append(n2v_xgb_loss)\n",
    "\n",
    "    if 'dw_rf_accuracy' in locals():\n",
    "        all_models.append('DeepWalk RF')\n",
    "        all_accuracies.append(dw_rf_accuracy)\n",
    "        all_losses.append(dw_rf_loss)\n",
    "\n",
    "    if 'combined_n2v_xgb_accuracy' in locals():\n",
    "        all_models.append('Combined Node2Vec XGBoost')\n",
    "        all_accuracies.append(combined_n2v_xgb_accuracy)\n",
    "        all_losses.append(combined_n2v_xgb_loss)\n",
    "\n",
    "    if 'combined_dw_rf_accuracy' in locals():\n",
    "        all_models.append('Combined DeepWalk RF')\n",
    "        all_accuracies.append(combined_dw_rf_accuracy)\n",
    "        all_losses.append(combined_dw_rf_loss)\n",
    "\n",
    "    if 'combined_all_rf_accuracy' in locals():\n",
    "        all_models.append('Combined All RF')\n",
    "        all_accuracies.append(combined_all_rf_accuracy)\n",
    "        all_losses.append(combined_all_rf_loss)\n",
    "\n",
    "    # Create a dataframe for comparison\n",
    "    final_comparison_df = pd.DataFrame({\n",
    "        'Model': all_models,\n",
    "        'Accuracy': all_accuracies,\n",
    "        'Log Loss': all_losses\n",
    "    })\n",
    "\n",
    "    # Sort by accuracy\n",
    "    final_comparison_df = final_comparison_df.sort_values('Accuracy', ascending=False)\n",
    "\n",
    "    # Display the comparison\n",
    "    print(\"Final Model Performance Comparison:\")\n",
    "    print(final_comparison_df)\n",
    "\n",
    "    # Plot the comparison\n",
    "    plt.figure(figsize=(14, 6))\n",
    "\n",
    "    plt.subplot(1, 2, 1)\n",
    "    plt.bar(final_comparison_df['Model'], final_comparison_df['Accuracy'])\n",
    "    plt.title('Model Accuracy Comparison')\n",
    "    plt.ylabel('Accuracy')\n",
    "    plt.xticks(rotation=45)\n",
    "    plt.ylim(0, 1)\n",
    "\n",
    "    plt.subplot(1, 2, 2)\n",
    "    plt.bar(final_comparison_df['Model'], final_comparison_df['Log Loss'])\n",
    "    plt.title('Model Log Loss Comparison')\n",
    "    plt.ylabel('Log Loss')\n",
    "    plt.xticks(rotation=45)\n",
    "\n",
    "    plt.tight_layout()\n",
    "    plt.show()\n",
    "\n",
    "    # Interactive comparison plot with Plotly\n",
    "    fig = go.Figure()\n",
    "    fig.add_trace(go.Bar(x=final_comparison_df['Model'], y=final_comparison_df['Accuracy'], name='Accuracy'))\n",
    "    fig.add_trace(go.Bar(x=final_comparison_df['Model'], y=final_comparison_df['Log Loss'], name='Log Loss', yaxis='y2'))\n",
    "\n",
    "    fig.update_layout(\n",
    "        title='Final Model Performance Comparison',\n",
    "        yaxis=dict(title='Accuracy', side='left', range=[0, 1]),\n",
    "        yaxis2=dict(title='Log Loss', side='right', overlaying='y'),\n",
    "        barmode='group',\n",
    "        height=600\n",
    "    )\n",
    "\n",
    "    fig.show()\n",
    "\n",
    "except Exception as e:\n",
    "    print(f\"Error creating final model comparison: {e}\")\n"
   ]
  },
  {
   "cell_type": "markdown",
   "id": "c0f07f6a355ab175",
   "metadata": {},
   "source": [
    "## Feature Importance Analysis\n"
   ]
  },
  {
   "cell_type": "code",
   "execution_count": null,
   "id": "e506a312eb1bbad8",
   "metadata": {},
   "outputs": [],
   "source": [
    "# Get feature importance from the Random Forest model\n",
    "feature_importance = pd.DataFrame({\n",
    "    'Feature': train_features.columns,\n",
    "    'Importance': rf_model.feature_importances_\n",
    "})\n",
    "feature_importance = feature_importance.sort_values('Importance', ascending=False)\n",
    "\n",
    "# Plot feature importance\n",
    "plt.figure(figsize=(10, 6))\n",
    "plt.barh(feature_importance['Feature'], feature_importance['Importance'])\n",
    "plt.xlabel('Importance')\n",
    "plt.ylabel('Feature')\n",
    "plt.title('Feature Importance')\n",
    "plt.tight_layout()\n",
    "plt.savefig('figures/feature_importance.png', dpi=300, bbox_inches='tight')\n",
    "plt.show()\n",
    "\n",
    "# Interactive feature importance plot with Plotly\n",
    "fig = px.bar(feature_importance, x='Importance', y='Feature', orientation='h',\n",
    "             title='Feature Importance')\n",
    "fig.update_layout(yaxis={'categoryorder':'total ascending'})\n",
    "fig.show()\n"
   ]
  },
  {
   "cell_type": "markdown",
   "id": "770f16dffa1b9b66",
   "metadata": {},
   "source": [
    "## Confusion Matrix Visualization\n"
   ]
  },
  {
   "cell_type": "code",
   "execution_count": null,
   "id": "e55ff75649f382f5",
   "metadata": {},
   "outputs": [],
   "source": [
    "from sklearn.metrics import confusion_matrix\n",
    "import seaborn as sns\n",
    "\n",
    "# Calculate confusion matrix\n",
    "cm = confusion_matrix(test_labels, test_pred)\n",
    "\n",
    "# Plot confusion matrix\n",
    "plt.figure(figsize=(12, 10))\n",
    "sns.heatmap(cm, annot=True, fmt='d', cmap='Blues')\n",
    "plt.xlabel('Predicted')\n",
    "plt.ylabel('True')\n",
    "plt.title('Confusion Matrix')\n",
    "plt.tight_layout()\n",
    "plt.savefig('figures/confusion_matrix.png', dpi=300, bbox_inches='tight')\n",
    "plt.show()\n"
   ]
  },
  {
   "cell_type": "markdown",
   "id": "4ec7c802ee6a8459",
   "metadata": {},
   "source": [
    "## Performance per Class\n"
   ]
  },
  {
   "cell_type": "code",
   "execution_count": 18,
   "id": "d4b83d77fd12a01b",
   "metadata": {
    "ExecuteTime": {
     "end_time": "2025-05-05T13:51:07.374682Z",
     "start_time": "2025-05-05T13:51:07.314095Z"
    }
   },
   "outputs": [
    {
     "data": {
      "application/vnd.plotly.v1+json": {
       "config": {
        "plotlyServerURL": "https://plot.ly"
       },
       "data": [
        {
         "alignmentgroup": "True",
         "customdata": [
          [
           3033
          ],
          [
           2372
          ],
          [
           8652
          ],
          [
           1073
          ],
          [
           3016
          ],
          [
           3565
          ],
          [
           1519
          ],
          [
           3752
          ],
          [
           1316
          ],
          [
           903
          ],
          [
           3589
          ],
          [
           1425
          ],
          [
           1318
          ],
          [
           323
          ],
          [
           226
          ],
          [
           320
          ]
         ],
         "hovertemplate": "Metric=Precision<br>Class=%{x}<br>Score=%{y}<br>Support=%{customdata[0]}<extra></extra>",
         "legendgroup": "Precision",
         "marker": {
          "color": "#636efa",
          "pattern": {
           "shape": ""
          }
         },
         "name": "Precision",
         "offsetgroup": "Precision",
         "orientation": "v",
         "showlegend": true,
         "textposition": "auto",
         "type": "bar",
         "x": [
          0,
          1,
          2,
          3,
          4,
          5,
          6,
          7,
          8,
          9,
          10,
          11,
          12,
          13,
          14,
          15
         ],
         "xaxis": "x",
         "y": [
          0.7162450472416946,
          0.23268870867124142,
          0.4722540802823114,
          0.28245363766048504,
          0.29739776951672864,
          0.6414904330312186,
          0.15609756097560976,
          0.5192850423330198,
          0.4276729559748428,
          0.2549728752260398,
          0.2613156306578153,
          0.3460648148148148,
          0.38881491344873503,
          0.3872832369942196,
          0.15053763440860216,
          0.3118279569892473
         ],
         "yaxis": "y"
        },
        {
         "alignmentgroup": "True",
         "customdata": [
          [
           3033
          ],
          [
           2372
          ],
          [
           8652
          ],
          [
           1073
          ],
          [
           3016
          ],
          [
           3565
          ],
          [
           1519
          ],
          [
           3752
          ],
          [
           1316
          ],
          [
           903
          ],
          [
           3589
          ],
          [
           1425
          ],
          [
           1318
          ],
          [
           323
          ],
          [
           226
          ],
          [
           320
          ]
         ],
         "hovertemplate": "Metric=Recall<br>Class=%{x}<br>Score=%{y}<br>Support=%{customdata[0]}<extra></extra>",
         "legendgroup": "Recall",
         "marker": {
          "color": "#EF553B",
          "pattern": {
           "shape": ""
          }
         },
         "name": "Recall",
         "offsetgroup": "Recall",
         "orientation": "v",
         "showlegend": true,
         "textposition": "auto",
         "type": "bar",
         "x": [
          0,
          1,
          2,
          3,
          4,
          5,
          6,
          7,
          8,
          9,
          10,
          11,
          12,
          13,
          14,
          15
         ],
         "xaxis": "x",
         "y": [
          0.7748104187273327,
          0.1572512647554806,
          0.6187008784096163,
          0.18452935694315004,
          0.23872679045092837,
          0.714726507713885,
          0.08426596445029624,
          0.7356076759061834,
          0.3617021276595745,
          0.15614617940199335,
          0.24129283923098357,
          0.20982456140350877,
          0.22154779969650987,
          0.20743034055727555,
          0.061946902654867256,
          0.090625
         ],
         "yaxis": "y"
        },
        {
         "alignmentgroup": "True",
         "customdata": [
          [
           3033
          ],
          [
           2372
          ],
          [
           8652
          ],
          [
           1073
          ],
          [
           3016
          ],
          [
           3565
          ],
          [
           1519
          ],
          [
           3752
          ],
          [
           1316
          ],
          [
           903
          ],
          [
           3589
          ],
          [
           1425
          ],
          [
           1318
          ],
          [
           323
          ],
          [
           226
          ],
          [
           320
          ]
         ],
         "hovertemplate": "Metric=F1-Score<br>Class=%{x}<br>Score=%{y}<br>Support=%{customdata[0]}<extra></extra>",
         "legendgroup": "F1-Score",
         "marker": {
          "color": "#00cc96",
          "pattern": {
           "shape": ""
          }
         },
         "name": "F1-Score",
         "offsetgroup": "F1-Score",
         "orientation": "v",
         "showlegend": true,
         "textposition": "auto",
         "type": "bar",
         "x": [
          0,
          1,
          2,
          3,
          4,
          5,
          6,
          7,
          8,
          9,
          10,
          11,
          12,
          13,
          14,
          15
         ],
         "xaxis": "x",
         "y": [
          0.7443775736458663,
          0.18767295597484276,
          0.5356481713113523,
          0.22322435174746336,
          0.2648519404083134,
          0.6761310866392464,
          0.10944848225737494,
          0.6088011470166538,
          0.3919308357348703,
          0.1936813186813187,
          0.25090540344777634,
          0.26124945391000437,
          0.28226196230062833,
          0.2701612903225806,
          0.0877742946708464,
          0.14043583535108958
         ],
         "yaxis": "y"
        }
       ],
       "layout": {
        "autosize": true,
        "barmode": "group",
        "legend": {
         "title": {
          "text": "Metric"
         },
         "tracegroupgap": 0
        },
        "template": {
         "data": {
          "bar": [
           {
            "error_x": {
             "color": "#f2f5fa"
            },
            "error_y": {
             "color": "#f2f5fa"
            },
            "marker": {
             "line": {
              "color": "rgb(17,17,17)",
              "width": 0.5
             },
             "pattern": {
              "fillmode": "overlay",
              "size": 10,
              "solidity": 0.2
             }
            },
            "type": "bar"
           }
          ],
          "barpolar": [
           {
            "marker": {
             "line": {
              "color": "rgb(17,17,17)",
              "width": 0.5
             },
             "pattern": {
              "fillmode": "overlay",
              "size": 10,
              "solidity": 0.2
             }
            },
            "type": "barpolar"
           }
          ],
          "carpet": [
           {
            "aaxis": {
             "endlinecolor": "#A2B1C6",
             "gridcolor": "#506784",
             "linecolor": "#506784",
             "minorgridcolor": "#506784",
             "startlinecolor": "#A2B1C6"
            },
            "baxis": {
             "endlinecolor": "#A2B1C6",
             "gridcolor": "#506784",
             "linecolor": "#506784",
             "minorgridcolor": "#506784",
             "startlinecolor": "#A2B1C6"
            },
            "type": "carpet"
           }
          ],
          "choropleth": [
           {
            "colorbar": {
             "outlinewidth": 0,
             "ticks": ""
            },
            "type": "choropleth"
           }
          ],
          "contour": [
           {
            "colorbar": {
             "outlinewidth": 0,
             "ticks": ""
            },
            "colorscale": [
             [
              0,
              "#0d0887"
             ],
             [
              0.1111111111111111,
              "#46039f"
             ],
             [
              0.2222222222222222,
              "#7201a8"
             ],
             [
              0.3333333333333333,
              "#9c179e"
             ],
             [
              0.4444444444444444,
              "#bd3786"
             ],
             [
              0.5555555555555556,
              "#d8576b"
             ],
             [
              0.6666666666666666,
              "#ed7953"
             ],
             [
              0.7777777777777778,
              "#fb9f3a"
             ],
             [
              0.8888888888888888,
              "#fdca26"
             ],
             [
              1,
              "#f0f921"
             ]
            ],
            "type": "contour"
           }
          ],
          "contourcarpet": [
           {
            "colorbar": {
             "outlinewidth": 0,
             "ticks": ""
            },
            "type": "contourcarpet"
           }
          ],
          "heatmap": [
           {
            "colorbar": {
             "outlinewidth": 0,
             "ticks": ""
            },
            "colorscale": [
             [
              0,
              "#0d0887"
             ],
             [
              0.1111111111111111,
              "#46039f"
             ],
             [
              0.2222222222222222,
              "#7201a8"
             ],
             [
              0.3333333333333333,
              "#9c179e"
             ],
             [
              0.4444444444444444,
              "#bd3786"
             ],
             [
              0.5555555555555556,
              "#d8576b"
             ],
             [
              0.6666666666666666,
              "#ed7953"
             ],
             [
              0.7777777777777778,
              "#fb9f3a"
             ],
             [
              0.8888888888888888,
              "#fdca26"
             ],
             [
              1,
              "#f0f921"
             ]
            ],
            "type": "heatmap"
           }
          ],
          "heatmapgl": [
           {
            "colorbar": {
             "outlinewidth": 0,
             "ticks": ""
            },
            "colorscale": [
             [
              0,
              "#0d0887"
             ],
             [
              0.1111111111111111,
              "#46039f"
             ],
             [
              0.2222222222222222,
              "#7201a8"
             ],
             [
              0.3333333333333333,
              "#9c179e"
             ],
             [
              0.4444444444444444,
              "#bd3786"
             ],
             [
              0.5555555555555556,
              "#d8576b"
             ],
             [
              0.6666666666666666,
              "#ed7953"
             ],
             [
              0.7777777777777778,
              "#fb9f3a"
             ],
             [
              0.8888888888888888,
              "#fdca26"
             ],
             [
              1,
              "#f0f921"
             ]
            ],
            "type": "heatmapgl"
           }
          ],
          "histogram": [
           {
            "marker": {
             "pattern": {
              "fillmode": "overlay",
              "size": 10,
              "solidity": 0.2
             }
            },
            "type": "histogram"
           }
          ],
          "histogram2d": [
           {
            "colorbar": {
             "outlinewidth": 0,
             "ticks": ""
            },
            "colorscale": [
             [
              0,
              "#0d0887"
             ],
             [
              0.1111111111111111,
              "#46039f"
             ],
             [
              0.2222222222222222,
              "#7201a8"
             ],
             [
              0.3333333333333333,
              "#9c179e"
             ],
             [
              0.4444444444444444,
              "#bd3786"
             ],
             [
              0.5555555555555556,
              "#d8576b"
             ],
             [
              0.6666666666666666,
              "#ed7953"
             ],
             [
              0.7777777777777778,
              "#fb9f3a"
             ],
             [
              0.8888888888888888,
              "#fdca26"
             ],
             [
              1,
              "#f0f921"
             ]
            ],
            "type": "histogram2d"
           }
          ],
          "histogram2dcontour": [
           {
            "colorbar": {
             "outlinewidth": 0,
             "ticks": ""
            },
            "colorscale": [
             [
              0,
              "#0d0887"
             ],
             [
              0.1111111111111111,
              "#46039f"
             ],
             [
              0.2222222222222222,
              "#7201a8"
             ],
             [
              0.3333333333333333,
              "#9c179e"
             ],
             [
              0.4444444444444444,
              "#bd3786"
             ],
             [
              0.5555555555555556,
              "#d8576b"
             ],
             [
              0.6666666666666666,
              "#ed7953"
             ],
             [
              0.7777777777777778,
              "#fb9f3a"
             ],
             [
              0.8888888888888888,
              "#fdca26"
             ],
             [
              1,
              "#f0f921"
             ]
            ],
            "type": "histogram2dcontour"
           }
          ],
          "mesh3d": [
           {
            "colorbar": {
             "outlinewidth": 0,
             "ticks": ""
            },
            "type": "mesh3d"
           }
          ],
          "parcoords": [
           {
            "line": {
             "colorbar": {
              "outlinewidth": 0,
              "ticks": ""
             }
            },
            "type": "parcoords"
           }
          ],
          "pie": [
           {
            "automargin": true,
            "type": "pie"
           }
          ],
          "scatter": [
           {
            "marker": {
             "line": {
              "color": "#283442"
             }
            },
            "type": "scatter"
           }
          ],
          "scatter3d": [
           {
            "line": {
             "colorbar": {
              "outlinewidth": 0,
              "ticks": ""
             }
            },
            "marker": {
             "colorbar": {
              "outlinewidth": 0,
              "ticks": ""
             }
            },
            "type": "scatter3d"
           }
          ],
          "scattercarpet": [
           {
            "marker": {
             "colorbar": {
              "outlinewidth": 0,
              "ticks": ""
             }
            },
            "type": "scattercarpet"
           }
          ],
          "scattergeo": [
           {
            "marker": {
             "colorbar": {
              "outlinewidth": 0,
              "ticks": ""
             }
            },
            "type": "scattergeo"
           }
          ],
          "scattergl": [
           {
            "marker": {
             "line": {
              "color": "#283442"
             }
            },
            "type": "scattergl"
           }
          ],
          "scattermapbox": [
           {
            "marker": {
             "colorbar": {
              "outlinewidth": 0,
              "ticks": ""
             }
            },
            "type": "scattermapbox"
           }
          ],
          "scatterpolar": [
           {
            "marker": {
             "colorbar": {
              "outlinewidth": 0,
              "ticks": ""
             }
            },
            "type": "scatterpolar"
           }
          ],
          "scatterpolargl": [
           {
            "marker": {
             "colorbar": {
              "outlinewidth": 0,
              "ticks": ""
             }
            },
            "type": "scatterpolargl"
           }
          ],
          "scatterternary": [
           {
            "marker": {
             "colorbar": {
              "outlinewidth": 0,
              "ticks": ""
             }
            },
            "type": "scatterternary"
           }
          ],
          "surface": [
           {
            "colorbar": {
             "outlinewidth": 0,
             "ticks": ""
            },
            "colorscale": [
             [
              0,
              "#0d0887"
             ],
             [
              0.1111111111111111,
              "#46039f"
             ],
             [
              0.2222222222222222,
              "#7201a8"
             ],
             [
              0.3333333333333333,
              "#9c179e"
             ],
             [
              0.4444444444444444,
              "#bd3786"
             ],
             [
              0.5555555555555556,
              "#d8576b"
             ],
             [
              0.6666666666666666,
              "#ed7953"
             ],
             [
              0.7777777777777778,
              "#fb9f3a"
             ],
             [
              0.8888888888888888,
              "#fdca26"
             ],
             [
              1,
              "#f0f921"
             ]
            ],
            "type": "surface"
           }
          ],
          "table": [
           {
            "cells": {
             "fill": {
              "color": "#506784"
             },
             "line": {
              "color": "rgb(17,17,17)"
             }
            },
            "header": {
             "fill": {
              "color": "#2a3f5f"
             },
             "line": {
              "color": "rgb(17,17,17)"
             }
            },
            "type": "table"
           }
          ]
         },
         "layout": {
          "annotationdefaults": {
           "arrowcolor": "#f2f5fa",
           "arrowhead": 0,
           "arrowwidth": 1
          },
          "autotypenumbers": "strict",
          "coloraxis": {
           "colorbar": {
            "outlinewidth": 0,
            "ticks": ""
           }
          },
          "colorscale": {
           "diverging": [
            [
             0,
             "#8e0152"
            ],
            [
             0.1,
             "#c51b7d"
            ],
            [
             0.2,
             "#de77ae"
            ],
            [
             0.3,
             "#f1b6da"
            ],
            [
             0.4,
             "#fde0ef"
            ],
            [
             0.5,
             "#f7f7f7"
            ],
            [
             0.6,
             "#e6f5d0"
            ],
            [
             0.7,
             "#b8e186"
            ],
            [
             0.8,
             "#7fbc41"
            ],
            [
             0.9,
             "#4d9221"
            ],
            [
             1,
             "#276419"
            ]
           ],
           "sequential": [
            [
             0,
             "#0d0887"
            ],
            [
             0.1111111111111111,
             "#46039f"
            ],
            [
             0.2222222222222222,
             "#7201a8"
            ],
            [
             0.3333333333333333,
             "#9c179e"
            ],
            [
             0.4444444444444444,
             "#bd3786"
            ],
            [
             0.5555555555555556,
             "#d8576b"
            ],
            [
             0.6666666666666666,
             "#ed7953"
            ],
            [
             0.7777777777777778,
             "#fb9f3a"
            ],
            [
             0.8888888888888888,
             "#fdca26"
            ],
            [
             1,
             "#f0f921"
            ]
           ],
           "sequentialminus": [
            [
             0,
             "#0d0887"
            ],
            [
             0.1111111111111111,
             "#46039f"
            ],
            [
             0.2222222222222222,
             "#7201a8"
            ],
            [
             0.3333333333333333,
             "#9c179e"
            ],
            [
             0.4444444444444444,
             "#bd3786"
            ],
            [
             0.5555555555555556,
             "#d8576b"
            ],
            [
             0.6666666666666666,
             "#ed7953"
            ],
            [
             0.7777777777777778,
             "#fb9f3a"
            ],
            [
             0.8888888888888888,
             "#fdca26"
            ],
            [
             1,
             "#f0f921"
            ]
           ]
          },
          "colorway": [
           "#636efa",
           "#EF553B",
           "#00cc96",
           "#ab63fa",
           "#FFA15A",
           "#19d3f3",
           "#FF6692",
           "#B6E880",
           "#FF97FF",
           "#FECB52"
          ],
          "font": {
           "color": "#f2f5fa"
          },
          "geo": {
           "bgcolor": "rgb(17,17,17)",
           "lakecolor": "rgb(17,17,17)",
           "landcolor": "rgb(17,17,17)",
           "showlakes": true,
           "showland": true,
           "subunitcolor": "#506784"
          },
          "hoverlabel": {
           "align": "left"
          },
          "hovermode": "closest",
          "mapbox": {
           "style": "dark"
          },
          "paper_bgcolor": "rgb(17,17,17)",
          "plot_bgcolor": "rgb(17,17,17)",
          "polar": {
           "angularaxis": {
            "gridcolor": "#506784",
            "linecolor": "#506784",
            "ticks": ""
           },
           "bgcolor": "rgb(17,17,17)",
           "radialaxis": {
            "gridcolor": "#506784",
            "linecolor": "#506784",
            "ticks": ""
           }
          },
          "scene": {
           "xaxis": {
            "backgroundcolor": "rgb(17,17,17)",
            "gridcolor": "#506784",
            "gridwidth": 2,
            "linecolor": "#506784",
            "showbackground": true,
            "ticks": "",
            "zerolinecolor": "#C8D4E3"
           },
           "yaxis": {
            "backgroundcolor": "rgb(17,17,17)",
            "gridcolor": "#506784",
            "gridwidth": 2,
            "linecolor": "#506784",
            "showbackground": true,
            "ticks": "",
            "zerolinecolor": "#C8D4E3"
           },
           "zaxis": {
            "backgroundcolor": "rgb(17,17,17)",
            "gridcolor": "#506784",
            "gridwidth": 2,
            "linecolor": "#506784",
            "showbackground": true,
            "ticks": "",
            "zerolinecolor": "#C8D4E3"
           }
          },
          "shapedefaults": {
           "line": {
            "color": "#f2f5fa"
           }
          },
          "sliderdefaults": {
           "bgcolor": "#C8D4E3",
           "bordercolor": "rgb(17,17,17)",
           "borderwidth": 1,
           "tickwidth": 0
          },
          "ternary": {
           "aaxis": {
            "gridcolor": "#506784",
            "linecolor": "#506784",
            "ticks": ""
           },
           "baxis": {
            "gridcolor": "#506784",
            "linecolor": "#506784",
            "ticks": ""
           },
           "bgcolor": "rgb(17,17,17)",
           "caxis": {
            "gridcolor": "#506784",
            "linecolor": "#506784",
            "ticks": ""
           }
          },
          "title": {
           "x": 0.05
          },
          "updatemenudefaults": {
           "bgcolor": "#506784",
           "borderwidth": 0
          },
          "xaxis": {
           "automargin": true,
           "gridcolor": "#283442",
           "linecolor": "#506784",
           "ticks": "",
           "title": {
            "standoff": 15
           },
           "zerolinecolor": "#283442",
           "zerolinewidth": 2
          },
          "yaxis": {
           "automargin": true,
           "gridcolor": "#283442",
           "linecolor": "#506784",
           "ticks": "",
           "title": {
            "standoff": 15
           },
           "zerolinecolor": "#283442",
           "zerolinewidth": 2
          }
         }
        },
        "title": {
         "text": "Performance Metrics per Class"
        },
        "xaxis": {
         "anchor": "y",
         "autorange": true,
         "domain": [
          0,
          1
         ],
         "range": [
          -0.5,
          15.5
         ],
         "title": {
          "text": "Class"
         },
         "type": "linear"
        },
        "yaxis": {
         "anchor": "x",
         "autorange": true,
         "domain": [
          0,
          1
         ],
         "range": [
          0,
          0.8155899144498239
         ],
         "title": {
          "text": "Score"
         },
         "type": "linear"
        }
       }
      },
      "image/png": "[encoded data removed]",
      "text/html": [
       "<div>                            <div id=\"7c8648b4-31dc-4d1d-bd4a-1c6cadb77360\" class=\"plotly-graph-div\" style=\"height:525px; width:100%;\"></div>            <script type=\"text/javascript\">                require([\"plotly\"], function(Plotly) {                    window.PLOTLYENV=window.PLOTLYENV || {};                                    if (document.getElementById(\"7c8648b4-31dc-4d1d-bd4a-1c6cadb77360\")) {                    Plotly.newPlot(                        \"7c8648b4-31dc-4d1d-bd4a-1c6cadb77360\",                        [{\"alignmentgroup\":\"True\",\"customdata\":[[3033],[2372],[8652],[1073],[3016],[3565],[1519],[3752],[1316],[903],[3589],[1425],[1318],[323],[226],[320]],\"hovertemplate\":\"Metric=Precision\\u003cbr\\u003eClass=%{x}\\u003cbr\\u003eScore=%{y}\\u003cbr\\u003eSupport=%{customdata[0]}\\u003cextra\\u003e\\u003c\\u002fextra\\u003e\",\"legendgroup\":\"Precision\",\"marker\":{\"color\":\"#636efa\",\"pattern\":{\"shape\":\"\"}},\"name\":\"Precision\",\"offsetgroup\":\"Precision\",\"orientation\":\"v\",\"showlegend\":true,\"textposition\":\"auto\",\"x\":[0,1,2,3,4,5,6,7,8,9,10,11,12,13,14,15],\"xaxis\":\"x\",\"y\":[0.7162450472416946,0.23268870867124142,0.4722540802823114,0.28245363766048504,0.29739776951672864,0.6414904330312186,0.15609756097560976,0.5192850423330198,0.4276729559748428,0.2549728752260398,0.2613156306578153,0.3460648148148148,0.38881491344873503,0.3872832369942196,0.15053763440860216,0.3118279569892473],\"yaxis\":\"y\",\"type\":\"bar\"},{\"alignmentgroup\":\"True\",\"customdata\":[[3033],[2372],[8652],[1073],[3016],[3565],[1519],[3752],[1316],[903],[3589],[1425],[1318],[323],[226],[320]],\"hovertemplate\":\"Metric=Recall\\u003cbr\\u003eClass=%{x}\\u003cbr\\u003eScore=%{y}\\u003cbr\\u003eSupport=%{customdata[0]}\\u003cextra\\u003e\\u003c\\u002fextra\\u003e\",\"legendgroup\":\"Recall\",\"marker\":{\"color\":\"#EF553B\",\"pattern\":{\"shape\":\"\"}},\"name\":\"Recall\",\"offsetgroup\":\"Recall\",\"orientation\":\"v\",\"showlegend\":true,\"textposition\":\"auto\",\"x\":[0,1,2,3,4,5,6,7,8,9,10,11,12,13,14,15],\"xaxis\":\"x\",\"y\":[0.7748104187273327,0.1572512647554806,0.6187008784096163,0.18452935694315004,0.23872679045092837,0.714726507713885,0.08426596445029624,0.7356076759061834,0.3617021276595745,0.15614617940199335,0.24129283923098357,0.20982456140350877,0.22154779969650987,0.20743034055727555,0.061946902654867256,0.090625],\"yaxis\":\"y\",\"type\":\"bar\"},{\"alignmentgroup\":\"True\",\"customdata\":[[3033],[2372],[8652],[1073],[3016],[3565],[1519],[3752],[1316],[903],[3589],[1425],[1318],[323],[226],[320]],\"hovertemplate\":\"Metric=F1-Score\\u003cbr\\u003eClass=%{x}\\u003cbr\\u003eScore=%{y}\\u003cbr\\u003eSupport=%{customdata[0]}\\u003cextra\\u003e\\u003c\\u002fextra\\u003e\",\"legendgroup\":\"F1-Score\",\"marker\":{\"color\":\"#00cc96\",\"pattern\":{\"shape\":\"\"}},\"name\":\"F1-Score\",\"offsetgroup\":\"F1-Score\",\"orientation\":\"v\",\"showlegend\":true,\"textposition\":\"auto\",\"x\":[0,1,2,3,4,5,6,7,8,9,10,11,12,13,14,15],\"xaxis\":\"x\",\"y\":[0.7443775736458663,0.18767295597484276,0.5356481713113523,0.22322435174746336,0.2648519404083134,0.6761310866392464,0.10944848225737494,0.6088011470166538,0.3919308357348703,0.1936813186813187,0.25090540344777634,0.26124945391000437,0.28226196230062833,0.2701612903225806,0.0877742946708464,0.14043583535108958],\"yaxis\":\"y\",\"type\":\"bar\"}],                        {\"template\":{\"data\":{\"histogram2dcontour\":[{\"type\":\"histogram2dcontour\",\"colorbar\":{\"outlinewidth\":0,\"ticks\":\"\"},\"colorscale\":[[0.0,\"#0d0887\"],[0.1111111111111111,\"#46039f\"],[0.2222222222222222,\"#7201a8\"],[0.3333333333333333,\"#9c179e\"],[0.4444444444444444,\"#bd3786\"],[0.5555555555555556,\"#d8576b\"],[0.6666666666666666,\"#ed7953\"],[0.7777777777777778,\"#fb9f3a\"],[0.8888888888888888,\"#fdca26\"],[1.0,\"#f0f921\"]]}],\"choropleth\":[{\"type\":\"choropleth\",\"colorbar\":{\"outlinewidth\":0,\"ticks\":\"\"}}],\"histogram2d\":[{\"type\":\"histogram2d\",\"colorbar\":{\"outlinewidth\":0,\"ticks\":\"\"},\"colorscale\":[[0.0,\"#0d0887\"],[0.1111111111111111,\"#46039f\"],[0.2222222222222222,\"#7201a8\"],[0.3333333333333333,\"#9c179e\"],[0.4444444444444444,\"#bd3786\"],[0.5555555555555556,\"#d8576b\"],[0.6666666666666666,\"#ed7953\"],[0.7777777777777778,\"#fb9f3a\"],[0.8888888888888888,\"#fdca26\"],[1.0,\"#f0f921\"]]}],\"heatmap\":[{\"type\":\"heatmap\",\"colorbar\":{\"outlinewidth\":0,\"ticks\":\"\"},\"colorscale\":[[0.0,\"#0d0887\"],[0.1111111111111111,\"#46039f\"],[0.2222222222222222,\"#7201a8\"],[0.3333333333333333,\"#9c179e\"],[0.4444444444444444,\"#bd3786\"],[0.5555555555555556,\"#d8576b\"],[0.6666666666666666,\"#ed7953\"],[0.7777777777777778,\"#fb9f3a\"],[0.8888888888888888,\"#fdca26\"],[1.0,\"#f0f921\"]]}],\"heatmapgl\":[{\"type\":\"heatmapgl\",\"colorbar\":{\"outlinewidth\":0,\"ticks\":\"\"},\"colorscale\":[[0.0,\"#0d0887\"],[0.1111111111111111,\"#46039f\"],[0.2222222222222222,\"#7201a8\"],[0.3333333333333333,\"#9c179e\"],[0.4444444444444444,\"#bd3786\"],[0.5555555555555556,\"#d8576b\"],[0.6666666666666666,\"#ed7953\"],[0.7777777777777778,\"#fb9f3a\"],[0.8888888888888888,\"#fdca26\"],[1.0,\"#f0f921\"]]}],\"contourcarpet\":[{\"type\":\"contourcarpet\",\"colorbar\":{\"outlinewidth\":0,\"ticks\":\"\"}}],\"contour\":[{\"type\":\"contour\",\"colorbar\":{\"outlinewidth\":0,\"ticks\":\"\"},\"colorscale\":[[0.0,\"#0d0887\"],[0.1111111111111111,\"#46039f\"],[0.2222222222222222,\"#7201a8\"],[0.3333333333333333,\"#9c179e\"],[0.4444444444444444,\"#bd3786\"],[0.5555555555555556,\"#d8576b\"],[0.6666666666666666,\"#ed7953\"],[0.7777777777777778,\"#fb9f3a\"],[0.8888888888888888,\"#fdca26\"],[1.0,\"#f0f921\"]]}],\"surface\":[{\"type\":\"surface\",\"colorbar\":{\"outlinewidth\":0,\"ticks\":\"\"},\"colorscale\":[[0.0,\"#0d0887\"],[0.1111111111111111,\"#46039f\"],[0.2222222222222222,\"#7201a8\"],[0.3333333333333333,\"#9c179e\"],[0.4444444444444444,\"#bd3786\"],[0.5555555555555556,\"#d8576b\"],[0.6666666666666666,\"#ed7953\"],[0.7777777777777778,\"#fb9f3a\"],[0.8888888888888888,\"#fdca26\"],[1.0,\"#f0f921\"]]}],\"mesh3d\":[{\"type\":\"mesh3d\",\"colorbar\":{\"outlinewidth\":0,\"ticks\":\"\"}}],\"scatter\":[{\"marker\":{\"line\":{\"color\":\"#283442\"}},\"type\":\"scatter\"}],\"parcoords\":[{\"type\":\"parcoords\",\"line\":{\"colorbar\":{\"outlinewidth\":0,\"ticks\":\"\"}}}],\"scatterpolargl\":[{\"type\":\"scatterpolargl\",\"marker\":{\"colorbar\":{\"outlinewidth\":0,\"ticks\":\"\"}}}],\"bar\":[{\"error_x\":{\"color\":\"#f2f5fa\"},\"error_y\":{\"color\":\"#f2f5fa\"},\"marker\":{\"line\":{\"color\":\"rgb(17,17,17)\",\"width\":0.5},\"pattern\":{\"fillmode\":\"overlay\",\"size\":10,\"solidity\":0.2}},\"type\":\"bar\"}],\"scattergeo\":[{\"type\":\"scattergeo\",\"marker\":{\"colorbar\":{\"outlinewidth\":0,\"ticks\":\"\"}}}],\"scatterpolar\":[{\"type\":\"scatterpolar\",\"marker\":{\"colorbar\":{\"outlinewidth\":0,\"ticks\":\"\"}}}],\"histogram\":[{\"marker\":{\"pattern\":{\"fillmode\":\"overlay\",\"size\":10,\"solidity\":0.2}},\"type\":\"histogram\"}],\"scattergl\":[{\"marker\":{\"line\":{\"color\":\"#283442\"}},\"type\":\"scattergl\"}],\"scatter3d\":[{\"type\":\"scatter3d\",\"line\":{\"colorbar\":{\"outlinewidth\":0,\"ticks\":\"\"}},\"marker\":{\"colorbar\":{\"outlinewidth\":0,\"ticks\":\"\"}}}],\"scattermapbox\":[{\"type\":\"scattermapbox\",\"marker\":{\"colorbar\":{\"outlinewidth\":0,\"ticks\":\"\"}}}],\"scatterternary\":[{\"type\":\"scatterternary\",\"marker\":{\"colorbar\":{\"outlinewidth\":0,\"ticks\":\"\"}}}],\"scattercarpet\":[{\"type\":\"scattercarpet\",\"marker\":{\"colorbar\":{\"outlinewidth\":0,\"ticks\":\"\"}}}],\"carpet\":[{\"aaxis\":{\"endlinecolor\":\"#A2B1C6\",\"gridcolor\":\"#506784\",\"linecolor\":\"#506784\",\"minorgridcolor\":\"#506784\",\"startlinecolor\":\"#A2B1C6\"},\"baxis\":{\"endlinecolor\":\"#A2B1C6\",\"gridcolor\":\"#506784\",\"linecolor\":\"#506784\",\"minorgridcolor\":\"#506784\",\"startlinecolor\":\"#A2B1C6\"},\"type\":\"carpet\"}],\"table\":[{\"cells\":{\"fill\":{\"color\":\"#506784\"},\"line\":{\"color\":\"rgb(17,17,17)\"}},\"header\":{\"fill\":{\"color\":\"#2a3f5f\"},\"line\":{\"color\":\"rgb(17,17,17)\"}},\"type\":\"table\"}],\"barpolar\":[{\"marker\":{\"line\":{\"color\":\"rgb(17,17,17)\",\"width\":0.5},\"pattern\":{\"fillmode\":\"overlay\",\"size\":10,\"solidity\":0.2}},\"type\":\"barpolar\"}],\"pie\":[{\"automargin\":true,\"type\":\"pie\"}]},\"layout\":{\"autotypenumbers\":\"strict\",\"colorway\":[\"#636efa\",\"#EF553B\",\"#00cc96\",\"#ab63fa\",\"#FFA15A\",\"#19d3f3\",\"#FF6692\",\"#B6E880\",\"#FF97FF\",\"#FECB52\"],\"font\":{\"color\":\"#f2f5fa\"},\"hovermode\":\"closest\",\"hoverlabel\":{\"align\":\"left\"},\"paper_bgcolor\":\"rgb(17,17,17)\",\"plot_bgcolor\":\"rgb(17,17,17)\",\"polar\":{\"bgcolor\":\"rgb(17,17,17)\",\"angularaxis\":{\"gridcolor\":\"#506784\",\"linecolor\":\"#506784\",\"ticks\":\"\"},\"radialaxis\":{\"gridcolor\":\"#506784\",\"linecolor\":\"#506784\",\"ticks\":\"\"}},\"ternary\":{\"bgcolor\":\"rgb(17,17,17)\",\"aaxis\":{\"gridcolor\":\"#506784\",\"linecolor\":\"#506784\",\"ticks\":\"\"},\"baxis\":{\"gridcolor\":\"#506784\",\"linecolor\":\"#506784\",\"ticks\":\"\"},\"caxis\":{\"gridcolor\":\"#506784\",\"linecolor\":\"#506784\",\"ticks\":\"\"}},\"coloraxis\":{\"colorbar\":{\"outlinewidth\":0,\"ticks\":\"\"}},\"colorscale\":{\"sequential\":[[0.0,\"#0d0887\"],[0.1111111111111111,\"#46039f\"],[0.2222222222222222,\"#7201a8\"],[0.3333333333333333,\"#9c179e\"],[0.4444444444444444,\"#bd3786\"],[0.5555555555555556,\"#d8576b\"],[0.6666666666666666,\"#ed7953\"],[0.7777777777777778,\"#fb9f3a\"],[0.8888888888888888,\"#fdca26\"],[1.0,\"#f0f921\"]],\"sequentialminus\":[[0.0,\"#0d0887\"],[0.1111111111111111,\"#46039f\"],[0.2222222222222222,\"#7201a8\"],[0.3333333333333333,\"#9c179e\"],[0.4444444444444444,\"#bd3786\"],[0.5555555555555556,\"#d8576b\"],[0.6666666666666666,\"#ed7953\"],[0.7777777777777778,\"#fb9f3a\"],[0.8888888888888888,\"#fdca26\"],[1.0,\"#f0f921\"]],\"diverging\":[[0,\"#8e0152\"],[0.1,\"#c51b7d\"],[0.2,\"#de77ae\"],[0.3,\"#f1b6da\"],[0.4,\"#fde0ef\"],[0.5,\"#f7f7f7\"],[0.6,\"#e6f5d0\"],[0.7,\"#b8e186\"],[0.8,\"#7fbc41\"],[0.9,\"#4d9221\"],[1,\"#276419\"]]},\"xaxis\":{\"gridcolor\":\"#283442\",\"linecolor\":\"#506784\",\"ticks\":\"\",\"title\":{\"standoff\":15},\"zerolinecolor\":\"#283442\",\"automargin\":true,\"zerolinewidth\":2},\"yaxis\":{\"gridcolor\":\"#283442\",\"linecolor\":\"#506784\",\"ticks\":\"\",\"title\":{\"standoff\":15},\"zerolinecolor\":\"#283442\",\"automargin\":true,\"zerolinewidth\":2},\"scene\":{\"xaxis\":{\"backgroundcolor\":\"rgb(17,17,17)\",\"gridcolor\":\"#506784\",\"linecolor\":\"#506784\",\"showbackground\":true,\"ticks\":\"\",\"zerolinecolor\":\"#C8D4E3\",\"gridwidth\":2},\"yaxis\":{\"backgroundcolor\":\"rgb(17,17,17)\",\"gridcolor\":\"#506784\",\"linecolor\":\"#506784\",\"showbackground\":true,\"ticks\":\"\",\"zerolinecolor\":\"#C8D4E3\",\"gridwidth\":2},\"zaxis\":{\"backgroundcolor\":\"rgb(17,17,17)\",\"gridcolor\":\"#506784\",\"linecolor\":\"#506784\",\"showbackground\":true,\"ticks\":\"\",\"zerolinecolor\":\"#C8D4E3\",\"gridwidth\":2}},\"shapedefaults\":{\"line\":{\"color\":\"#f2f5fa\"}},\"annotationdefaults\":{\"arrowcolor\":\"#f2f5fa\",\"arrowhead\":0,\"arrowwidth\":1},\"geo\":{\"bgcolor\":\"rgb(17,17,17)\",\"landcolor\":\"rgb(17,17,17)\",\"subunitcolor\":\"#506784\",\"showland\":true,\"showlakes\":true,\"lakecolor\":\"rgb(17,17,17)\"},\"title\":{\"x\":0.05},\"updatemenudefaults\":{\"bgcolor\":\"#506784\",\"borderwidth\":0},\"sliderdefaults\":{\"bgcolor\":\"#C8D4E3\",\"borderwidth\":1,\"bordercolor\":\"rgb(17,17,17)\",\"tickwidth\":0},\"mapbox\":{\"style\":\"dark\"}}},\"xaxis\":{\"anchor\":\"y\",\"domain\":[0.0,1.0],\"title\":{\"text\":\"Class\"}},\"yaxis\":{\"anchor\":\"x\",\"domain\":[0.0,1.0],\"title\":{\"text\":\"Score\"}},\"legend\":{\"title\":{\"text\":\"Metric\"},\"tracegroupgap\":0},\"title\":{\"text\":\"Performance Metrics per Class\"},\"barmode\":\"group\"},                        {\"responsive\": true}                    ).then(function(){\n",
       "                            \n",
       "var gd = document.getElementById('7c8648b4-31dc-4d1d-bd4a-1c6cadb77360');\n",
       "var x = new MutationObserver(function (mutations, observer) {{\n",
       "        var display = window.getComputedStyle(gd).display;\n",
       "        if (!display || display === 'none') {{\n",
       "            console.log([gd, 'removed!']);\n",
       "            Plotly.purge(gd);\n",
       "            observer.disconnect();\n",
       "        }}\n",
       "}});\n",
       "\n",
       "// Listen for the removal of the full notebook cells\n",
       "var notebookContainer = gd.closest('#notebook-container');\n",
       "if (notebookContainer) {{\n",
       "    x.observe(notebookContainer, {childList: true});\n",
       "}}\n",
       "\n",
       "// Listen for the clearing of the current output cell\n",
       "var outputEl = gd.closest('.output');\n",
       "if (outputEl) {{\n",
       "    x.observe(outputEl, {childList: true});\n",
       "}}\n",
       "\n",
       "                        })                };                });            </script>        </div>"
      ]
     },
     "metadata": {},
     "output_type": "display_data"
    }
   ],
   "source": [
    "# Calculate performance metrics per class\n",
    "from sklearn.metrics import precision_recall_fscore_support\n",
    "\n",
    "precision, recall, f1, support = precision_recall_fscore_support(test_labels, test_pred)\n",
    "\n",
    "# Create a dataframe with the metrics\n",
    "class_performance = pd.DataFrame({\n",
    "    'Class': np.unique(test_labels),\n",
    "    'Precision': precision,\n",
    "    'Recall': recall,\n",
    "    'F1-Score': f1,\n",
    "    'Support': support\n",
    "})\n",
    "\n",
    "# Plot performance metrics per class\n",
    "fig = px.bar(class_performance.melt(id_vars=['Class', 'Support'], \n",
    "                                    value_vars=['Precision', 'Recall', 'F1-Score']),\n",
    "             x='Class', y='value', color='variable',\n",
    "             barmode='group', title='Performance Metrics per Class',\n",
    "             labels={'value': 'Score', 'variable': 'Metric'},\n",
    "             hover_data=['Support'])\n",
    "fig.show()\n"
   ]
  },
  {
   "metadata": {},
   "cell_type": "markdown",
   "source": "## Generate Predictions for test.txt using Node2Vec\n",
   "id": "d7e213263adfade3"
  },
  {
   "metadata": {
    "ExecuteTime": {
     "end_time": "2025-05-10T11:58:18.631302Z",
     "start_time": "2025-05-10T11:58:17.972908Z"
    }
   },
   "cell_type": "code",
   "source": [
    "# Load product IDs from test.txt\n",
    "print(\"Loading product IDs from test.txt...\")\n",
    "test_txt_products = []\n",
    "with open(\"test.txt\", \"r\") as f:\n",
    "    for line in f:\n",
    "        t = line.split(',')\n",
    "        test_txt_products.append(int(t[0]))\n",
    "\n",
    "print(f\"Loaded {len(test_txt_products)} product IDs from test.txt\")\n",
    "\n",
    "# Generate Node2Vec embeddings for test.txt products\n",
    "print(\"Generating Node2Vec embeddings for test.txt products...\")\n",
    "test_txt_node2vec_features = np.zeros((len(test_txt_products), 64))\n",
    "\n",
    "# Extract embeddings for test.txt products\n",
    "for i, node_id in enumerate(test_txt_products):\n",
    "    try:\n",
    "        test_txt_node2vec_features[i] = n2v_model.wv[str(node_id)]\n",
    "    except KeyError:\n",
    "        # If node not in embeddings, use zeros\n",
    "        pass\n",
    "\n",
    "print(f\"Node2Vec embeddings shape for test.txt products: {test_txt_node2vec_features.shape}\")\n",
    "\n",
    "# Scale the embeddings using the same scaler used for training\n",
    "test_txt_node2vec_scaled = n2v_scaler.transform(test_txt_node2vec_features)\n",
    "\n",
    "# Make predictions using the trained Node2Vec XGBoost model\n",
    "print(\"Making predictions for test.txt products...\")\n",
    "test_txt_pred_proba = n2v_xgb_model.predict_proba(test_txt_node2vec_scaled)\n",
    "\n",
    "# Create a DataFrame with the predictions\n",
    "print(\"Creating CSV with predictions...\")\n",
    "predictions_df = pd.DataFrame()\n",
    "predictions_df['product'] = test_txt_products\n",
    "\n",
    "# Add probability columns for each class\n",
    "for i in range(len(n2v_xgb_model.classes_)):\n",
    "    predictions_df[f'class{i}'] = test_txt_pred_proba[:, i].round(4)\n",
    "\n",
    "# Save predictions to CSV\n",
    "predictions_df.to_csv('node2vec_predictions.csv', index=False)\n",
    "print(f\"Predictions saved to node2vec_predictions.csv\")\n",
    "\n",
    "# Display the first few rows of the predictions\n",
    "print(\"\\nSample of predictions:\")\n",
    "print(predictions_df.head())\n"
   ],
   "id": "2bff1ba7455c5a3",
   "outputs": [
    {
     "name": "stdout",
     "output_type": "stream",
     "text": [
      "Loading product IDs from test.txt...\n",
      "Loaded 45502 product IDs from test.txt\n",
      "Generating Node2Vec embeddings for test.txt products...\n",
      "Node2Vec embeddings shape for test.txt products: (45502, 64)\n",
      "Making predictions for test.txt products...\n",
      "Creating CSV with predictions...\n",
      "Predictions saved to node2vec_predictions.csv\n",
      "\n",
      "Sample of predictions:\n",
      "   product  class0  class1  class2  class3  class4  class5  class6  class7  \\\n",
      "0    49957  0.0042  0.0065  0.0131  0.0004  0.0033  0.0770  0.0159  0.0077   \n",
      "1   135386  0.0033  0.0092  0.0242  0.0011  0.0094  0.0261  0.0058  0.0557   \n",
      "2   226880  0.0008  0.0007  0.9911  0.0001  0.0042  0.0001  0.0002  0.0009   \n",
      "3   165114  0.0008  0.0053  0.0142  0.0003  0.0051  0.0005  0.0025  0.0089   \n",
      "4   256154  0.0010  0.0024  0.8493  0.0003  0.0008  0.0003  0.0007  0.0038   \n",
      "\n",
      "   class8  class9  class10  class11  class12  class13  class14  class15  \n",
      "0  0.0009  0.0005   0.8657   0.0010   0.0010   0.0014   0.0003   0.0010  \n",
      "1  0.0043  0.8242   0.0208   0.0049   0.0016   0.0075   0.0006   0.0012  \n",
      "2  0.0001  0.0001   0.0010   0.0002   0.0001   0.0001   0.0001   0.0001  \n",
      "3  0.0017  0.0004   0.9571   0.0009   0.0008   0.0007   0.0001   0.0005  \n",
      "4  0.0003  0.0003   0.0012   0.0021   0.1365   0.0003   0.0003   0.0003  \n"
     ]
    }
   ],
   "execution_count": 8
  }
 ],
 "metadata": {
  "kernelspec": {
   "display_name": "Python 3 (ipykernel)",
   "language": "python",
   "name": "python3"
  },
  "language_info": {
   "codemirror_mode": {
    "name": "ipython",
    "version": 3
   },
   "file_extension": ".py",
   "mimetype": "text/x-python",
   "name": "python",
   "nbconvert_exporter": "python",
   "pygments_lexer": "ipython3",
   "version": "3.10.12"
  }
 },
 "nbformat": 4,
 "nbformat_minor": 5
}
